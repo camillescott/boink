{
 "cells": [
  {
   "cell_type": "markdown",
   "metadata": {},
   "source": [
    "## Streaming Sourmash\n",
    "\n",
    "This notebook demonstrates how to use boink to perform a streaming analysis of sourmash minhash signatures. Boink includes the sourmash C++ header and exposes it with cpppy, and wraps it so it can be used with boink's sequence processors. This enables a simple way to perform fast streaming signature analysis in Python."
   ]
  },
  {
   "cell_type": "code",
   "execution_count": 1,
   "metadata": {},
   "outputs": [],
   "source": [
    "# First, import the necessary libraries"
   ]
  },
  {
   "cell_type": "code",
   "execution_count": 1,
   "metadata": {},
   "outputs": [],
   "source": [
    "from boink import libboink\n",
    "from boink.signatures import SourmashSignature\n",
    "\n",
    "from sourmash import load_one_signature, MinHash\n",
    "import screed"
   ]
  },
  {
   "cell_type": "markdown",
   "metadata": {},
   "source": [
    "The boink `SourmashSignature.Signature` is derived from `KmerMinHash`, and so follows the same interface. This signature will contain 10000 hashes at a $K$ of 31."
   ]
  },
  {
   "cell_type": "code",
   "execution_count": 2,
   "metadata": {},
   "outputs": [],
   "source": [
    "all_signature = SourmashSignature.Signature.build(10000, 31, False, 42, 0)"
   ]
  },
  {
   "cell_type": "markdown",
   "metadata": {},
   "source": [
    "`SourmashSignature` contains its own sequence processor. This processor is iterable; it will process the given sequences in chunks given by `fine_interval`. The default fine interval is 10000. Alternatively, we can call `process` to consume the entire sample."
   ]
  },
  {
   "cell_type": "code",
   "execution_count": 3,
   "metadata": {},
   "outputs": [],
   "source": [
    "processor = SourmashSignature.Processor.build(all_signature)"
   ]
  },
  {
   "cell_type": "markdown",
   "metadata": {},
   "source": [
    "Let's get some data. We'll start with something small, an ecoli sequencing run."
   ]
  },
  {
   "cell_type": "code",
   "execution_count": 5,
   "metadata": {},
   "outputs": [
    {
     "name": "stdout",
     "output_type": "stream",
     "text": [
      "  % Total    % Received % Xferd  Average Speed   Time    Time     Time  Current\n",
      "                                 Dload  Upload   Total   Spent    Left  Speed\n",
      "100  119M  100  119M    0     0  7030k      0  0:00:17  0:00:17 --:--:-- 8832k\n"
     ]
    }
   ],
   "source": [
    "!curl -L ftp://ftp.sra.ebi.ac.uk/vol1/fastq/ERR434/ERR434643/ERR434643_1.fastq.gz | gunzip -c > ERR434643_1.fastq"
   ]
  },
  {
   "cell_type": "code",
   "execution_count": 6,
   "metadata": {},
   "outputs": [
    {
     "name": "stdout",
     "output_type": "stream",
     "text": [
      "  % Total    % Received % Xferd  Average Speed   Time    Time     Time  Current\n",
      "                                 Dload  Upload   Total   Spent    Left  Speed\n",
      "100  122M  100  122M    0     0  6846k      0  0:00:18  0:00:18 --:--:-- 9119k\n"
     ]
    }
   ],
   "source": [
    "!curl -L ftp://ftp.sra.ebi.ac.uk/vol1/fastq/ERR434/ERR434643/ERR434643_2.fastq.gz | gunzip -c > ERR434643_2.fastq"
   ]
  },
  {
   "cell_type": "markdown",
   "metadata": {},
   "source": [
    "The processor can handle single or paired mode natively. There's nothing special to be done with paired reads for sourmash, so the paired mode just consumes each sequence in the pair one after the other. This is a full sequencing run of ~3.5 million sequences; it should take about a minute to consume."
   ]
  },
  {
   "cell_type": "code",
   "execution_count": 4,
   "metadata": {},
   "outputs": [
    {
     "name": "stdout",
     "output_type": "stream",
     "text": [
      "CPU times: user 33.4 s, sys: 353 ms, total: 33.7 s\n",
      "Wall time: 33.6 s\n"
     ]
    },
    {
     "data": {
      "text/plain": [
       "3714646"
      ]
     },
     "execution_count": 4,
     "metadata": {},
     "output_type": "execute_result"
    }
   ],
   "source": [
    "%time processor.process('ERR434643_1.fastq', 'ERR434643_2.fastq')"
   ]
  },
  {
   "cell_type": "markdown",
   "metadata": {},
   "source": [
    "If sourmash is installed, we can convert the signature to a `sourmash.MinHash` object to do further analysis."
   ]
  },
  {
   "cell_type": "code",
   "execution_count": 5,
   "metadata": {},
   "outputs": [],
   "source": [
    "all_mh = all_signature.to_sourmash()"
   ]
  },
  {
   "cell_type": "code",
   "execution_count": 6,
   "metadata": {},
   "outputs": [
    {
     "data": {
      "text/plain": [
       "<sourmash._minhash.MinHash at 0x7f69a4362530>"
      ]
     },
     "execution_count": 6,
     "metadata": {},
     "output_type": "execute_result"
    }
   ],
   "source": [
    "all_mh"
   ]
  },
  {
   "cell_type": "code",
   "execution_count": 7,
   "metadata": {},
   "outputs": [],
   "source": [
    "sig = MinHash(10000, 31)\n",
    "for record in screed.open('ERR434643_1.fastq'):\n",
    "    try:\n",
    "        sig.add_sequence(record.sequence)\n",
    "    except:\n",
    "        pass\n",
    "for record in screed.open('ERR434643_2.fastq'):\n",
    "    try:\n",
    "        sig.add_sequence(record.sequence)\n",
    "    except:\n",
    "        pass"
   ]
  },
  {
   "cell_type": "code",
   "execution_count": 8,
   "metadata": {},
   "outputs": [
    {
     "data": {
      "text/plain": [
       "1.0"
      ]
     },
     "execution_count": 8,
     "metadata": {},
     "output_type": "execute_result"
    }
   ],
   "source": [
    "sig.similarity(all_mh)"
   ]
  },
  {
   "cell_type": "markdown",
   "metadata": {},
   "source": [
    "Now let's do it in chunked mode. We'll print info on the medium interval, which is contained in the state object."
   ]
  },
  {
   "cell_type": "code",
   "execution_count": 10,
   "metadata": {},
   "outputs": [
    {
     "name": "stdout",
     "output_type": "stream",
     "text": [
      "Processed 100000 sequences.\n",
      "Processed 200000 sequences.\n",
      "Processed 300000 sequences.\n",
      "Processed 400000 sequences.\n",
      "Processed 500000 sequences.\n",
      "Processed 600000 sequences.\n",
      "Processed 700000 sequences.\n",
      "Processed 800000 sequences.\n",
      "Processed 900000 sequences.\n",
      "Processed 1000000 sequences.\n",
      "Processed 1100000 sequences.\n",
      "Processed 1200000 sequences.\n",
      "Processed 1300000 sequences.\n",
      "Processed 1400000 sequences.\n",
      "Processed 1500000 sequences.\n",
      "Processed 1600000 sequences.\n",
      "Processed 1700000 sequences.\n",
      "Processed 1800000 sequences.\n",
      "Processed 1900000 sequences.\n",
      "Processed 2000000 sequences.\n",
      "Processed 2100000 sequences.\n",
      "Processed 2200000 sequences.\n",
      "Processed 2300000 sequences.\n",
      "Processed 2400000 sequences.\n",
      "Processed 2500000 sequences.\n",
      "Processed 2600000 sequences.\n",
      "Processed 2700000 sequences.\n",
      "Processed 2800000 sequences.\n",
      "Processed 2900000 sequences.\n",
      "Processed 3000000 sequences.\n",
      "Processed 3100000 sequences.\n",
      "Processed 3200000 sequences.\n",
      "Processed 3300000 sequences.\n",
      "Processed 3400000 sequences.\n",
      "Processed 3500000 sequences.\n",
      "Processed 3600000 sequences.\n",
      "Processed 3700000 sequences.\n"
     ]
    }
   ],
   "source": [
    "chunked_signature = SourmashSignature.Signature.build(10000, 31, False, 42, 0)\n",
    "processor = SourmashSignature.Processor.build(chunked_signature)\n",
    "\n",
    "for n_reads, state in processor.chunked_process('ERR434643_1.fastq', 'ERR434643_2.fastq'):\n",
    "    if state.medium:\n",
    "        print('Processed', n_reads, 'sequences.')"
   ]
  },
  {
   "cell_type": "markdown",
   "metadata": {},
   "source": [
    "The similarity should be exact..."
   ]
  },
  {
   "cell_type": "code",
   "execution_count": 11,
   "metadata": {},
   "outputs": [
    {
     "data": {
      "text/plain": [
       "1.0"
      ]
     },
     "execution_count": 11,
     "metadata": {},
     "output_type": "execute_result"
    }
   ],
   "source": [
    "chunked_mh = chunked_signature.to_sourmash()\n",
    "chunked_mh.similarity(all_mh)"
   ]
  },
  {
   "cell_type": "markdown",
   "metadata": {},
   "source": [
    "Now, using the chunked processor for reporting is a bit boring. A more interesting use-case is is to track within-sample distances -- streaming analysis."
   ]
  },
  {
   "cell_type": "code",
   "execution_count": 15,
   "metadata": {},
   "outputs": [
    {
     "name": "stdout",
     "output_type": "stream",
     "text": [
      "250000 reads.\n",
      "500000 reads.\n",
      "750000 reads.\n",
      "1000000 reads.\n",
      "1250000 reads.\n",
      "1500000 reads.\n",
      "1750000 reads.\n",
      "2000000 reads.\n",
      "2250000 reads.\n",
      "2500000 reads.\n",
      "2750000 reads.\n",
      "3000000 reads.\n",
      "3250000 reads.\n",
      "3500000 reads.\n"
     ]
    }
   ],
   "source": [
    "distances = []\n",
    "times = []\n",
    "\n",
    "streaming_sig = SourmashSignature.Signature.build(10000, 31, False, 42, 0)\n",
    "# We'll set the medium_interval to 250000\n",
    "processor = SourmashSignature.Processor.build(streaming_sig, 10000, 250000)\n",
    "\n",
    "# Calculate a distance at each interval. The iterator is over fine chunks.\n",
    "prev_mh = None\n",
    "for n_reads, state in processor.chunked_process('ERR434643_1.fastq', 'ERR434643_2.fastq'):\n",
    "    curr_mh = streaming_sig.to_sourmash()\n",
    "    if prev_mh is not None:\n",
    "        distances.append(prev_mh.similarity(curr_mh))\n",
    "        times.append(n_reads)\n",
    "    prev_mh = curr_mh\n",
    "    \n",
    "    if state.medium:\n",
    "        print(n_reads, 'reads.')\n",
    "    "
   ]
  },
  {
   "cell_type": "code",
   "execution_count": 13,
   "metadata": {},
   "outputs": [],
   "source": [
    "from ficus import FigureManager\n",
    "import seaborn as sns\n",
    "import numpy as np"
   ]
  },
  {
   "cell_type": "code",
   "execution_count": 14,
   "metadata": {},
   "outputs": [
    {
     "data": {
      "image/png": "[encoded data removed]",
      "text/plain": [
       "<Figure size 864x576 with 1 Axes>"
      ]
     },
     "metadata": {
      "needs_background": "light"
     },
     "output_type": "display_data"
    }
   ],
   "source": [
    "with FigureManager(show=True, figsize=(12,8)) as (fig, ax):\n",
    "    sns.lineplot(times, distances, ax=ax)\n",
    "    ax.set_title('Streaming Minhash Distance')\n",
    "    ax.set_xlabel('Sequence')\n",
    "    ax.set_ylabel('Minhash (Jaccard) Similarity')"
   ]
  },
  {
   "cell_type": "code",
   "execution_count": null,
   "metadata": {},
   "outputs": [],
   "source": []
  }
 ],
 "metadata": {
  "kernelspec": {
   "display_name": "Python 3",
   "language": "python",
   "name": "python3"
  },
  "language_info": {
   "codemirror_mode": {
    "name": "ipython",
    "version": 3
   },
   "file_extension": ".py",
   "mimetype": "text/x-python",
   "name": "python",
   "nbconvert_exporter": "python",
   "pygments_lexer": "ipython3",
   "version": "3.7.3"
  }
 },
 "nbformat": 4,
 "nbformat_minor": 4
}
