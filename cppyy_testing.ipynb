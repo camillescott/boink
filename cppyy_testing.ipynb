{
 "cells": [
  {
   "cell_type": "code",
   "execution_count": 1,
   "metadata": {},
   "outputs": [],
   "source": [
    "from boink import libboink\n",
    "from boink.data import load_ukhs\n",
    "from boink.prometheus import Instrumentation\n",
    "from boink.assembly import Assembler\n",
    "from cppyy.gbl import std\n",
    "from cppyy import gbl\n",
    "import cppyy\n",
    "import difflib"
   ]
  },
  {
   "cell_type": "code",
   "execution_count": 2,
   "metadata": {},
   "outputs": [
    {
     "data": {
      "text/plain": [
       "True"
      ]
     },
     "execution_count": 2,
     "metadata": {},
     "output_type": "execute_result"
    }
   ],
   "source": [
    "cppyy.cppdef('''\n",
    "#include <exception>\n",
    "\n",
    "template <typename T>\n",
    "class TemplateThrows {\n",
    "public:\n",
    "    void throws(int i) {\n",
    "        throw std::exception();\n",
    "    }\n",
    "};\n",
    "\n",
    "template <typename T>\n",
    "class TemplateOverloadedThrows {\n",
    "public:\n",
    "    void throws(int i) {\n",
    "        throw std::exception();\n",
    "    }\n",
    "\n",
    "    void throws(double i) {\n",
    "        throw std::exception();\n",
    "    }\n",
    "};\n",
    "\n",
    "class OverloadedThrows {\n",
    "public:\n",
    "\n",
    "    void throws(double i) {\n",
    "        throw std::exception();\n",
    "    }\n",
    "    \n",
    "    void throws(int i) {\n",
    "        throw std::exception();\n",
    "    }\n",
    "\n",
    "\n",
    "\n",
    "};\n",
    "\n",
    "class RegularThrows {\n",
    "public:\n",
    "\n",
    "    void throws() {\n",
    "        throw std::exception();\n",
    "    }\n",
    "    \n",
    "};\n",
    "''')"
   ]
  },
  {
   "cell_type": "code",
   "execution_count": 4,
   "metadata": {},
   "outputs": [
    {
     "data": {
      "text/plain": [
       "True"
      ]
     },
     "execution_count": 4,
     "metadata": {},
     "output_type": "execute_result"
    }
   ],
   "source": [
    "cppyy.cppdef('''\n",
    "\n",
    "template <class Derived>\n",
    "class Base {\n",
    "\n",
    "int val;\n",
    "\n",
    "public:\n",
    "\n",
    "    int interface() {\n",
    "        return derived().implementation(val);\n",
    "    }\n",
    "\n",
    "private:\n",
    "\n",
    "    Base(int val) : val(val) {\n",
    "\n",
    "    }\n",
    "\n",
    "    friend Derived;\n",
    "\n",
    "    Derived& derived() {\n",
    "        return *static_cast<Derived*>(this);\n",
    "    }\n",
    "\n",
    "    const Derived& derived() const {\n",
    "        return *static_cast<const Derived*>(this);\n",
    "    }\n",
    "\n",
    "};\n",
    "\n",
    "class Impl : public Base<Impl> {\n",
    "public:\n",
    "    \n",
    "    Impl(int val)\n",
    "        : Base(val) {\n",
    "        \n",
    "    }\n",
    "    \n",
    "    int implementation(int val) {\n",
    "        return val * val;\n",
    "    }\n",
    "};\n",
    "\n",
    "''')"
   ]
  },
  {
   "cell_type": "code",
   "execution_count": 7,
   "metadata": {},
   "outputs": [
    {
     "data": {
      "text/plain": [
       "9"
      ]
     },
     "execution_count": 7,
     "metadata": {},
     "output_type": "execute_result"
    }
   ],
   "source": [
    "cppyy.gbl.Impl(3).interface()"
   ]
  },
  {
   "cell_type": "code",
   "execution_count": 7,
   "metadata": {},
   "outputs": [
    {
     "ename": "TypeError",
     "evalue": "none of the 2 overloaded methods succeeded. Full details:\n  void TemplateOverloadedThrows<int>::throws(int i) =>\n    TypeError: could not convert argument 1 (int/long conversion expects an integer object)\n  void TemplateOverloadedThrows<int>::throws(double i) =>\n    Exception: std::exception (C++ exception)",
     "output_type": "error",
     "traceback": [
      "\u001b[0;31m---------------------------------------------------------------------------\u001b[0m",
      "\u001b[0;31mTypeError\u001b[0m                                 Traceback (most recent call last)",
      "\u001b[0;32m<ipython-input-7-2a39326377e0>\u001b[0m in \u001b[0;36m<module>\u001b[0;34m\u001b[0m\n\u001b[0;32m----> 1\u001b[0;31m \u001b[0mgbl\u001b[0m\u001b[0;34m.\u001b[0m\u001b[0mTemplateOverloadedThrows\u001b[0m\u001b[0;34m[\u001b[0m\u001b[0mint\u001b[0m\u001b[0;34m]\u001b[0m\u001b[0;34m(\u001b[0m\u001b[0;34m)\u001b[0m\u001b[0;34m.\u001b[0m\u001b[0mthrows\u001b[0m\u001b[0;34m(\u001b[0m\u001b[0;36m1.\u001b[0m\u001b[0;34m)\u001b[0m\u001b[0;34m\u001b[0m\u001b[0;34m\u001b[0m\u001b[0m\n\u001b[0m",
      "\u001b[0;31mTypeError\u001b[0m: none of the 2 overloaded methods succeeded. Full details:\n  void TemplateOverloadedThrows<int>::throws(int i) =>\n    TypeError: could not convert argument 1 (int/long conversion expects an integer object)\n  void TemplateOverloadedThrows<int>::throws(double i) =>\n    Exception: std::exception (C++ exception)"
     ]
    }
   ],
   "source": [
    "gbl.TemplateOverloadedThrows[int]().throws(1.)"
   ]
  },
  {
   "cell_type": "code",
   "execution_count": 8,
   "metadata": {},
   "outputs": [
    {
     "ename": "Exception",
     "evalue": "none of the 2 overloaded methods succeeded. Full details:\n  void TemplateOverloadedThrows<int>::throws(int i) =>\n    Exception: std::exception (C++ exception)\n  void TemplateOverloadedThrows<int>::throws(double i) =>\n    Exception: std::exception (C++ exception)",
     "output_type": "error",
     "traceback": [
      "\u001b[0;31m---------------------------------------------------------------------------\u001b[0m",
      "\u001b[0;31mException\u001b[0m                                 Traceback (most recent call last)",
      "\u001b[0;32m<ipython-input-8-078af5665f41>\u001b[0m in \u001b[0;36m<module>\u001b[0;34m\u001b[0m\n\u001b[0;32m----> 1\u001b[0;31m \u001b[0mgbl\u001b[0m\u001b[0;34m.\u001b[0m\u001b[0mTemplateOverloadedThrows\u001b[0m\u001b[0;34m[\u001b[0m\u001b[0mint\u001b[0m\u001b[0;34m]\u001b[0m\u001b[0;34m(\u001b[0m\u001b[0;34m)\u001b[0m\u001b[0;34m.\u001b[0m\u001b[0mthrows\u001b[0m\u001b[0;34m(\u001b[0m\u001b[0;36m1\u001b[0m\u001b[0;34m)\u001b[0m\u001b[0;34m\u001b[0m\u001b[0;34m\u001b[0m\u001b[0m\n\u001b[0m",
      "\u001b[0;31mException\u001b[0m: none of the 2 overloaded methods succeeded. Full details:\n  void TemplateOverloadedThrows<int>::throws(int i) =>\n    Exception: std::exception (C++ exception)\n  void TemplateOverloadedThrows<int>::throws(double i) =>\n    Exception: std::exception (C++ exception)"
     ]
    }
   ],
   "source": [
    "gbl.TemplateOverloadedThrows[int]().throws(1)"
   ]
  },
  {
   "cell_type": "code",
   "execution_count": 4,
   "metadata": {},
   "outputs": [
    {
     "ename": "Exception",
     "evalue": "void TemplateThrows<int>::throws(int i) =>\n    Exception: std::exception (C++ exception)",
     "output_type": "error",
     "traceback": [
      "\u001b[0;31m---------------------------------------------------------------------------\u001b[0m",
      "\u001b[0;31mException\u001b[0m                                 Traceback (most recent call last)",
      "\u001b[0;32m<ipython-input-4-a281c7376c4e>\u001b[0m in \u001b[0;36m<module>\u001b[0;34m\u001b[0m\n\u001b[0;32m----> 1\u001b[0;31m \u001b[0mgbl\u001b[0m\u001b[0;34m.\u001b[0m\u001b[0mTemplateThrows\u001b[0m\u001b[0;34m[\u001b[0m\u001b[0mint\u001b[0m\u001b[0;34m]\u001b[0m\u001b[0;34m(\u001b[0m\u001b[0;34m)\u001b[0m\u001b[0;34m.\u001b[0m\u001b[0mthrows\u001b[0m\u001b[0;34m(\u001b[0m\u001b[0;36m1\u001b[0m\u001b[0;34m)\u001b[0m\u001b[0;34m\u001b[0m\u001b[0;34m\u001b[0m\u001b[0m\n\u001b[0m",
      "\u001b[0;31mException\u001b[0m: void TemplateThrows<int>::throws(int i) =>\n    Exception: std::exception (C++ exception)"
     ]
    }
   ],
   "source": [
    "gbl.TemplateThrows[int]().throws(1)"
   ]
  },
  {
   "cell_type": "code",
   "execution_count": 9,
   "metadata": {},
   "outputs": [
    {
     "name": "stdout",
     "output_type": "stream",
     "text": [
      "none of the 2 overloaded methods succeeded. Full details:\n",
      "  void OverloadedThrows::throws(int i) =>\n",
      "    TypeError: could not convert argument 1 (int/long conversion expects an integer object)\n",
      "  void OverloadedThrows::throws(double i) =>\n",
      "    Exception: std::exception (C++ exception)\n",
      "['__cause__', '__class__', '__context__', '__delattr__', '__dict__', '__dir__', '__doc__', '__eq__', '__format__', '__ge__', '__getattribute__', '__gt__', '__hash__', '__init__', '__init_subclass__', '__le__', '__lt__', '__ne__', '__new__', '__reduce__', '__reduce_ex__', '__repr__', '__setattr__', '__setstate__', '__sizeof__', '__str__', '__subclasshook__', '__suppress_context__', '__traceback__', 'args', 'with_traceback']\n",
      "('none of the 2 overloaded methods succeeded. Full details:\\n  void OverloadedThrows::throws(int i) =>\\n    TypeError: could not convert argument 1 (int/long conversion expects an integer object)\\n  void OverloadedThrows::throws(double i) =>\\n    Exception: std::exception (C++ exception)',)\n",
      "<class 'TypeError'>\n"
     ]
    }
   ],
   "source": [
    "try:\n",
    "    gbl.OverloadedThrows().throws(1.)\n",
    "except Exception as e:\n",
    "    print(e)\n",
    "    print(dir(e))\n",
    "    print(e.args)\n",
    "    print(type(e))"
   ]
  },
  {
   "cell_type": "code",
   "execution_count": 6,
   "metadata": {},
   "outputs": [
    {
     "ename": "Exception",
     "evalue": "void RegularThrows::throws() =>\n    Exception: std::exception (C++ exception)",
     "output_type": "error",
     "traceback": [
      "\u001b[0;31m---------------------------------------------------------------------------\u001b[0m",
      "\u001b[0;31mException\u001b[0m                                 Traceback (most recent call last)",
      "\u001b[0;32m<ipython-input-6-1e15cc5c0d14>\u001b[0m in \u001b[0;36m<module>\u001b[0;34m\u001b[0m\n\u001b[0;32m----> 1\u001b[0;31m \u001b[0mgbl\u001b[0m\u001b[0;34m.\u001b[0m\u001b[0mRegularThrows\u001b[0m\u001b[0;34m(\u001b[0m\u001b[0;34m)\u001b[0m\u001b[0;34m.\u001b[0m\u001b[0mthrows\u001b[0m\u001b[0;34m(\u001b[0m\u001b[0;34m)\u001b[0m\u001b[0;34m\u001b[0m\u001b[0;34m\u001b[0m\u001b[0m\n\u001b[0m",
      "\u001b[0;31mException\u001b[0m: void RegularThrows::throws() =>\n    Exception: std::exception (C++ exception)"
     ]
    }
   ],
   "source": [
    "gbl.RegularThrows().throws()"
   ]
  },
  {
   "cell_type": "code",
   "execution_count": 10,
   "metadata": {},
   "outputs": [],
   "source": [
    "s = 'AAAGTGTAGAAAAAAAAAAAAAAAAAAAAAGGGTTGGGGGGGGGTTT'"
   ]
  },
  {
   "cell_type": "code",
   "execution_count": 11,
   "metadata": {},
   "outputs": [],
   "source": [
    "G = std.make_shared[libboink.dBG[libboink.storage.SparseppSetStorage, libboink.hashing.RollingHashShifter]](31)"
   ]
  },
  {
   "cell_type": "code",
   "execution_count": 12,
   "metadata": {},
   "outputs": [],
   "source": [
    "instrumentation = Instrumentation('', expose=False)"
   ]
  },
  {
   "cell_type": "code",
   "execution_count": 13,
   "metadata": {},
   "outputs": [],
   "source": [
    "cptor = libboink.cdbg.StreamingCompactor[type(G)].Compactor.build(G, instrumentation.Registry)"
   ]
  },
  {
   "cell_type": "code",
   "execution_count": 14,
   "metadata": {},
   "outputs": [
    {
     "data": {
      "text/plain": [
       "17"
      ]
     },
     "execution_count": 14,
     "metadata": {},
     "output_type": "execute_result"
    }
   ],
   "source": [
    "G.insert_sequence(s)"
   ]
  },
  {
   "cell_type": "code",
   "execution_count": 15,
   "metadata": {},
   "outputs": [],
   "source": [
    "asm = Assembler(G)"
   ]
  },
  {
   "cell_type": "code",
   "execution_count": 18,
   "metadata": {},
   "outputs": [],
   "source": [
    "seed = std.string(s[:30])"
   ]
  },
  {
   "cell_type": "code",
   "execution_count": 19,
   "metadata": {},
   "outputs": [
    {
     "ename": "TypeError",
     "evalue": "cannot resolve method template call for 'set_cursor'",
     "output_type": "error",
     "traceback": [
      "\u001b[0;31m---------------------------------------------------------------------------\u001b[0m",
      "\u001b[0;31mTypeError\u001b[0m                                 Traceback (most recent call last)",
      "\u001b[0;32m<ipython-input-19-d68052fdb736>\u001b[0m in \u001b[0;36m<module>\u001b[0;34m\u001b[0m\n\u001b[0;32m----> 1\u001b[0;31m \u001b[0masm\u001b[0m\u001b[0;34m.\u001b[0m\u001b[0mtraverser\u001b[0m\u001b[0;34m.\u001b[0m\u001b[0mset_cursor\u001b[0m\u001b[0;34m(\u001b[0m\u001b[0mseed\u001b[0m\u001b[0;34m)\u001b[0m\u001b[0;34m\u001b[0m\u001b[0;34m\u001b[0m\u001b[0m\n\u001b[0m",
      "\u001b[0;31mTypeError\u001b[0m: cannot resolve method template call for 'set_cursor'"
     ]
    }
   ],
   "source": [
    "asm.traverser.set_cursor(seed)"
   ]
  },
  {
   "cell_type": "code",
   "execution_count": 9,
   "metadata": {},
   "outputs": [],
   "source": [
    "seq,  (r_state, r_end_hash) = asm.assemble_right(s[:31])"
   ]
  },
  {
   "cell_type": "code",
   "execution_count": 10,
   "metadata": {},
   "outputs": [
    {
     "data": {
      "text/plain": [
       "'AAAAAAAAAAAAAAAGAAAGTGTAGAAAAAAGGTTGGGGGGGGGTTT'"
      ]
     },
     "execution_count": 10,
     "metadata": {},
     "output_type": "execute_result"
    }
   ],
   "source": [
    "seq"
   ]
  },
  {
   "cell_type": "code",
   "execution_count": 13,
   "metadata": {},
   "outputs": [
    {
     "data": {
      "text/plain": [
       "True"
      ]
     },
     "execution_count": 13,
     "metadata": {},
     "output_type": "execute_result"
    }
   ],
   "source": [
    "state == libboink.TraversalState.STOP_FWD"
   ]
  },
  {
   "cell_type": "code",
   "execution_count": 24,
   "metadata": {},
   "outputs": [
    {
     "data": {
      "text/plain": [
       "'TGTCGGGCAAGAGAAGTGCTCGCCATAAACGAGGGTGGACCTTTTCCTCCATGTTGGGGACAACTGCGCCGTCTGGGACCGGTAGAGTAAGGTCCCGCTC'"
      ]
     },
     "execution_count": 24,
     "metadata": {},
     "output_type": "execute_result"
    }
   ],
   "source": [
    "act[100:200]"
   ]
  },
  {
   "cell_type": "code",
   "execution_count": 25,
   "metadata": {},
   "outputs": [
    {
     "data": {
      "text/plain": [
       "'TGTCGGGCAAGAGAAGTGCTCGCCATAAACGAGGGTGGACCTTTTCCTCCGCCGATGTTGGGGACAACTGCTCTGGGACCGGTAGAGTAAGGTCCCGCTC'"
      ]
     },
     "execution_count": 25,
     "metadata": {},
     "output_type": "execute_result"
    }
   ],
   "source": [
    "exp[100:200]"
   ]
  },
  {
   "cell_type": "code",
   "execution_count": 13,
   "metadata": {},
   "outputs": [],
   "source": [
    "act = 'CCTCGGGATTGCATAGGTAAAATAGCATTAGCCAGCAGTTCGGCCTCGGAGCACCCTGTCACCCGCAAGGGCCATCGGTACGACAGGCAGCCGTAGTTATTGTCGGGCAAGAGAAGTGCTCGCCATAAACGAGGGTGGACCTTTTCCTCCATGTTGGGGACAACTGCGCCGTCTGGGACCGGTAGAGTAAGGTCCCGCTCCGGATATCGACGTCTGGGAAACGAGCCGCGTTACGGGTCTCCAATTTCGAACATCACATCACGAGTCGCTACCCTCATGAGCGCAACGGAGATGGTCGGATAGGAACCACAACTCTGCAGAAGTGAATTTATCAGTCGCCTAGACATATGTATTGCAGACTAAATCTGCTAGGTAAACTACCATGTTGCTCATGCACACGAATCATCGAAAAAATGGCGGAACTGTAAACAAGGTCCGCTTGTTTGCAAAATGTACCGGTCTAGCCGGCCCGAAGTCTCCCGATCGAAGTAATTAGAGCT'\n",
    "\n",
    "exp = 'CCTCGGGATTGCATAGGTAAAATAGCATTAGCCAGCAGTTCGGCCTCGGAGCACCCTGTCACCCGCAAGGGCCATCGGTACGACAGGCAGCCGTAGTTATTGTCGGGCAAGAGAAGTGCTCGCCATAAACGAGGGTGGACCTTTTCCTCCGCCGATGTTGGGGACAACTGCTCTGGGACCGGTAGAGTAAGGTCCCGCTCCGGATATCGACGTCTGGGAAACGAGCCGCGTTACGGGTCTCCAATTTCGAACATCACATCACGAGTCGCTACCCTCATGAGCGCAACGGAGATGGTCGGATAGGAACCACAACTCTGCAGAAGTGAATTTATCAGTCGCCTAGACATATGTATTGCAGACTAAATCTGCTAGGTAAACTACCATGTTGCTCATGCACACGAATCATCGAAAAAATGGCGGAACTGTAAACAAGGTCCGCTTGTTTGCAAAATGTACCGGTCTAGCCGGCCCGAAGTCTCCCGATCGAAGTAATTAGAGCT'"
   ]
  },
  {
   "cell_type": "code",
   "execution_count": 26,
   "metadata": {},
   "outputs": [
    {
     "name": "stdout",
     "output_type": "stream",
     "text": [
      "  T\n",
      "  G\n",
      "  T\n",
      "  C\n",
      "  G\n",
      "  G\n",
      "  G\n",
      "  C\n",
      "  A\n",
      "  A\n",
      "  G\n",
      "  A\n",
      "  G\n",
      "  A\n",
      "  A\n",
      "  G\n",
      "  T\n",
      "  G\n",
      "  C\n",
      "  T\n",
      "  C\n",
      "  G\n",
      "  C\n",
      "  C\n",
      "  A\n",
      "  T\n",
      "  A\n",
      "  A\n",
      "  A\n",
      "  C\n",
      "  G\n",
      "  A\n",
      "  G\n",
      "  G\n",
      "  G\n",
      "  T\n",
      "  G\n",
      "  G\n",
      "  A\n",
      "  C\n",
      "  C\n",
      "  T\n",
      "  T\n",
      "  T\n",
      "  T\n",
      "  C\n",
      "  C\n",
      "  T\n",
      "  C\n",
      "  C\n",
      "+ G\n",
      "+ C\n",
      "+ C\n",
      "+ G\n",
      "  A\n",
      "  T\n",
      "  G\n",
      "  T\n",
      "  T\n",
      "  G\n",
      "  G\n",
      "  G\n",
      "  G\n",
      "  A\n",
      "  C\n",
      "  A\n",
      "  A\n",
      "  C\n",
      "  T\n",
      "  G\n",
      "  C\n",
      "- G\n",
      "- C\n",
      "- C\n",
      "- G\n",
      "  T\n",
      "  C\n",
      "  T\n",
      "  G\n",
      "  G\n",
      "  G\n",
      "  A\n",
      "  C\n",
      "  C\n",
      "  G\n",
      "  G\n",
      "  T\n",
      "  A\n",
      "  G\n",
      "  A\n",
      "  G\n",
      "  T\n",
      "  A\n",
      "  A\n",
      "  G\n",
      "  G\n",
      "  T\n",
      "  C\n",
      "  C\n",
      "  C\n",
      "  G\n",
      "  C\n",
      "  T\n",
      "  C\n"
     ]
    }
   ],
   "source": [
    "print('\\n'.join(difflib.ndiff(act[100:200], exp[100:200])))"
   ]
  },
  {
   "cell_type": "code",
   "execution_count": 5,
   "metadata": {},
   "outputs": [
    {
     "data": {
      "text/plain": [
       "<namespace boink.boink.TraversalState at 0x556fd5040268>"
      ]
     },
     "execution_count": 5,
     "metadata": {},
     "output_type": "execute_result"
    }
   ],
   "source": [
    "libboink.TraversalState."
   ]
  },
  {
   "cell_type": "code",
   "execution_count": 10,
   "metadata": {},
   "outputs": [
    {
     "ename": "AttributeError",
     "evalue": "type object 'int' has no attribute 'STOP_FWD'",
     "output_type": "error",
     "traceback": [
      "\u001b[0;31m---------------------------------------------------------------------------\u001b[0m",
      "\u001b[0;31mAttributeError\u001b[0m                            Traceback (most recent call last)",
      "\u001b[0;32m<ipython-input-10-79c3e5bc1bd3>\u001b[0m in \u001b[0;36m<module>\u001b[0;34m\u001b[0m\n\u001b[0;32m----> 1\u001b[0;31m \u001b[0mstate\u001b[0m \u001b[0;34m==\u001b[0m \u001b[0mlibboink\u001b[0m\u001b[0;34m.\u001b[0m\u001b[0mTraverse\u001b[0m\u001b[0;34m[\u001b[0m\u001b[0mtype\u001b[0m\u001b[0;34m(\u001b[0m\u001b[0mG\u001b[0m\u001b[0;34m)\u001b[0m\u001b[0;34m]\u001b[0m\u001b[0;34m.\u001b[0m\u001b[0mState\u001b[0m\u001b[0;34m.\u001b[0m\u001b[0mSTOP_FWD\u001b[0m\u001b[0;34m\u001b[0m\u001b[0;34m\u001b[0m\u001b[0m\n\u001b[0m",
      "\u001b[0;31mAttributeError\u001b[0m: type object 'int' has no attribute 'STOP_FWD'"
     ]
    }
   ],
   "source": [
    "state == libboink.Traverse[type(G)].State.STOP_FWD"
   ]
  },
  {
   "cell_type": "code",
   "execution_count": 21,
   "metadata": {},
   "outputs": [
    {
     "ename": "AttributeError",
     "evalue": "type object 'State' has no attribute 'STOP_FWD'",
     "output_type": "error",
     "traceback": [
      "\u001b[0;31m---------------------------------------------------------------------------\u001b[0m",
      "\u001b[0;31mAttributeError\u001b[0m                            Traceback (most recent call last)",
      "\u001b[0;32m<ipython-input-21-adc4c1d0e829>\u001b[0m in \u001b[0;36m<module>\u001b[0;34m\u001b[0m\n\u001b[0;32m----> 1\u001b[0;31m \u001b[0mlibboink\u001b[0m\u001b[0;34m.\u001b[0m\u001b[0mTraverse\u001b[0m\u001b[0;34m[\u001b[0m\u001b[0mtype\u001b[0m\u001b[0;34m(\u001b[0m\u001b[0mG\u001b[0m\u001b[0;34m)\u001b[0m\u001b[0;34m]\u001b[0m\u001b[0;34m.\u001b[0m\u001b[0mState\u001b[0m\u001b[0;34m.\u001b[0m\u001b[0mSTOP_FWD\u001b[0m\u001b[0;34m\u001b[0m\u001b[0;34m\u001b[0m\u001b[0m\n\u001b[0m",
      "\u001b[0;31mAttributeError\u001b[0m: type object 'State' has no attribute 'STOP_FWD'"
     ]
    }
   ],
   "source": [
    "libboink.Traverse[type(G)].State.STOP_FWD"
   ]
  },
  {
   "cell_type": "code",
   "execution_count": 8,
   "metadata": {},
   "outputs": [
    {
     "data": {
      "text/plain": [
       "1"
      ]
     },
     "execution_count": 8,
     "metadata": {},
     "output_type": "execute_result"
    }
   ],
   "source": [
    "G.right_degree(s)"
   ]
  },
  {
   "cell_type": "code",
   "execution_count": 8,
   "metadata": {},
   "outputs": [
    {
     "data": {
      "text/plain": [
       "<boink.boink.dBG<boink::storage::SparseppSetStorage,boink::hashing::RollingHashShifter> object at 0x55ae38767560 held by shared_ptr<boink::dBG<boink::storage::SparseppSetStorage,boink::hashing::RollingHashShifter> > at 0x55ae34f29c00>"
      ]
     },
     "execution_count": 8,
     "metadata": {},
     "output_type": "execute_result"
    }
   ],
   "source": [
    "G.clone()"
   ]
  },
  {
   "cell_type": "code",
   "execution_count": 2,
   "metadata": {},
   "outputs": [],
   "source": [
    "storage_t = libboink.storage.BitStorage\n",
    "signature_t = libboink.signatures.UnikmerSignature[storage_t]"
   ]
  },
  {
   "cell_type": "code",
   "execution_count": 3,
   "metadata": {},
   "outputs": [],
   "source": [
    "ukhs = load_ukhs(31, 8)"
   ]
  },
  {
   "cell_type": "code",
   "execution_count": 4,
   "metadata": {},
   "outputs": [],
   "source": [
    "sig = signature_t.Signature.build(31, 8, ukhs.__smartptr__(), 10000, 4)"
   ]
  },
  {
   "cell_type": "code",
   "execution_count": 5,
   "metadata": {},
   "outputs": [],
   "source": [
    "proc = std.make_shared[signature_t.Processor](sig.__smartptr__(), 10000, 100000, 100000)"
   ]
  },
  {
   "cell_type": "code",
   "execution_count": 6,
   "metadata": {},
   "outputs": [
    {
     "data": {
      "text/plain": [
       "<boink.boink.signatures.UnikmerSignature<boink::storage::BitStorage>.UnikmerSignature<boink::storage::BitStorage>::Processor object at 0x55c72107e5e0 held by shared_ptr<boink::signatures::UnikmerSignature<boink::storage::BitStorage>::Processor> at 0x55c71d57fd70>"
      ]
     },
     "execution_count": 6,
     "metadata": {},
     "output_type": "execute_result"
    }
   ],
   "source": [
    "proc"
   ]
  },
  {
   "cell_type": "code",
   "execution_count": 16,
   "metadata": {},
   "outputs": [
    {
     "data": {
      "text/plain": [
       "<class boink.boink.dBG<boink::storage::SparseppSetStorage,boink::hashing::RollingHashShifter> at 0x55ed277bb6c8>"
      ]
     },
     "execution_count": 16,
     "metadata": {},
     "output_type": "execute_result"
    }
   ],
   "source": [
    "type(G)"
   ]
  },
  {
   "cell_type": "code",
   "execution_count": 12,
   "metadata": {},
   "outputs": [
    {
     "data": {
      "text/plain": [
       "<class cppyy.gbl.std.pair<vector<boink::hashing::kmer_t>,vector<boink::hashing::kmer_t> > at 0x55ad9f2d2968>"
      ]
     },
     "execution_count": 12,
     "metadata": {},
     "output_type": "execute_result"
    }
   ],
   "source": [
    "std.pair[std.vector[libboink.hashing.kmer_t], std.vector[libboink.hashing.kmer_t]]"
   ]
  },
  {
   "cell_type": "code",
   "execution_count": 6,
   "metadata": {},
   "outputs": [],
   "source": [
    "parser = cppyy.gbl.ParserFactory[boink.parsing.FastxReader].build('/work/draff/results/simulated/ecoli.0._100_180_1.fq')"
   ]
  },
  {
   "cell_type": "code",
   "execution_count": 56,
   "metadata": {},
   "outputs": [],
   "source": [
    "path = boink.Path()"
   ]
  },
  {
   "cell_type": "code",
   "execution_count": 44,
   "metadata": {},
   "outputs": [],
   "source": [
    "shifter = boink.hashing.RollingHashShifter(7)"
   ]
  },
  {
   "cell_type": "code",
   "execution_count": 58,
   "metadata": {},
   "outputs": [
    {
     "name": "stdout",
     "output_type": "stream",
     "text": [
      "GGATTCG\n",
      "GGATTCG\n",
      "GGATTCG\n",
      "GGATTCG\n",
      "GGATTCG\n"
     ]
    }
   ],
   "source": [
    "for i in range(5):\n",
    "    path.clear()\n",
    "    shifter.get_cursor(path)\n",
    "    print(asm.to_string(path))"
   ]
  },
  {
   "cell_type": "code",
   "execution_count": 45,
   "metadata": {},
   "outputs": [
    {
     "name": "stdout",
     "output_type": "stream",
     "text": [
      "16928099823363697171 16928099823363697171\n",
      "17774349600126154739 17774349600126154739\n",
      "5432234656955854598 5432234656955854598\n",
      "15864785342952959926 15864785342952959926\n",
      "807854437867792248 807854437867792248\n",
      "503930369671869761 503930369671869761\n",
      "14846359574385085156 14846359574385085156\n",
      "6910144570189067695 6910144570189067695\n",
      "8953154543898151736 8953154543898151736\n",
      "15784469927269168548 15784469927269168548\n",
      "12000143714024755448 12000143714024755448\n",
      "10045950146635431439 10045950146635431439\n",
      "3219486363132302806 3219486363132302806\n",
      "11146315393402538954 11146315393402538954\n",
      "17774349600126154739 17774349600126154739\n",
      "5432234656955854598 5432234656955854598\n",
      "15864785342952959926 15864785342952959926\n",
      "807854437867792248 807854437867792248\n",
      "503930369671869761 503930369671869761\n",
      "14846359574385085156 14846359574385085156\n"
     ]
    }
   ],
   "source": [
    "for i in range(len(s) - 9 + 1):\n",
    "    kmer = s[i:i+9]\n",
    "    shifter.set_cursor(kmer) \n",
    "    print(shifter.get(), shifter.hash(kmer))\n",
    "    #print(kmer, int(asm.degree_left()), int(asm.degree_right()))"
   ]
  },
  {
   "cell_type": "code",
   "execution_count": 49,
   "metadata": {},
   "outputs": [],
   "source": [
    "shifter = boink.hashing.RollingHashShifter('AAAAAAA', 7)"
   ]
  },
  {
   "cell_type": "code",
   "execution_count": 26,
   "metadata": {},
   "outputs": [
    {
     "data": {
      "text/plain": [
       "17896415738016705498"
      ]
     },
     "execution_count": 26,
     "metadata": {},
     "output_type": "execute_result"
    }
   ],
   "source": [
    "shifter.update_right('C')"
   ]
  },
  {
   "cell_type": "code",
   "execution_count": 27,
   "metadata": {},
   "outputs": [
    {
     "data": {
      "text/plain": [
       "17896415738016705498"
      ]
     },
     "execution_count": 27,
     "metadata": {},
     "output_type": "execute_result"
    }
   ],
   "source": [
    "shifter.get()"
   ]
  },
  {
   "cell_type": "code",
   "execution_count": 16,
   "metadata": {},
   "outputs": [],
   "source": [
    "storages = ['BitStorage', 'ByteStorage', 'NibbleStorage', 'QFStorage', 'SparseppSetStorage']\n",
    "\n",
    "def storage_decls(template):\n",
    "\n",
    "    for storage in storages:\n",
    "        print(template.format(storage))\n",
    "    print()\n",
    "    template = 'extern\\n' + template\n",
    "    for storage in storages:\n",
    "        print(template.format(storage))"
   ]
  },
  {
   "cell_type": "code",
   "execution_count": 10,
   "metadata": {},
   "outputs": [
    {
     "name": "stdout",
     "output_type": "stream",
     "text": [
      "template class boink::dBG<boink::storage::BitStorage,\n",
      "                          boink::hashing::RollingHashShifter>;\n",
      "template class boink::dBG<boink::storage::ByteStorage,\n",
      "                          boink::hashing::RollingHashShifter>;\n",
      "template class boink::dBG<boink::storage::NibbleStorage,\n",
      "                          boink::hashing::RollingHashShifter>;\n",
      "template class boink::dBG<boink::storage::QFStorage,\n",
      "                          boink::hashing::RollingHashShifter>;\n",
      "template class boink::dBG<boink::storage::SparseppSetStorage,\n",
      "                          boink::hashing::RollingHashShifter>;\n",
      "\n",
      "extern\n",
      "template class boink::dBG<boink::storage::BitStorage,\n",
      "                          boink::hashing::RollingHashShifter>;\n",
      "extern\n",
      "template class boink::dBG<boink::storage::ByteStorage,\n",
      "                          boink::hashing::RollingHashShifter>;\n",
      "extern\n",
      "template class boink::dBG<boink::storage::NibbleStorage,\n",
      "                          boink::hashing::RollingHashShifter>;\n",
      "extern\n",
      "template class boink::dBG<boink::storage::QFStorage,\n",
      "                          boink::hashing::RollingHashShifter>;\n",
      "extern\n",
      "template class boink::dBG<boink::storage::SparseppSetStorage,\n",
      "                          boink::hashing::RollingHashShifter>;\n"
     ]
    }
   ],
   "source": [
    "storage_decls('template class boink::dBG<boink::storage::{},\\n'\n",
    "              '                          boink::hashing::RollingHashShifter>;')"
   ]
  },
  {
   "cell_type": "code",
   "execution_count": 11,
   "metadata": {},
   "outputs": [
    {
     "name": "stdout",
     "output_type": "stream",
     "text": [
      "template class boink::cdbg::cDBG<boink::dBG<boink::storage::BitStorage,\n",
      "                                            boink::hashing::RollingHashShifter>>;\n",
      "template class boink::cdbg::cDBG<boink::dBG<boink::storage::ByteStorage,\n",
      "                                            boink::hashing::RollingHashShifter>>;\n",
      "template class boink::cdbg::cDBG<boink::dBG<boink::storage::NibbleStorage,\n",
      "                                            boink::hashing::RollingHashShifter>>;\n",
      "template class boink::cdbg::cDBG<boink::dBG<boink::storage::QFStorage,\n",
      "                                            boink::hashing::RollingHashShifter>>;\n",
      "template class boink::cdbg::cDBG<boink::dBG<boink::storage::SparseppSetStorage,\n",
      "                                            boink::hashing::RollingHashShifter>>;\n",
      "\n",
      "extern\n",
      "template class boink::cdbg::cDBG<boink::dBG<boink::storage::BitStorage,\n",
      "                                            boink::hashing::RollingHashShifter>>;\n",
      "extern\n",
      "template class boink::cdbg::cDBG<boink::dBG<boink::storage::ByteStorage,\n",
      "                                            boink::hashing::RollingHashShifter>>;\n",
      "extern\n",
      "template class boink::cdbg::cDBG<boink::dBG<boink::storage::NibbleStorage,\n",
      "                                            boink::hashing::RollingHashShifter>>;\n",
      "extern\n",
      "template class boink::cdbg::cDBG<boink::dBG<boink::storage::QFStorage,\n",
      "                                            boink::hashing::RollingHashShifter>>;\n",
      "extern\n",
      "template class boink::cdbg::cDBG<boink::dBG<boink::storage::SparseppSetStorage,\n",
      "                                            boink::hashing::RollingHashShifter>>;\n"
     ]
    }
   ],
   "source": [
    "storage_decls('template class boink::cdbg::cDBG<boink::dBG<boink::storage::{},\\n'\n",
    "              '                                            boink::hashing::RollingHashShifter>>;')"
   ]
  },
  {
   "cell_type": "code",
   "execution_count": 15,
   "metadata": {},
   "outputs": [
    {
     "name": "stdout",
     "output_type": "stream",
     "text": [
      "template class boink::PdBG<boink::storage::BitStorage>;\n",
      "template class boink::PdBG<boink::storage::ByteStorage>;\n",
      "template class boink::PdBG<boink::storage::NibbleStorage>;\n",
      "template class boink::PdBG<boink::storage::QFStorage>;\n",
      "template class boink::PdBG<boink::storage::SparseppSetStorage>;\n",
      "\n",
      "extern\n",
      "template class boink::PdBG<boink::storage::BitStorage>;\n",
      "extern\n",
      "template class boink::PdBG<boink::storage::ByteStorage>;\n",
      "extern\n",
      "template class boink::PdBG<boink::storage::NibbleStorage>;\n",
      "extern\n",
      "template class boink::PdBG<boink::storage::QFStorage>;\n",
      "extern\n",
      "template class boink::PdBG<boink::storage::SparseppSetStorage>;\n"
     ]
    }
   ],
   "source": [
    "storage_decls('template class boink::PdBG<boink::storage::{}>;')"
   ]
  },
  {
   "cell_type": "code",
   "execution_count": 17,
   "metadata": {},
   "outputs": [
    {
     "name": "stdout",
     "output_type": "stream",
     "text": [
      "template struct boink::Traverse<boink::dBG<boink::storage::BitStorage,\n",
      "                                               boink::hashing::RollingHashShifter>>;\n",
      "template struct boink::Traverse<boink::dBG<boink::storage::ByteStorage,\n",
      "                                               boink::hashing::RollingHashShifter>>;\n",
      "template struct boink::Traverse<boink::dBG<boink::storage::NibbleStorage,\n",
      "                                               boink::hashing::RollingHashShifter>>;\n",
      "template struct boink::Traverse<boink::dBG<boink::storage::QFStorage,\n",
      "                                               boink::hashing::RollingHashShifter>>;\n",
      "template struct boink::Traverse<boink::dBG<boink::storage::SparseppSetStorage,\n",
      "                                               boink::hashing::RollingHashShifter>>;\n",
      "\n",
      "extern\n",
      "template struct boink::Traverse<boink::dBG<boink::storage::BitStorage,\n",
      "                                               boink::hashing::RollingHashShifter>>;\n",
      "extern\n",
      "template struct boink::Traverse<boink::dBG<boink::storage::ByteStorage,\n",
      "                                               boink::hashing::RollingHashShifter>>;\n",
      "extern\n",
      "template struct boink::Traverse<boink::dBG<boink::storage::NibbleStorage,\n",
      "                                               boink::hashing::RollingHashShifter>>;\n",
      "extern\n",
      "template struct boink::Traverse<boink::dBG<boink::storage::QFStorage,\n",
      "                                               boink::hashing::RollingHashShifter>>;\n",
      "extern\n",
      "template struct boink::Traverse<boink::dBG<boink::storage::SparseppSetStorage,\n",
      "                                               boink::hashing::RollingHashShifter>>;\n"
     ]
    }
   ],
   "source": [
    "storage_decls('template struct boink::Traverse<boink::dBG<boink::storage::{},\\n'\n",
    "          '                                               boink::hashing::RollingHashShifter>>;')"
   ]
  },
  {
   "cell_type": "code",
   "execution_count": 23,
   "metadata": {},
   "outputs": [
    {
     "name": "stdout",
     "output_type": "stream",
     "text": [
      "template class boink::FileConsumer<boink::dBG<boink::storage::BitStorage,\n",
      "                                              boink::hashing::RollingHashShifter>>;\n",
      "template class boink::FileConsumer<boink::dBG<boink::storage::ByteStorage,\n",
      "                                              boink::hashing::RollingHashShifter>>;\n",
      "template class boink::FileConsumer<boink::dBG<boink::storage::NibbleStorage,\n",
      "                                              boink::hashing::RollingHashShifter>>;\n",
      "template class boink::FileConsumer<boink::dBG<boink::storage::QFStorage,\n",
      "                                              boink::hashing::RollingHashShifter>>;\n",
      "template class boink::FileConsumer<boink::dBG<boink::storage::SparseppSetStorage,\n",
      "                                              boink::hashing::RollingHashShifter>>;\n",
      "\n",
      "extern\n",
      "template class boink::FileConsumer<boink::dBG<boink::storage::BitStorage,\n",
      "                                              boink::hashing::RollingHashShifter>>;\n",
      "extern\n",
      "template class boink::FileConsumer<boink::dBG<boink::storage::ByteStorage,\n",
      "                                              boink::hashing::RollingHashShifter>>;\n",
      "extern\n",
      "template class boink::FileConsumer<boink::dBG<boink::storage::NibbleStorage,\n",
      "                                              boink::hashing::RollingHashShifter>>;\n",
      "extern\n",
      "template class boink::FileConsumer<boink::dBG<boink::storage::QFStorage,\n",
      "                                              boink::hashing::RollingHashShifter>>;\n",
      "extern\n",
      "template class boink::FileConsumer<boink::dBG<boink::storage::SparseppSetStorage,\n",
      "                                              boink::hashing::RollingHashShifter>>;\n"
     ]
    }
   ],
   "source": [
    "storage_decls('template class boink::FileConsumer<boink::dBG<boink::storage::{},\\n'\n",
    "              '                                              boink::hashing::RollingHashShifter>>;')"
   ]
  },
  {
   "cell_type": "code",
   "execution_count": 24,
   "metadata": {},
   "outputs": [
    {
     "name": "stdout",
     "output_type": "stream",
     "text": [
      "template class boink::DecisionNodeProcessor<boink::dBG<boink::storage::BitStorage,\n",
      "                                                       boink::hashing::RollingHashShifter>>;\n",
      "template class boink::DecisionNodeProcessor<boink::dBG<boink::storage::ByteStorage,\n",
      "                                                       boink::hashing::RollingHashShifter>>;\n",
      "template class boink::DecisionNodeProcessor<boink::dBG<boink::storage::NibbleStorage,\n",
      "                                                       boink::hashing::RollingHashShifter>>;\n",
      "template class boink::DecisionNodeProcessor<boink::dBG<boink::storage::QFStorage,\n",
      "                                                       boink::hashing::RollingHashShifter>>;\n",
      "template class boink::DecisionNodeProcessor<boink::dBG<boink::storage::SparseppSetStorage,\n",
      "                                                       boink::hashing::RollingHashShifter>>;\n",
      "\n",
      "extern\n",
      "template class boink::DecisionNodeProcessor<boink::dBG<boink::storage::BitStorage,\n",
      "                                                       boink::hashing::RollingHashShifter>>;\n",
      "extern\n",
      "template class boink::DecisionNodeProcessor<boink::dBG<boink::storage::ByteStorage,\n",
      "                                                       boink::hashing::RollingHashShifter>>;\n",
      "extern\n",
      "template class boink::DecisionNodeProcessor<boink::dBG<boink::storage::NibbleStorage,\n",
      "                                                       boink::hashing::RollingHashShifter>>;\n",
      "extern\n",
      "template class boink::DecisionNodeProcessor<boink::dBG<boink::storage::QFStorage,\n",
      "                                                       boink::hashing::RollingHashShifter>>;\n",
      "extern\n",
      "template class boink::DecisionNodeProcessor<boink::dBG<boink::storage::SparseppSetStorage,\n",
      "                                                       boink::hashing::RollingHashShifter>>;\n"
     ]
    }
   ],
   "source": [
    "storage_decls('template class boink::DecisionNodeProcessor<boink::dBG<boink::storage::{},\\n'\n",
    "              '                                                       boink::hashing::RollingHashShifter>>;')"
   ]
  },
  {
   "cell_type": "code",
   "execution_count": 26,
   "metadata": {},
   "outputs": [
    {
     "name": "stdout",
     "output_type": "stream",
     "text": [
      "template class boink::cdbg::StreamingCompactor<boink::dBG<boink::storage::BitStorage,\n",
      "                                               boink::hashing::RollingHashShifter>>;\n",
      "template class boink::cdbg::StreamingCompactor<boink::dBG<boink::storage::ByteStorage,\n",
      "                                               boink::hashing::RollingHashShifter>>;\n",
      "template class boink::cdbg::StreamingCompactor<boink::dBG<boink::storage::NibbleStorage,\n",
      "                                               boink::hashing::RollingHashShifter>>;\n",
      "template class boink::cdbg::StreamingCompactor<boink::dBG<boink::storage::QFStorage,\n",
      "                                               boink::hashing::RollingHashShifter>>;\n",
      "template class boink::cdbg::StreamingCompactor<boink::dBG<boink::storage::SparseppSetStorage,\n",
      "                                               boink::hashing::RollingHashShifter>>;\n",
      "\n",
      "extern\n",
      "template class boink::cdbg::StreamingCompactor<boink::dBG<boink::storage::BitStorage,\n",
      "                                               boink::hashing::RollingHashShifter>>;\n",
      "extern\n",
      "template class boink::cdbg::StreamingCompactor<boink::dBG<boink::storage::ByteStorage,\n",
      "                                               boink::hashing::RollingHashShifter>>;\n",
      "extern\n",
      "template class boink::cdbg::StreamingCompactor<boink::dBG<boink::storage::NibbleStorage,\n",
      "                                               boink::hashing::RollingHashShifter>>;\n",
      "extern\n",
      "template class boink::cdbg::StreamingCompactor<boink::dBG<boink::storage::QFStorage,\n",
      "                                               boink::hashing::RollingHashShifter>>;\n",
      "extern\n",
      "template class boink::cdbg::StreamingCompactor<boink::dBG<boink::storage::SparseppSetStorage,\n",
      "                                               boink::hashing::RollingHashShifter>>;\n"
     ]
    }
   ],
   "source": [
    "storage_decls('template class boink::cdbg::StreamingCompactor<boink::dBG<boink::storage::{},\\n'\n",
    "              '                                               boink::hashing::RollingHashShifter>>;')"
   ]
  },
  {
   "cell_type": "code",
   "execution_count": 27,
   "metadata": {},
   "outputs": [
    {
     "name": "stdout",
     "output_type": "stream",
     "text": [
      "template class boink::StreamingCompactorProcessor<boink::dBG<boink::storage::BitStorage,\n",
      "                                                             boink::hashing::RollingHashShifter>>;\n",
      "template class boink::StreamingCompactorProcessor<boink::dBG<boink::storage::ByteStorage,\n",
      "                                                             boink::hashing::RollingHashShifter>>;\n",
      "template class boink::StreamingCompactorProcessor<boink::dBG<boink::storage::NibbleStorage,\n",
      "                                                             boink::hashing::RollingHashShifter>>;\n",
      "template class boink::StreamingCompactorProcessor<boink::dBG<boink::storage::QFStorage,\n",
      "                                                             boink::hashing::RollingHashShifter>>;\n",
      "template class boink::StreamingCompactorProcessor<boink::dBG<boink::storage::SparseppSetStorage,\n",
      "                                                             boink::hashing::RollingHashShifter>>;\n",
      "\n",
      "extern\n",
      "template class boink::StreamingCompactorProcessor<boink::dBG<boink::storage::BitStorage,\n",
      "                                                             boink::hashing::RollingHashShifter>>;\n",
      "extern\n",
      "template class boink::StreamingCompactorProcessor<boink::dBG<boink::storage::ByteStorage,\n",
      "                                                             boink::hashing::RollingHashShifter>>;\n",
      "extern\n",
      "template class boink::StreamingCompactorProcessor<boink::dBG<boink::storage::NibbleStorage,\n",
      "                                                             boink::hashing::RollingHashShifter>>;\n",
      "extern\n",
      "template class boink::StreamingCompactorProcessor<boink::dBG<boink::storage::QFStorage,\n",
      "                                                             boink::hashing::RollingHashShifter>>;\n",
      "extern\n",
      "template class boink::StreamingCompactorProcessor<boink::dBG<boink::storage::SparseppSetStorage,\n",
      "                                                             boink::hashing::RollingHashShifter>>;\n"
     ]
    }
   ],
   "source": [
    "storage_decls('template class boink::StreamingCompactorProcessor<boink::dBG<boink::storage::{},\\n'\n",
    "              '                                                             boink::hashing::RollingHashShifter>>;')"
   ]
  },
  {
   "cell_type": "code",
   "execution_count": 29,
   "metadata": {},
   "outputs": [
    {
     "name": "stdout",
     "output_type": "stream",
     "text": [
      "template class boink::signatures::UnikmerSignature<boink::storage::BitStorage>;\n",
      "template class boink::signatures::UnikmerSignature<boink::storage::ByteStorage>;\n",
      "template class boink::signatures::UnikmerSignature<boink::storage::NibbleStorage>;\n",
      "template class boink::signatures::UnikmerSignature<boink::storage::QFStorage>;\n",
      "template class boink::signatures::UnikmerSignature<boink::storage::SparseppSetStorage>;\n",
      "\n",
      "extern\n",
      "template class boink::signatures::UnikmerSignature<boink::storage::BitStorage>;\n",
      "extern\n",
      "template class boink::signatures::UnikmerSignature<boink::storage::ByteStorage>;\n",
      "extern\n",
      "template class boink::signatures::UnikmerSignature<boink::storage::NibbleStorage>;\n",
      "extern\n",
      "template class boink::signatures::UnikmerSignature<boink::storage::QFStorage>;\n",
      "extern\n",
      "template class boink::signatures::UnikmerSignature<boink::storage::SparseppSetStorage>;\n"
     ]
    }
   ],
   "source": [
    "storage_decls('template class boink::signatures::UnikmerSignature<boink::storage::{}>;')"
   ]
  },
  {
   "cell_type": "code",
   "execution_count": 16,
   "metadata": {},
   "outputs": [
    {
     "name": "stdout",
     "output_type": "stream",
     "text": [
      "template class std::enable_shared_from_this<boink::dBG<boink::storage::BitStorage,\n",
      "                                                       boink::hashing::RollingHashShifter>>;\n",
      "template class std::enable_shared_from_this<boink::dBG<boink::storage::ByteStorage,\n",
      "                                                       boink::hashing::RollingHashShifter>>;\n",
      "template class std::enable_shared_from_this<boink::dBG<boink::storage::NibbleStorage,\n",
      "                                                       boink::hashing::RollingHashShifter>>;\n",
      "template class std::enable_shared_from_this<boink::dBG<boink::storage::QFStorage,\n",
      "                                                       boink::hashing::RollingHashShifter>>;\n",
      "template class std::enable_shared_from_this<boink::dBG<boink::storage::SparseppSetStorage,\n",
      "                                                       boink::hashing::RollingHashShifter>>;\n",
      "\n",
      "extern\n",
      "template class std::enable_shared_from_this<boink::dBG<boink::storage::BitStorage,\n",
      "                                                       boink::hashing::RollingHashShifter>>;\n",
      "extern\n",
      "template class std::enable_shared_from_this<boink::dBG<boink::storage::ByteStorage,\n",
      "                                                       boink::hashing::RollingHashShifter>>;\n",
      "extern\n",
      "template class std::enable_shared_from_this<boink::dBG<boink::storage::NibbleStorage,\n",
      "                                                       boink::hashing::RollingHashShifter>>;\n",
      "extern\n",
      "template class std::enable_shared_from_this<boink::dBG<boink::storage::QFStorage,\n",
      "                                                       boink::hashing::RollingHashShifter>>;\n",
      "extern\n",
      "template class std::enable_shared_from_this<boink::dBG<boink::storage::SparseppSetStorage,\n",
      "                                                       boink::hashing::RollingHashShifter>>;\n"
     ]
    }
   ],
   "source": [
    "storage_decls('template class std::enable_shared_from_this<boink::dBG<boink::storage::{},\\n'\n",
    "              '                                                       boink::hashing::RollingHashShifter>>;')"
   ]
  },
  {
   "cell_type": "code",
   "execution_count": 15,
   "metadata": {},
   "outputs": [
    {
     "name": "stdout",
     "output_type": "stream",
     "text": [
      "template class std::enable_shared_from_this<boink::PdBG<boink::storage::BitStorage>>;\n",
      "template class std::enable_shared_from_this<boink::PdBG<boink::storage::ByteStorage>>;\n",
      "template class std::enable_shared_from_this<boink::PdBG<boink::storage::NibbleStorage>>;\n",
      "template class std::enable_shared_from_this<boink::PdBG<boink::storage::QFStorage>>;\n",
      "template class std::enable_shared_from_this<boink::PdBG<boink::storage::SparseppSetStorage>>;\n",
      "\n",
      "extern\n",
      "template class std::enable_shared_from_this<boink::PdBG<boink::storage::BitStorage>>;\n",
      "extern\n",
      "template class std::enable_shared_from_this<boink::PdBG<boink::storage::ByteStorage>>;\n",
      "extern\n",
      "template class std::enable_shared_from_this<boink::PdBG<boink::storage::NibbleStorage>>;\n",
      "extern\n",
      "template class std::enable_shared_from_this<boink::PdBG<boink::storage::QFStorage>>;\n",
      "extern\n",
      "template class std::enable_shared_from_this<boink::PdBG<boink::storage::SparseppSetStorage>>;\n"
     ]
    }
   ],
   "source": [
    "storage_decls('template class std::enable_shared_from_this<boink::PdBG<boink::storage::{}>>;')\n"
   ]
  },
  {
   "cell_type": "code",
   "execution_count": null,
   "metadata": {},
   "outputs": [],
   "source": []
  }
 ],
 "metadata": {
  "kernelspec": {
   "display_name": "Python 3",
   "language": "python",
   "name": "python3"
  },
  "language_info": {
   "codemirror_mode": {
    "name": "ipython",
    "version": 3
   },
   "file_extension": ".py",
   "mimetype": "text/x-python",
   "name": "python",
   "nbconvert_exporter": "python",
   "pygments_lexer": "ipython3",
   "version": "3.7.3"
  }
 },
 "nbformat": 4,
 "nbformat_minor": 2
}
