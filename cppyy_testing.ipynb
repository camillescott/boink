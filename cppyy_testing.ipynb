{
 "cells": [
  {
   "cell_type": "code",
   "execution_count": 1,
   "metadata": {},
   "outputs": [],
   "source": [
    "import cppyy\n",
    "from ctypes import c_ulonglong, c_ulong, c_longlong, c_uint, c_uint64\n",
    "import ctypes\n",
    "from array import array"
   ]
  },
  {
   "cell_type": "code",
   "execution_count": 2,
   "metadata": {},
   "outputs": [],
   "source": [
    "cppyy.load_reflection_info('libBoinkDict.so')"
   ]
  },
  {
   "cell_type": "code",
   "execution_count": 3,
   "metadata": {},
   "outputs": [],
   "source": [
    "def _ns_boink_pythonizor(klass, name):\n",
    "    print(name)\n",
    "    \n",
    "    if name.startswith('FileProcessor'):\n",
    "        def chunked(self, filename):\n",
    "            parser = cppyy.gbl.ParserFactory[boink.parsing.FastxReader].build(filename)\n",
    "            while True:\n",
    "                state = self.advance(parser)\n",
    "                yield self.n_reads(), state\n",
    "                if state.end:\n",
    "                    break\n",
    "        klass.chunked = chunked\n",
    "        \n",
    "    if 'interval_state' in name:\n",
    "        klass.__str__ = lambda self: '<interval_state fine={0} medium={1} coarse={2} end={3}'.format(self.fine, self.medium, self.coarse, self.end)\n"
   ]
  },
  {
   "cell_type": "code",
   "execution_count": 4,
   "metadata": {},
   "outputs": [],
   "source": [
    "cppyy.py.add_pythonization(_ns_boink_pythonizor, 'boink')"
   ]
  },
  {
   "cell_type": "code",
   "execution_count": 5,
   "metadata": {},
   "outputs": [],
   "source": [
    "from cppyy.gbl import boink, std"
   ]
  },
  {
   "cell_type": "code",
   "execution_count": 6,
   "metadata": {},
   "outputs": [
    {
     "name": "stdout",
     "output_type": "stream",
     "text": [
      "dBG<boink::storage::SparseppSetStorage,boink::hashing::RollingHashShifter>\n"
     ]
    }
   ],
   "source": [
    "G = std.make_shared[boink.dBG[boink.storage.SparseppSetStorage, boink.hashing.RollingHashShifter]](31)"
   ]
  },
  {
   "cell_type": "code",
   "execution_count": 6,
   "metadata": {},
   "outputs": [],
   "source": [
    "asm = boink.CompactorMixin[boink.dBG[boink.storage.SparseppSetStorage, boink.hashing.RollingHashShifter]](G)"
   ]
  },
  {
   "cell_type": "code",
   "execution_count": 6,
   "metadata": {},
   "outputs": [],
   "source": [
    "parser = cppyy.gbl.ParserFactory[boink.parsing.FastxReader].build('/work/draff/results/simulated/ecoli.0._100_180_1.fq')"
   ]
  },
  {
   "cell_type": "code",
   "execution_count": 7,
   "metadata": {},
   "outputs": [
    {
     "data": {
      "text/plain": [
       "<cppyy.gbl.boink.parsing.ReadParser<boink::parsing::FastxReader> object at 0x55fd88db87a0 held by shared_ptr<boink::parsing::ReadParser<boink::parsing::FastxReader> > at 0x55fd8e1c3760>"
      ]
     },
     "execution_count": 7,
     "metadata": {},
     "output_type": "execute_result"
    }
   ],
   "source": [
    "parser"
   ]
  },
  {
   "cell_type": "code",
   "execution_count": null,
   "metadata": {},
   "outputs": [],
   "source": []
  },
  {
   "cell_type": "code",
   "execution_count": 7,
   "metadata": {},
   "outputs": [
    {
     "name": "stdout",
     "output_type": "stream",
     "text": [
      "FileProcessor<boink::FileConsumer<boink::dBG<boink::storage::SparseppSetStorage,boink::hashing::RollingHashShifter>,boink::parsing::FastxReader>,boink::parsing::FastxReader>\n",
      "FileConsumer<boink::dBG<boink::storage::SparseppSetStorage,boink::hashing::RollingHashShifter>,boink::parsing::FastxReader>\n"
     ]
    }
   ],
   "source": [
    "proc = boink.FileConsumer[boink.dBG[boink.storage.SparseppSetStorage, boink.hashing.RollingHashShifter]](G)"
   ]
  },
  {
   "cell_type": "code",
   "execution_count": 8,
   "metadata": {},
   "outputs": [
    {
     "name": "stdout",
     "output_type": "stream",
     "text": [
      "interval_state\n",
      "10000 <interval_state fine=1 medium=0 coarse=0 end=0\n",
      "20000 <interval_state fine=1 medium=0 coarse=0 end=0\n",
      "30000 <interval_state fine=1 medium=0 coarse=0 end=0\n",
      "40000 <interval_state fine=1 medium=0 coarse=0 end=0\n",
      "50000 <interval_state fine=1 medium=0 coarse=0 end=0\n",
      "60000 <interval_state fine=1 medium=0 coarse=0 end=0\n",
      "70000 <interval_state fine=1 medium=0 coarse=0 end=0\n",
      "80000 <interval_state fine=1 medium=0 coarse=0 end=0\n",
      "90000 <interval_state fine=1 medium=0 coarse=0 end=0\n",
      "100000 <interval_state fine=1 medium=0 coarse=0 end=0\n",
      "110000 <interval_state fine=1 medium=0 coarse=0 end=0\n",
      "120000 <interval_state fine=1 medium=0 coarse=0 end=0\n",
      "130000 <interval_state fine=1 medium=0 coarse=0 end=0\n",
      "140000 <interval_state fine=1 medium=0 coarse=0 end=0\n",
      "150000 <interval_state fine=1 medium=0 coarse=0 end=0\n",
      "160000 <interval_state fine=1 medium=0 coarse=0 end=0\n",
      "170000 <interval_state fine=1 medium=0 coarse=0 end=0\n",
      "180000 <interval_state fine=1 medium=0 coarse=0 end=0\n",
      "190000 <interval_state fine=1 medium=0 coarse=0 end=0\n",
      "200000 <interval_state fine=1 medium=0 coarse=0 end=0\n",
      "210000 <interval_state fine=1 medium=0 coarse=0 end=0\n",
      "220000 <interval_state fine=1 medium=0 coarse=0 end=0\n",
      "230000 <interval_state fine=1 medium=0 coarse=0 end=0\n",
      "240000 <interval_state fine=1 medium=0 coarse=0 end=0\n",
      "250000 <interval_state fine=1 medium=0 coarse=0 end=0\n",
      "260000 <interval_state fine=1 medium=0 coarse=0 end=0\n",
      "270000 <interval_state fine=1 medium=0 coarse=0 end=0\n",
      "280000 <interval_state fine=1 medium=0 coarse=0 end=0\n",
      "290000 <interval_state fine=1 medium=0 coarse=0 end=0\n",
      "300000 <interval_state fine=1 medium=0 coarse=0 end=0\n",
      "310000 <interval_state fine=1 medium=0 coarse=0 end=0\n",
      "320000 <interval_state fine=1 medium=0 coarse=0 end=0\n",
      "330000 <interval_state fine=1 medium=0 coarse=0 end=0\n",
      "340000 <interval_state fine=1 medium=0 coarse=0 end=0\n",
      "350000 <interval_state fine=1 medium=0 coarse=0 end=0\n",
      "360000 <interval_state fine=1 medium=0 coarse=0 end=0\n",
      "370000 <interval_state fine=1 medium=0 coarse=0 end=0\n",
      "380000 <interval_state fine=1 medium=0 coarse=0 end=0\n",
      "390000 <interval_state fine=1 medium=0 coarse=0 end=0\n",
      "400000 <interval_state fine=1 medium=0 coarse=0 end=0\n",
      "410000 <interval_state fine=1 medium=0 coarse=0 end=0\n",
      "420000 <interval_state fine=1 medium=0 coarse=0 end=0\n",
      "430000 <interval_state fine=1 medium=0 coarse=0 end=0\n",
      "440000 <interval_state fine=1 medium=0 coarse=0 end=0\n",
      "450000 <interval_state fine=1 medium=0 coarse=0 end=0\n",
      "460000 <interval_state fine=1 medium=0 coarse=0 end=0\n",
      "470000 <interval_state fine=1 medium=0 coarse=0 end=0\n",
      "480000 <interval_state fine=1 medium=0 coarse=0 end=0\n",
      "490000 <interval_state fine=1 medium=0 coarse=0 end=0\n",
      "500000 <interval_state fine=1 medium=0 coarse=0 end=0\n",
      "510000 <interval_state fine=1 medium=0 coarse=0 end=0\n",
      "518915 <interval_state fine=0 medium=0 coarse=0 end=1\n"
     ]
    }
   ],
   "source": [
    "for n_reads, state in proc.chunked('/work/draff/results/simulated/ecoli.0._100_180_1.fq'):\n",
    "    print(n_reads, state)"
   ]
  },
  {
   "cell_type": "code",
   "execution_count": 11,
   "metadata": {},
   "outputs": [
    {
     "name": "stdout",
     "output_type": "stream",
     "text": [
      "10000\n",
      "20000\n",
      "30000\n",
      "40000\n",
      "50000\n",
      "60000\n",
      "70000\n",
      "80000\n",
      "90000\n",
      "100000\n",
      "110000\n",
      "120000\n",
      "130000\n",
      "140000\n",
      "150000\n",
      "160000\n",
      "170000\n",
      "180000\n",
      "190000\n",
      "200000\n",
      "210000\n",
      "220000\n",
      "230000\n",
      "240000\n",
      "250000\n",
      "260000\n",
      "270000\n",
      "280000\n",
      "290000\n",
      "300000\n",
      "310000\n",
      "320000\n",
      "330000\n",
      "340000\n",
      "350000\n",
      "360000\n",
      "370000\n",
      "380000\n",
      "390000\n",
      "400000\n",
      "410000\n",
      "420000\n",
      "430000\n",
      "440000\n",
      "450000\n",
      "460000\n",
      "470000\n",
      "480000\n",
      "490000\n",
      "500000\n",
      "510000\n"
     ]
    }
   ],
   "source": [
    "while True:\n",
    "    state = proc.advance(parser)\n",
    "    if state.fine:\n",
    "        print(proc.n_reads())\n",
    "    if state.end:\n",
    "        break"
   ]
  },
  {
   "cell_type": "code",
   "execution_count": 15,
   "metadata": {},
   "outputs": [
    {
     "data": {
      "text/plain": [
       "9946822"
      ]
     },
     "execution_count": 15,
     "metadata": {},
     "output_type": "execute_result"
    }
   ],
   "source": [
    "G.n_unique()"
   ]
  },
  {
   "cell_type": "code",
   "execution_count": 21,
   "metadata": {},
   "outputs": [
    {
     "data": {
      "text/plain": [
       "<class cppyy.gbl.boink.SourmashSignatureProcessor at 0x557f0c487cc8>"
      ]
     },
     "execution_count": 21,
     "metadata": {},
     "output_type": "execute_result"
    }
   ],
   "source": [
    "boink.SourmashSignatureProcessor"
   ]
  },
  {
   "cell_type": "code",
   "execution_count": 8,
   "metadata": {},
   "outputs": [
    {
     "data": {
      "text/plain": [
       "True"
      ]
     },
     "execution_count": 8,
     "metadata": {},
     "output_type": "execute_result"
    }
   ],
   "source": [
    "cppyy.cppdef('''\n",
    "void assign_ref(unsigned int src, unsigned int& dst) {\n",
    "    dst = src;\n",
    "}\n",
    "''')"
   ]
  },
  {
   "cell_type": "code",
   "execution_count": 9,
   "metadata": {},
   "outputs": [],
   "source": [
    "src = c_uint(32)\n",
    "dst = c_uint(0)"
   ]
  },
  {
   "cell_type": "code",
   "execution_count": 10,
   "metadata": {},
   "outputs": [
    {
     "name": "stdout",
     "output_type": "stream",
     "text": [
      "c_uint(32)\n"
     ]
    }
   ],
   "source": [
    "print(src)"
   ]
  },
  {
   "cell_type": "code",
   "execution_count": 11,
   "metadata": {},
   "outputs": [],
   "source": [
    "cppyy.gbl.assign_ref(42, dst)"
   ]
  },
  {
   "cell_type": "code",
   "execution_count": 12,
   "metadata": {},
   "outputs": [
    {
     "name": "stdout",
     "output_type": "stream",
     "text": [
      "c_uint(42)\n"
     ]
    }
   ],
   "source": [
    "print(dst)"
   ]
  },
  {
   "cell_type": "code",
   "execution_count": 17,
   "metadata": {},
   "outputs": [
    {
     "data": {
      "text/plain": [
       "16928099823363697171"
      ]
     },
     "execution_count": 17,
     "metadata": {},
     "output_type": "execute_result"
    }
   ],
   "source": [
    "start = s[:7]\n",
    "path = boink.Path()\n",
    "end_hash = c_ulonglong(32)\n",
    "mask = std.set[boink.hashing.hash_t]()\n",
    "asm.set_cursor(start)"
   ]
  },
  {
   "cell_type": "code",
   "execution_count": 18,
   "metadata": {},
   "outputs": [
    {
     "ename": "TypeError",
     "evalue": "void boink::CompactorMixin<boink::dBG<boink::storage::SparseppSetStorage,boink::hashing::RollingHashShifter> >::compactify_right(deque<char>& path, unsigned long& end_hash, set<unsigned long>& mask) =>\n    TypeError: could not convert argument 2 (could not convert argument to buffer or nullptr)",
     "output_type": "error",
     "traceback": [
      "\u001b[0;31m---------------------------------------------------------------------------\u001b[0m",
      "\u001b[0;31mTypeError\u001b[0m                                 Traceback (most recent call last)",
      "\u001b[0;32m<ipython-input-18-12a3ebd7a4d6>\u001b[0m in \u001b[0;36m<module>\u001b[0;34m\u001b[0m\n\u001b[0;32m----> 1\u001b[0;31m \u001b[0masm\u001b[0m\u001b[0;34m.\u001b[0m\u001b[0mcompactify_right\u001b[0m\u001b[0;34m(\u001b[0m\u001b[0mpath\u001b[0m\u001b[0;34m,\u001b[0m \u001b[0mend_hash\u001b[0m\u001b[0;34m,\u001b[0m \u001b[0mmask\u001b[0m\u001b[0;34m)\u001b[0m\u001b[0;34m\u001b[0m\u001b[0;34m\u001b[0m\u001b[0m\n\u001b[0m\u001b[1;32m      2\u001b[0m \u001b[0mprint\u001b[0m\u001b[0;34m(\u001b[0m\u001b[0masm\u001b[0m\u001b[0;34m.\u001b[0m\u001b[0mto_string\u001b[0m\u001b[0;34m(\u001b[0m\u001b[0mpath\u001b[0m\u001b[0;34m)\u001b[0m\u001b[0;34m)\u001b[0m\u001b[0;34m\u001b[0m\u001b[0;34m\u001b[0m\u001b[0m\n",
      "\u001b[0;31mTypeError\u001b[0m: void boink::CompactorMixin<boink::dBG<boink::storage::SparseppSetStorage,boink::hashing::RollingHashShifter> >::compactify_right(deque<char>& path, unsigned long& end_hash, set<unsigned long>& mask) =>\n    TypeError: could not convert argument 2 (could not convert argument to buffer or nullptr)"
     ]
    }
   ],
   "source": [
    "asm.compactify_right(path, end_hash, mask)\n",
    "print(asm.to_string(path))"
   ]
  },
  {
   "cell_type": "code",
   "execution_count": 56,
   "metadata": {},
   "outputs": [],
   "source": [
    "path = boink.Path()"
   ]
  },
  {
   "cell_type": "code",
   "execution_count": 44,
   "metadata": {},
   "outputs": [],
   "source": [
    "shifter = boink.hashing.RollingHashShifter(7)"
   ]
  },
  {
   "cell_type": "code",
   "execution_count": 58,
   "metadata": {},
   "outputs": [
    {
     "name": "stdout",
     "output_type": "stream",
     "text": [
      "GGATTCG\n",
      "GGATTCG\n",
      "GGATTCG\n",
      "GGATTCG\n",
      "GGATTCG\n"
     ]
    }
   ],
   "source": [
    "for i in range(5):\n",
    "    path.clear()\n",
    "    shifter.get_cursor(path)\n",
    "    print(asm.to_string(path))"
   ]
  },
  {
   "cell_type": "code",
   "execution_count": 45,
   "metadata": {},
   "outputs": [
    {
     "name": "stdout",
     "output_type": "stream",
     "text": [
      "16928099823363697171 16928099823363697171\n",
      "17774349600126154739 17774349600126154739\n",
      "5432234656955854598 5432234656955854598\n",
      "15864785342952959926 15864785342952959926\n",
      "807854437867792248 807854437867792248\n",
      "503930369671869761 503930369671869761\n",
      "14846359574385085156 14846359574385085156\n",
      "6910144570189067695 6910144570189067695\n",
      "8953154543898151736 8953154543898151736\n",
      "15784469927269168548 15784469927269168548\n",
      "12000143714024755448 12000143714024755448\n",
      "10045950146635431439 10045950146635431439\n",
      "3219486363132302806 3219486363132302806\n",
      "11146315393402538954 11146315393402538954\n",
      "17774349600126154739 17774349600126154739\n",
      "5432234656955854598 5432234656955854598\n",
      "15864785342952959926 15864785342952959926\n",
      "807854437867792248 807854437867792248\n",
      "503930369671869761 503930369671869761\n",
      "14846359574385085156 14846359574385085156\n"
     ]
    }
   ],
   "source": [
    "for i in range(len(s) - 9 + 1):\n",
    "    kmer = s[i:i+9]\n",
    "    shifter.set_cursor(kmer) \n",
    "    print(shifter.get(), shifter.hash(kmer))\n",
    "    #print(kmer, int(asm.degree_left()), int(asm.degree_right()))"
   ]
  },
  {
   "cell_type": "code",
   "execution_count": 19,
   "metadata": {},
   "outputs": [
    {
     "ename": "TypeError",
     "evalue": "cannot convert 'str' object to bytes",
     "output_type": "error",
     "traceback": [
      "\u001b[0;31m---------------------------------------------------------------------------\u001b[0m",
      "\u001b[0;31mTypeError\u001b[0m                                 Traceback (most recent call last)",
      "\u001b[0;32m<ipython-input-19-8c5772d8f430>\u001b[0m in \u001b[0;36m<module>\u001b[0;34m\u001b[0m\n\u001b[0;32m----> 1\u001b[0;31m \u001b[0mint\u001b[0m\u001b[0;34m.\u001b[0m\u001b[0mfrom_bytes\u001b[0m\u001b[0;34m(\u001b[0m\u001b[0masm\u001b[0m\u001b[0;34m.\u001b[0m\u001b[0mdegree_left\u001b[0m\u001b[0;34m(\u001b[0m\u001b[0;34m)\u001b[0m\u001b[0;34m,\u001b[0m \u001b[0mbyteorder\u001b[0m\u001b[0;34m=\u001b[0m\u001b[0;34m'big'\u001b[0m\u001b[0;34m)\u001b[0m\u001b[0;34m\u001b[0m\u001b[0;34m\u001b[0m\u001b[0m\n\u001b[0m",
      "\u001b[0;31mTypeError\u001b[0m: cannot convert 'str' object to bytes"
     ]
    }
   ],
   "source": [
    "int.from_bytes(asm.degree_left(), byteorder='big')"
   ]
  },
  {
   "cell_type": "code",
   "execution_count": 21,
   "metadata": {},
   "outputs": [
    {
     "data": {
      "text/plain": [
       "str"
      ]
     },
     "execution_count": 21,
     "metadata": {},
     "output_type": "execute_result"
    }
   ],
   "source": [
    "type(asm.degree_left())"
   ]
  },
  {
   "cell_type": "code",
   "execution_count": 12,
   "metadata": {},
   "outputs": [],
   "source": [
    "it = boink.hashing.KmerIterator[boink.hashing.RollingHashShifter](s, 7)"
   ]
  },
  {
   "cell_type": "code",
   "execution_count": 13,
   "metadata": {},
   "outputs": [
    {
     "name": "stdout",
     "output_type": "stream",
     "text": [
      "16928099823363697171\n",
      "17774349600126154739\n",
      "5432234656955854598\n",
      "15864785342952959926\n",
      "807854437867792248\n",
      "503930369671869761\n",
      "14846359574385085156\n",
      "6910144570189067695\n",
      "8953154543898151736\n",
      "15784469927269168548\n",
      "12000143714024755448\n",
      "10045950146635431439\n",
      "3219486363132302806\n",
      "11146315393402538954\n",
      "17774349600126154739\n",
      "5432234656955854598\n",
      "15864785342952959926\n",
      "807854437867792248\n",
      "503930369671869761\n",
      "14846359574385085156\n",
      "6910144570189067695\n",
      "1873201609706990527\n"
     ]
    }
   ],
   "source": [
    "kmer = it.first()\n",
    "print(kmer)\n",
    "while not it.done():\n",
    "    kmer = it.next()\n",
    "    print(kmer)"
   ]
  },
  {
   "cell_type": "code",
   "execution_count": 42,
   "metadata": {},
   "outputs": [],
   "source": [
    "r = G.neighbors('CTGGGAT')"
   ]
  },
  {
   "cell_type": "code",
   "execution_count": 43,
   "metadata": {},
   "outputs": [
    {
     "data": {
      "text/plain": [
       "'G'"
      ]
     },
     "execution_count": 43,
     "metadata": {},
     "output_type": "execute_result"
    }
   ],
   "source": [
    "r.first.back().symbol"
   ]
  },
  {
   "cell_type": "code",
   "execution_count": 44,
   "metadata": {},
   "outputs": [
    {
     "data": {
      "text/plain": [
       "0"
      ]
     },
     "execution_count": 44,
     "metadata": {},
     "output_type": "execute_result"
    }
   ],
   "source": [
    "new = cppyy.gbl.std.set[boink.hashing.hash_t]()\n",
    "G.insert_sequence(s + 'GGTGTGGGGGG', new)"
   ]
  },
  {
   "cell_type": "code",
   "execution_count": 48,
   "metadata": {},
   "outputs": [
    {
     "data": {
      "text/plain": [
       "<cppyy.gbl.boink.dBG<boink::storage::SparseppSetStorage,boink::hashing::RollingHashShifter> object at 0x55e8a6232490 held by shared_ptr<boink::dBG<boink::storage::SparseppSetStorage,boink::hashing::RollingHashShifter> > at 0x55e8a493dd90>"
      ]
     },
     "execution_count": 48,
     "metadata": {},
     "output_type": "execute_result"
    }
   ],
   "source": [
    "G.shared_from_this()"
   ]
  },
  {
   "cell_type": "code",
   "execution_count": 49,
   "metadata": {},
   "outputs": [],
   "source": [
    "shifter = boink.hashing.RollingHashShifter('AAAAAAA', 7)"
   ]
  },
  {
   "cell_type": "code",
   "execution_count": 26,
   "metadata": {},
   "outputs": [
    {
     "data": {
      "text/plain": [
       "17896415738016705498"
      ]
     },
     "execution_count": 26,
     "metadata": {},
     "output_type": "execute_result"
    }
   ],
   "source": [
    "shifter.update_right('C')"
   ]
  },
  {
   "cell_type": "code",
   "execution_count": 27,
   "metadata": {},
   "outputs": [
    {
     "data": {
      "text/plain": [
       "17896415738016705498"
      ]
     },
     "execution_count": 27,
     "metadata": {},
     "output_type": "execute_result"
    }
   ],
   "source": [
    "shifter.get()"
   ]
  },
  {
   "cell_type": "code",
   "execution_count": 23,
   "metadata": {},
   "outputs": [
    {
     "name": "stdout",
     "output_type": "stream",
     "text": [
      "// BitStorage\n",
      "template class boink::dBG<boink::storage::BitStorage,\n",
      "                          boink::hashing::RollingHashShifter>;\n",
      "template class std::enable_shared_from_this<boink::dBG<boink::storage::BitStorage,\n",
      "                                            boink::hashing::RollingHashShifter>>;\n",
      "template class boink::AssemblerMixin<boink::dBG<boink::storage::BitStorage,\n",
      "                                                 boink::hashing::RollingHashShifter>>;\n",
      "template class boink::CompactorMixin<boink::dBG<boink::storage::BitStorage,\n",
      "                                                 boink::hashing::RollingHashShifter>>;\n",
      "template class boink::DecisionNodeProcessor<boink::dBG<boink::storage::BitStorage,\n",
      "                                                       boink::hashing::RollingHashShifter>>;\n",
      "template class boink::StreamingCompactorProcessor<boink::dBG<boink::storage::BitStorage,\n",
      "                                                             boink::hashing::RollingHashShifter>>;\n",
      "template class boink::FileConsumer<boink::dBG<boink::storage::BitStorage,\n",
      "                                              boink::hashing::RollingHashShifter>>;\n",
      "\n",
      "// ByteStorage\n",
      "template class boink::dBG<boink::storage::ByteStorage,\n",
      "                          boink::hashing::RollingHashShifter>;\n",
      "template class std::enable_shared_from_this<boink::dBG<boink::storage::ByteStorage,\n",
      "                                            boink::hashing::RollingHashShifter>>;\n",
      "template class boink::AssemblerMixin<boink::dBG<boink::storage::ByteStorage,\n",
      "                                                 boink::hashing::RollingHashShifter>>;\n",
      "template class boink::CompactorMixin<boink::dBG<boink::storage::ByteStorage,\n",
      "                                                 boink::hashing::RollingHashShifter>>;\n",
      "template class boink::DecisionNodeProcessor<boink::dBG<boink::storage::ByteStorage,\n",
      "                                                       boink::hashing::RollingHashShifter>>;\n",
      "template class boink::StreamingCompactorProcessor<boink::dBG<boink::storage::ByteStorage,\n",
      "                                                             boink::hashing::RollingHashShifter>>;\n",
      "template class boink::FileConsumer<boink::dBG<boink::storage::ByteStorage,\n",
      "                                              boink::hashing::RollingHashShifter>>;\n",
      "\n",
      "// NibbleStorage\n",
      "template class boink::dBG<boink::storage::NibbleStorage,\n",
      "                          boink::hashing::RollingHashShifter>;\n",
      "template class std::enable_shared_from_this<boink::dBG<boink::storage::NibbleStorage,\n",
      "                                            boink::hashing::RollingHashShifter>>;\n",
      "template class boink::AssemblerMixin<boink::dBG<boink::storage::NibbleStorage,\n",
      "                                                 boink::hashing::RollingHashShifter>>;\n",
      "template class boink::CompactorMixin<boink::dBG<boink::storage::NibbleStorage,\n",
      "                                                 boink::hashing::RollingHashShifter>>;\n",
      "template class boink::DecisionNodeProcessor<boink::dBG<boink::storage::NibbleStorage,\n",
      "                                                       boink::hashing::RollingHashShifter>>;\n",
      "template class boink::StreamingCompactorProcessor<boink::dBG<boink::storage::NibbleStorage,\n",
      "                                                             boink::hashing::RollingHashShifter>>;\n",
      "template class boink::FileConsumer<boink::dBG<boink::storage::NibbleStorage,\n",
      "                                              boink::hashing::RollingHashShifter>>;\n",
      "\n",
      "// QFStorage\n",
      "template class boink::dBG<boink::storage::QFStorage,\n",
      "                          boink::hashing::RollingHashShifter>;\n",
      "template class std::enable_shared_from_this<boink::dBG<boink::storage::QFStorage,\n",
      "                                            boink::hashing::RollingHashShifter>>;\n",
      "template class boink::AssemblerMixin<boink::dBG<boink::storage::QFStorage,\n",
      "                                                 boink::hashing::RollingHashShifter>>;\n",
      "template class boink::CompactorMixin<boink::dBG<boink::storage::QFStorage,\n",
      "                                                 boink::hashing::RollingHashShifter>>;\n",
      "template class boink::DecisionNodeProcessor<boink::dBG<boink::storage::QFStorage,\n",
      "                                                       boink::hashing::RollingHashShifter>>;\n",
      "template class boink::StreamingCompactorProcessor<boink::dBG<boink::storage::QFStorage,\n",
      "                                                             boink::hashing::RollingHashShifter>>;\n",
      "template class boink::FileConsumer<boink::dBG<boink::storage::QFStorage,\n",
      "                                              boink::hashing::RollingHashShifter>>;\n",
      "\n",
      "// SparseppSetStorage\n",
      "template class boink::dBG<boink::storage::SparseppSetStorage,\n",
      "                          boink::hashing::RollingHashShifter>;\n",
      "template class std::enable_shared_from_this<boink::dBG<boink::storage::SparseppSetStorage,\n",
      "                                            boink::hashing::RollingHashShifter>>;\n",
      "template class boink::AssemblerMixin<boink::dBG<boink::storage::SparseppSetStorage,\n",
      "                                                 boink::hashing::RollingHashShifter>>;\n",
      "template class boink::CompactorMixin<boink::dBG<boink::storage::SparseppSetStorage,\n",
      "                                                 boink::hashing::RollingHashShifter>>;\n",
      "template class boink::DecisionNodeProcessor<boink::dBG<boink::storage::SparseppSetStorage,\n",
      "                                                       boink::hashing::RollingHashShifter>>;\n",
      "template class boink::StreamingCompactorProcessor<boink::dBG<boink::storage::SparseppSetStorage,\n",
      "                                                             boink::hashing::RollingHashShifter>>;\n",
      "template class boink::FileConsumer<boink::dBG<boink::storage::SparseppSetStorage,\n",
      "                                              boink::hashing::RollingHashShifter>>;\n",
      "\n"
     ]
    }
   ],
   "source": [
    "storages = ['BitStorage', 'ByteStorage', 'NibbleStorage', 'QFStorage', 'SparseppSetStorage']\n",
    "for storage in storages:\n",
    "    print('//', storage)\n",
    "    print('template class boink::dBG<boink::storage::{},\\n'\n",
    "          '                          boink::hashing::RollingHashShifter>;'.format(storage))\n",
    "    print('template class std::enable_shared_from_this<boink::dBG<boink::storage::{},\\n'\n",
    "          '                                            boink::hashing::RollingHashShifter>>;'.format(storage))\n",
    "    print('template class boink::AssemblerMixin<boink::dBG<boink::storage::{},\\n'\n",
    "          '                                                 boink::hashing::RollingHashShifter>>;'.format(storage))\n",
    "    print('template class boink::CompactorMixin<boink::dBG<boink::storage::{},\\n'\n",
    "          '                                                 boink::hashing::RollingHashShifter>>;'.format(storage))\n",
    "    print('template class boink::DecisionNodeProcessor<boink::dBG<boink::storage::{},\\n'\n",
    "          '                                                       boink::hashing::RollingHashShifter>>;'.format(storage))\n",
    "    print('template class boink::StreamingCompactorProcessor<boink::dBG<boink::storage::{},\\n'\n",
    "          '                                                             boink::hashing::RollingHashShifter>>;'.format(storage))\n",
    "    print('template class boink::FileConsumer<boink::dBG<boink::storage::{},\\n'\n",
    "          '                                              boink::hashing::RollingHashShifter>>;'.format(storage))\n",
    "    print()"
   ]
  },
  {
   "cell_type": "code",
   "execution_count": null,
   "metadata": {},
   "outputs": [],
   "source": []
  }
 ],
 "metadata": {
  "kernelspec": {
   "display_name": "Python 3",
   "language": "python",
   "name": "python3"
  },
  "language_info": {
   "codemirror_mode": {
    "name": "ipython",
    "version": 3
   },
   "file_extension": ".py",
   "mimetype": "text/x-python",
   "name": "python",
   "nbconvert_exporter": "python",
   "pygments_lexer": "ipython3",
   "version": "3.6.8"
  }
 },
 "nbformat": 4,
 "nbformat_minor": 2
}
