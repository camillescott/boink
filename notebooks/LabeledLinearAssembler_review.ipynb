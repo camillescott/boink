{
 "cells": [
  {
   "cell_type": "code",
   "execution_count": 19,
   "metadata": {
    "collapsed": false
   },
   "outputs": [],
   "source": [
    "import khmer\n",
    "from khmer.tests import khmer_tst_utils as test_utils\n",
    "from khmer import reverse_hash\n",
    "from khmer import reverse_complement\n",
    "import screed\n",
    "import random\n",
    "import itertools\n",
    "from imp import reload"
   ]
  },
  {
   "cell_type": "code",
   "execution_count": 20,
   "metadata": {
    "collapsed": false
   },
   "outputs": [],
   "source": [
    "contig = list(screed.open(test_utils.get_test_data('simple-genome.fa')))[0].sequence"
   ]
  },
  {
   "cell_type": "code",
   "execution_count": 21,
   "metadata": {
    "collapsed": false
   },
   "outputs": [
    {
     "data": {
      "text/plain": [
       "'TGCCGCCCAGCACCGGGTGACTAGGTTGAGCCATGATTAACCTGCAATGAAGGTCATTCACACGCAGCGTCATTTAATGGATTGGTGCACACTTAACTGGGTGCCGCGCTGGTGCTGATCCATGAAGTTCATCTGGACTTGTACGTGCGACAGCTCCTTCCATTTCCGCCTTGCCATACAGACCACCTAAGACCGCAGACCCTCCTCCTTACCACATGCGATGCGTGGGAACCGGTGTCAAAGACGGGTGCCGCTACACAGGAAGGCACCCAGGGAAAGTCGTTTGCCGGAAGAGAGTGGAGCTCCTACGTAAACGGGGAAACCACTTGTTTGGATTCCCCCTTGCCGATTCGGCCCTATCAGGATGTATTTAACTTAGGAGAAACCGAACAACTGCCACCGCTTATTGCCCCGGCAGGCGGTAGTTTCCACGATCTAACAATCGAAGCAATTCGGACAGGCTTAAGCTACAAAGCTCGGATTTTGTAAGTGCTCTATCCTTTGTAGGAAGTGAAAGATGACGTTGCGGCCGTCGCTGTTGGAGGAACCGCAGCACCATGGCGCCTGTGCGAGCTGGAGATCCTCTCATAGCGTCAGAGCACGGGATGCTGTATATTAAGCACACAATAGCCCGGGGACCGGCCCCAACGTGAAATGCCTGGCCTGCCGTTCTTTATAGTGCTCGTGATAGTGTTATAAAGGAACTAACATCAAGTTATGTAAGGACTTTTACAATAGCGTGGTCCGTCAAGTCGTCCACGTGTGTAAATTCATTGGTACCTTTTGCCGAAAAATTTGAAAGCTAAGCACATTCTGCTTACTCACAGGGTAAGTTCCTGAAGTATTAATGTAATGTGGAAAGACAGGCATATGAACACTATTGGGCTTTGTAGACATTCCTCATCCATGCTGTATCAGTAATGTACAATTCGCCCCTTTCGTAAAGGAGAGCCGTGCTAACGTTATATTCGGTCTTACCACGGGCTCGATAGTTTGCCCC'"
      ]
     },
     "execution_count": 21,
     "metadata": {},
     "output_type": "execute_result"
    }
   ],
   "source": [
    "contig"
   ]
  },
  {
   "cell_type": "code",
   "execution_count": 22,
   "metadata": {
    "collapsed": false
   },
   "outputs": [],
   "source": [
    "def mutate_base(base):\n",
    "    if base in 'AT':\n",
    "        return random.choice('GC')\n",
    "    elif base in 'GC':\n",
    "        return random.choice('AT')\n",
    "    else:\n",
    "        assert False, 'bad base'\n",
    "    \n",
    "def mutate_sequence(sequence, N=1):\n",
    "    sequence = list(sequence)\n",
    "    positions = random.sample(range(len(sequence)), N)\n",
    "    \n",
    "    for i in positions:\n",
    "        sequence[i] = mutate_base(sequence[i])\n",
    "        \n",
    "    return ''.join(sequence)\n",
    "\n",
    "def mutate_position(sequence, pos):\n",
    "    sequence = list(sequence)\n",
    "    sequence[pos] = mutate_base(sequence[pos])\n",
    "    return ''.join(sequence)\n",
    "\n",
    "for _ in range(100):\n",
    "    assert 'A' not in mutate_sequence('A' * 10, 10)\n",
    "    assert 'T' not in mutate_sequence('T' * 10, 10)\n",
    "    assert 'C' not in mutate_sequence('C' * 10, 10)\n",
    "    assert 'G' not in mutate_sequence('G' * 10, 10)\n",
    "\n",
    "assert mutate_position('AAAA', 2) in ['AACA', 'AAGA']\n",
    "assert mutate_position('TTTT', 2) in ['TTCT', 'TTGT']\n",
    "assert mutate_position('CCCC', 2) in ['CCAC', 'CCTC']\n",
    "assert mutate_position('GGGG', 2) in ['GGAG', 'GGTG']"
   ]
  },
  {
   "cell_type": "code",
   "execution_count": 23,
   "metadata": {
    "collapsed": true
   },
   "outputs": [],
   "source": [
    "def reads_from_sequence(sequence, L=100, N=100):\n",
    "    positions = list(range(len(sequence) - L))\n",
    "    for i in range(N):\n",
    "        start = random.choice(positions)\n",
    "        yield sequence[start:start+L]\n",
    "\n",
    "for read in reads_from_sequence(contig):\n",
    "    assert read in contig\n",
    "    \n",
    "for read in reads_from_sequence(contig):\n",
    "    assert mutate_sequence(read) not in contig"
   ]
  },
  {
   "cell_type": "code",
   "execution_count": 24,
   "metadata": {
    "collapsed": true
   },
   "outputs": [],
   "source": [
    "def str_tag(tag, K):\n",
    "    return '<Tag {0} {1}>'.format(reverse_hash(tag, K), reverse_complement(reverse_hash(tag, K)))"
   ]
  },
  {
   "cell_type": "markdown",
   "metadata": {},
   "source": [
    "With the `NaiveLabeledAssembler`, we expect this configuration to produce only one shortened contig: we get two possible branches with spanning reads, neither of which has coverage of 1 (being a putative error / tip)."
   ]
  },
  {
   "cell_type": "code",
   "execution_count": 25,
   "metadata": {
    "collapsed": false,
    "scrolled": true
   },
   "outputs": [
    {
     "name": "stdout",
     "output_type": "stream",
     "text": [
      "Read: 19\n",
      "['<Tag CCAGTTAAGTGTGCACCAATC GATTGGTGCACACTTAACTGG>']\n",
      "Read: 26\n",
      "['<Tag CCAGTTAAGTGTGCACCAATC GATTGGTGCACACTTAACTGG>']\n",
      "Read: 27\n",
      "['<Tag TGCCGCGCTGGTGCTGATCCA TGGATCAGCACCAGCGCGGCA>']\n",
      "Read: 35\n",
      "['<Tag TGCCGCGCTGGTGCTGATCCA TGGATCAGCACCAGCGCGGCA>', '<Tag CCAGTTAAGTGTGCACCAATC GATTGGTGCACACTTAACTGG>']\n",
      "Read: 36\n",
      "['<Tag CCAGTTAAGTGTGCACCAATC GATTGGTGCACACTTAACTGG>']\n",
      "Read: 40\n",
      "['<Tag CCAGTTAAGTGTGCACCAATC GATTGGTGCACACTTAACTGG>']\n",
      "Read: 52\n",
      "['<Tag TGCCGCGCTGGTGCTGATCCA TGGATCAGCACCAGCGCGGCA>']\n",
      "Read: 53\n",
      "['<Tag TGCCGCGCTGGTGCTGATCCA TGGATCAGCACCAGCGCGGCA>', '<Tag CCAGTTAAGTGTGCACCAATC GATTGGTGCACACTTAACTGG>']\n",
      "Read: 61\n",
      "['<Tag TGCCGCGCTGGTGCTGATCCA TGGATCAGCACCAGCGCGGCA>', '<Tag CCAGTTAAGTGTGCACCAATC GATTGGTGCACACTTAACTGG>']\n",
      "Read: 69\n",
      "['<Tag TGCCGCGCTGGTGCTGATCCA TGGATCAGCACCAGCGCGGCA>', '<Tag CCAGTTAAGTGTGCACCAATC GATTGGTGCACACTTAACTGG>']\n",
      "Read: 78\n",
      "['<Tag TGCCGCGCTGGTGCTGATCCA TGGATCAGCACCAGCGCGGCA>', '<Tag CCAGTTAAGTGTGCACCAATC GATTGGTGCACACTTAACTGG>']\n",
      "Read: 83\n",
      "['<Tag TGCCGCGCTGGTGCTGATCCA TGGATCAGCACCAGCGCGGCA>', '<Tag CCAGTTAAGTGTGCACCAATC GATTGGTGCACACTTAACTGG>']\n",
      "Read: 88\n",
      "['<Tag TGCCGCGCTGGTGCTGATCCA TGGATCAGCACCAGCGCGGCA>', '<Tag CCAGTTAAGTGTGCACCAATC GATTGGTGCACACTTAACTGG>']\n",
      "Read: 89\n",
      "['<Tag TGCCGCGCTGGTGCTGATCCA TGGATCAGCACCAGCGCGGCA>']\n",
      "Read: 103\n",
      "['<Tag TGCCGCGCTGGTGCTGATCCA TGGATCAGCACCAGCGCGGCA>', '<Tag CCAGTTAAGTGTGCACCAATC GATTGGTGCACACTTAACTGG>']\n",
      "Read: 115\n",
      "['<Tag CCAGTTAAGTGTGCACCAATC GATTGGTGCACACTTAACTGG>']\n",
      "Read: 194\n",
      "['<Tag TGCCGCGCTGGTGCTGATCCA TGGATCAGCACCAGCGCGGCA>', '<Tag CCAGTTAAGTGTGCACCAATC GATTGGTGCACACTTAACTGG>']\n",
      "Read: 196\n",
      "['<Tag TGCCGCGCTGGTGCTGATCCA TGGATCAGCACCAGCGCGGCA>', '<Tag CCAGTTAAGTGTGCACCAATC GATTGGTGCACACTTAACTGG>']\n",
      "Read: 198\n",
      "['<Tag TGCCGCGCTGGTGCTGATCCA TGGATCAGCACCAGCGCGGCA>']\n"
     ]
    }
   ],
   "source": [
    "K = 21\n",
    "graph = khmer.Countgraph(K, 1e6, 4)\n",
    "labeller = khmer._GraphLabels(graph)\n",
    "\n",
    "graph.consume(contig)\n",
    "bubble = mutate_position(contig, 100)\n",
    "\n",
    "reads = list(itertools.chain(reads_from_sequence(contig), reads_from_sequence(bubble)))\n",
    "random.shuffle(reads)\n",
    "\n",
    "for n, read in enumerate(reads):\n",
    "    graph.consume(read)\n",
    "\n",
    "    hdns = graph.find_high_degree_nodes(read)\n",
    "    labeller.label_across_high_degree_nodes(read, hdns, n)"
   ]
  },
  {
   "cell_type": "code",
   "execution_count": 26,
   "metadata": {
    "collapsed": false,
    "scrolled": true
   },
   "outputs": [
    {
     "name": "stdout",
     "output_type": "stream",
     "text": [
      "1000 TGCCGCCCAGCACCGGGTGACTAGGTTGAGCCATGATTAACCTGCAATGAAGGTCATTCACACGCAGCGTCATTTAATGGATTGGTGCACACTTAACTGGGTGCCGCGCTGGTGCTGATCCATGAAGTTCATCTGGACTTGTACGTGCGACAGCTCCTTCCATTTCCGCCTTGCCATACAGACCACCTAAGACCGCAGACCCTCCTCCTTACCACATGCGATGCGTGGGAACCGGTGTCAAAGACGGGTGCCGCTACACAGGAAGGCACCCAGGGAAAGTCGTTTGCCGGAAGAGAGTGGAGCTCCTACGTAAACGGGGAAACCACTTGTTTGGATTCCCCCTTGCCGATTCGGCCCTATCAGGATGTATTTAACTTAGGAGAAACCGAACAACTGCCACCGCTTATTGCCCCGGCAGGCGGTAGTTTCCACGATCTAACAATCGAAGCAATTCGGACAGGCTTAAGCTACAAAGCTCGGATTTTGTAAGTGCTCTATCCTTTGTAGGAAGTGAAAGATGACGTTGCGGCCGTCGCTGTTGGAGGAACCGCAGCACCATGGCGCCTGTGCGAGCTGGAGATCCTCTCATAGCGTCAGAGCACGGGATGCTGTATATTAAGCACACAATAGCCCGGGGACCGGCCCCAACGTGAAATGCCTGGCCTGCCGTTCTTTATAGTGCTCGTGATAGTGTTATAAAGGAACTAACATCAAGTTATGTAAGGACTTTTACAATAGCGTGGTCCGTCAAGTCGTCCACGTGTGTAAATTCATTGGTACCTTTTGCCGAAAAATTTGAAAGCTAAGCACATTCTGCTTACTCACAGGGTAAGTTCCTGAAGTATTAATGTAATGTGGAAAGACAGGCATATGAACACTATTGGGCTTTGTAGACATTCCTCATCCATGCTGTATCAGTAATGTACAATTCGCCCCTTTCGTAAAGGAGAGCCGTGCTAACGTTATATTCGGTCTTACCACGGGCTCGATAGTTTGCCCC\n",
      "\n",
      "1000 TGCCGCCCAGCACCGGGTGACTAGGTTGAGCCATGATTAACCTGCAATGAAGGTCATTCACACGCAGCGTCATTTAATGGATTGGTGCACACTTAACTGGTTGCCGCGCTGGTGCTGATCCATGAAGTTCATCTGGACTTGTACGTGCGACAGCTCCTTCCATTTCCGCCTTGCCATACAGACCACCTAAGACCGCAGACCCTCCTCCTTACCACATGCGATGCGTGGGAACCGGTGTCAAAGACGGGTGCCGCTACACAGGAAGGCACCCAGGGAAAGTCGTTTGCCGGAAGAGAGTGGAGCTCCTACGTAAACGGGGAAACCACTTGTTTGGATTCCCCCTTGCCGATTCGGCCCTATCAGGATGTATTTAACTTAGGAGAAACCGAACAACTGCCACCGCTTATTGCCCCGGCAGGCGGTAGTTTCCACGATCTAACAATCGAAGCAATTCGGACAGGCTTAAGCTACAAAGCTCGGATTTTGTAAGTGCTCTATCCTTTGTAGGAAGTGAAAGATGACGTTGCGGCCGTCGCTGTTGGAGGAACCGCAGCACCATGGCGCCTGTGCGAGCTGGAGATCCTCTCATAGCGTCAGAGCACGGGATGCTGTATATTAAGCACACAATAGCCCGGGGACCGGCCCCAACGTGAAATGCCTGGCCTGCCGTTCTTTATAGTGCTCGTGATAGTGTTATAAAGGAACTAACATCAAGTTATGTAAGGACTTTTACAATAGCGTGGTCCGTCAAGTCGTCCACGTGTGTAAATTCATTGGTACCTTTTGCCGAAAAATTTGAAAGCTAAGCACATTCTGCTTACTCACAGGGTAAGTTCCTGAAGTATTAATGTAATGTGGAAAGACAGGCATATGAACACTATTGGGCTTTGTAGACATTCCTCATCCATGCTGTATCAGTAATGTACAATTCGCCCCTTTCGTAAAGGAGAGCCGTGCTAACGTTATATTCGGTCTTACCACGGGCTCGATAGTTTGCCCC\n"
     ]
    }
   ],
   "source": [
    "paths = labeller.assemble_labeled_path(contig[:K])\n",
    "print(*[str(len(p)) + ' ' + p for p in paths], sep='\\n\\n')"
   ]
  },
  {
   "cell_type": "markdown",
   "metadata": {
    "collapsed": true
   },
   "source": [
    "Let's try introducing an error in a singe read. This should trip the filter and cause one full length contig to be produced, so long as the coverage at the branch is greater than the arbitrarily selected minimum."
   ]
  },
  {
   "cell_type": "code",
   "execution_count": 27,
   "metadata": {
    "collapsed": false,
    "scrolled": true
   },
   "outputs": [
    {
     "name": "stdout",
     "output_type": "stream",
     "text": [
      "Read: 50\n",
      "['<Tag TGCCGCGCTGGTGCTGATCCA TGGATCAGCACCAGCGCGGCA>', '<Tag CCAGTTAAGTGTGCACCAATC GATTGGTGCACACTTAACTGG>']\n",
      "Read: 54\n",
      "['<Tag TGCCGCGCTGGTGCTGATCCA TGGATCAGCACCAGCGCGGCA>']\n",
      "Read: 77\n",
      "['<Tag TGCCGCGCTGGTGCTGATCCA TGGATCAGCACCAGCGCGGCA>', '<Tag CCAGTTAAGTGTGCACCAATC GATTGGTGCACACTTAACTGG>']\n",
      "Read: 85\n",
      "['<Tag TGCCGCGCTGGTGCTGATCCA TGGATCAGCACCAGCGCGGCA>', '<Tag CCAGTTAAGTGTGCACCAATC GATTGGTGCACACTTAACTGG>']\n"
     ]
    }
   ],
   "source": [
    "K = 21\n",
    "graph = khmer.Countgraph(K, 1e6, 4)\n",
    "labeller = khmer._GraphLabels(graph)\n",
    "\n",
    "bubble = mutate_position(contig, 100)\n",
    "\n",
    "reads = itertools.chain(reads_from_sequence(contig, N=50), \n",
    "                        [bubble],\n",
    "                        reads_from_sequence(contig, N=50))\n",
    "\n",
    "for n, read in enumerate(reads):\n",
    "    graph.consume(read)\n",
    "\n",
    "    hdns = graph.find_high_degree_nodes(read)\n",
    "    if list(hdns):\n",
    "        print('Read:', n)\n",
    "        print([str_tag(h, K) for h in hdns])\n",
    "    labeller.label_across_high_degree_nodes(read, hdns, n)"
   ]
  },
  {
   "cell_type": "code",
   "execution_count": 28,
   "metadata": {
    "collapsed": false
   },
   "outputs": [
    {
     "name": "stdout",
     "output_type": "stream",
     "text": [
      "1000 TGCCGCCCAGCACCGGGTGACTAGGTTGAGCCATGATTAACCTGCAATGAAGGTCATTCACACGCAGCGTCATTTAATGGATTGGTGCACACTTAACTGGGTGCCGCGCTGGTGCTGATCCATGAAGTTCATCTGGACTTGTACGTGCGACAGCTCCTTCCATTTCCGCCTTGCCATACAGACCACCTAAGACCGCAGACCCTCCTCCTTACCACATGCGATGCGTGGGAACCGGTGTCAAAGACGGGTGCCGCTACACAGGAAGGCACCCAGGGAAAGTCGTTTGCCGGAAGAGAGTGGAGCTCCTACGTAAACGGGGAAACCACTTGTTTGGATTCCCCCTTGCCGATTCGGCCCTATCAGGATGTATTTAACTTAGGAGAAACCGAACAACTGCCACCGCTTATTGCCCCGGCAGGCGGTAGTTTCCACGATCTAACAATCGAAGCAATTCGGACAGGCTTAAGCTACAAAGCTCGGATTTTGTAAGTGCTCTATCCTTTGTAGGAAGTGAAAGATGACGTTGCGGCCGTCGCTGTTGGAGGAACCGCAGCACCATGGCGCCTGTGCGAGCTGGAGATCCTCTCATAGCGTCAGAGCACGGGATGCTGTATATTAAGCACACAATAGCCCGGGGACCGGCCCCAACGTGAAATGCCTGGCCTGCCGTTCTTTATAGTGCTCGTGATAGTGTTATAAAGGAACTAACATCAAGTTATGTAAGGACTTTTACAATAGCGTGGTCCGTCAAGTCGTCCACGTGTGTAAATTCATTGGTACCTTTTGCCGAAAAATTTGAAAGCTAAGCACATTCTGCTTACTCACAGGGTAAGTTCCTGAAGTATTAATGTAATGTGGAAAGACAGGCATATGAACACTATTGGGCTTTGTAGACATTCCTCATCCATGCTGTATCAGTAATGTACAATTCGCCCCTTTCGTAAAGGAGAGCCGTGCTAACGTTATATTCGGTCTTACCACGGGCTCGATAGTTTGCCCC\n",
      "\n",
      "1000 TGCCGCCCAGCACCGGGTGACTAGGTTGAGCCATGATTAACCTGCAATGAAGGTCATTCACACGCAGCGTCATTTAATGGATTGGTGCACACTTAACTGGTTGCCGCGCTGGTGCTGATCCATGAAGTTCATCTGGACTTGTACGTGCGACAGCTCCTTCCATTTCCGCCTTGCCATACAGACCACCTAAGACCGCAGACCCTCCTCCTTACCACATGCGATGCGTGGGAACCGGTGTCAAAGACGGGTGCCGCTACACAGGAAGGCACCCAGGGAAAGTCGTTTGCCGGAAGAGAGTGGAGCTCCTACGTAAACGGGGAAACCACTTGTTTGGATTCCCCCTTGCCGATTCGGCCCTATCAGGATGTATTTAACTTAGGAGAAACCGAACAACTGCCACCGCTTATTGCCCCGGCAGGCGGTAGTTTCCACGATCTAACAATCGAAGCAATTCGGACAGGCTTAAGCTACAAAGCTCGGATTTTGTAAGTGCTCTATCCTTTGTAGGAAGTGAAAGATGACGTTGCGGCCGTCGCTGTTGGAGGAACCGCAGCACCATGGCGCCTGTGCGAGCTGGAGATCCTCTCATAGCGTCAGAGCACGGGATGCTGTATATTAAGCACACAATAGCCCGGGGACCGGCCCCAACGTGAAATGCCTGGCCTGCCGTTCTTTATAGTGCTCGTGATAGTGTTATAAAGGAACTAACATCAAGTTATGTAAGGACTTTTACAATAGCGTGGTCCGTCAAGTCGTCCACGTGTGTAAATTCATTGGTACCTTTTGCCGAAAAATTTGAAAGCTAAGCACATTCTGCTTACTCACAGGGTAAGTTCCTGAAGTATTAATGTAATGTGGAAAGACAGGCATATGAACACTATTGGGCTTTGTAGACATTCCTCATCCATGCTGTATCAGTAATGTACAATTCGCCCCTTTCGTAAAGGAGAGCCGTGCTAACGTTATATTCGGTCTTACCACGGGCTCGATAGTTTGCCCC\n"
     ]
    }
   ],
   "source": [
    "paths = labeller.assemble_labeled_path(contig[:K])\n",
    "print(*[str(len(p)) + ' ' + p for p in paths], sep='\\n\\n')"
   ]
  },
  {
   "cell_type": "code",
   "execution_count": 29,
   "metadata": {
    "collapsed": false
   },
   "outputs": [
    {
     "name": "stdout",
     "output_type": "stream",
     "text": [
      "[3405415116682]\n",
      "[1, 2]\n",
      "[1000, 130]\n",
      "len path: 2\n"
     ]
    }
   ],
   "source": [
    "nodegraph = khmer.Nodegraph(K, 1e5, 4)\n",
    "lh = khmer._GraphLabels(nodegraph)\n",
    "\n",
    "nodegraph.consume(contig)\n",
    "branch = contig[:120] + 'TGATGGACAG'\n",
    "nodegraph.consume(branch)  # will add a branch\n",
    "\n",
    "hdn = nodegraph.find_high_degree_nodes(contig)\n",
    "hdn += nodegraph.find_high_degree_nodes(branch)\n",
    "print(list(hdn))\n",
    "lh.label_across_high_degree_nodes(contig, hdn, 1)\n",
    "lh.label_across_high_degree_nodes(branch, hdn, 2)\n",
    "print(lh.get_tag_labels(list(hdn)[0]))\n",
    "\n",
    "paths = lh.assemble_labeled_path(contig[:K])\n",
    "print([len(x) for x in paths])\n",
    "len_path = len(paths)\n",
    "\n",
    "print('len path:', len_path)"
   ]
  }
 ],
 "metadata": {
  "_draft": {
   "nbviewer_url": "https://gist.github.com/38e10d1cd6627b054423c0b51c2b4f2e"
  },
  "anaconda-cloud": {},
  "gist": {
   "data": {
    "description": "LabeledLinearAssembler_review.ipynb",
    "public": true
   },
   "id": "38e10d1cd6627b054423c0b51c2b4f2e"
  },
  "kernelspec": {
   "display_name": "Python [default]",
   "language": "python",
   "name": "python3"
  },
  "language_info": {
   "codemirror_mode": {
    "name": "ipython",
    "version": 3
   },
   "file_extension": ".py",
   "mimetype": "text/x-python",
   "name": "python",
   "nbconvert_exporter": "python",
   "pygments_lexer": "ipython3",
   "version": "3.5.2"
  },
  "notify_time": "30"
 },
 "nbformat": 4,
 "nbformat_minor": 0
}
