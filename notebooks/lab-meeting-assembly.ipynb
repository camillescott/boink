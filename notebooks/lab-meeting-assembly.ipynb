{
 "cells": [
  {
   "cell_type": "code",
   "execution_count": 1,
   "metadata": {
    "collapsed": false,
    "nbpresent": {
     "id": "173737f6-77f5-4b11-a977-41d8987803c0"
    },
    "slideshow": {
     "slide_type": "skip"
    }
   },
   "outputs": [],
   "source": [
    "import pandas as pd\n",
    "import seaborn as sns"
   ]
  },
  {
   "cell_type": "markdown",
   "metadata": {
    "collapsed": true,
    "nbpresent": {
     "id": "8632b237-9464-4b22-b7d9-dfe720b4f314"
    },
    "slideshow": {
     "slide_type": "slide"
    }
   },
   "source": [
    "---\n",
    "\n",
    "\n",
    "# Why Don't Transcriptomes Finish Assembling and What Can Be Done About It?\n",
    "\n",
    "a brief intro to transcriptome assembly, with preliminary work an ideas in the khmer software package,\n",
    "presented to the steely-eyed nucleotide hackers of the \n",
    "*Lab for Data Intensive Biology*.\n",
    "\n",
    "- **Camille Scott**\n",
    "- @camille_codon\n",
    "- https://github.com/camillescott/\n",
    "\n",
    "---"
   ]
  },
  {
   "cell_type": "markdown",
   "metadata": {
    "collapsed": true,
    "slideshow": {
     "slide_type": "slide"
    }
   },
   "source": [
    "---\n",
    "\n",
    ">\"The assertion that most production software bugs are soft\n",
    "Heisenbugs that go away when you look at them is well known to\n",
    "systems programmers. Bohrbugs, like the Bohr atom, are solid, easily\n",
    "detected by standard techniques, and hence boring. But Heisenbugs may\n",
    "elude a bugcatcher for years of execution. Indeed, the bugcatcher may\n",
    "perturb the situation just enough to make the Heisenbug disappear.\" \n",
    "\n",
    "*<center>- Jim Gray, June 1985</center>*\n",
    "\n",
    "---"
   ]
  },
  {
   "cell_type": "markdown",
   "metadata": {
    "slideshow": {
     "slide_type": "subslide"
    }
   },
   "source": [
    "Jim Gray's amusing quote refers to building fault-tolerant systems (from a an oldie-but-a-goodie that I recommend reading), not assembling transcriptomes. There is, however, a relation: many of us have run into the maddening situation where an otherwise jolly assembly routine decides to fall over three-fourths of the way through its three-day ultramarathon."
   ]
  },
  {
   "cell_type": "markdown",
   "metadata": {
    "slideshow": {
     "slide_type": "fragment"
    }
   },
   "source": [
    "<div align=\"right\">**How can we finish assembling?**</div>"
   ]
  },
  {
   "cell_type": "markdown",
   "metadata": {
    "slideshow": {
     "slide_type": "subslide"
    }
   },
   "source": [
    "---\n",
    "\n",
    "## <center> Just Don't. </center>\n",
    "\n",
    "---"
   ]
  },
  {
   "cell_type": "markdown",
   "metadata": {
    "slideshow": {
     "slide_type": "subslide"
    }
   },
   "source": [
    "---\n",
    "<center><img src=\"http://i.imgur.com/j114jEX.jpg\" width=800></center>\n",
    "\n",
    "---"
   ]
  },
  {
   "cell_type": "markdown",
   "metadata": {
    "slideshow": {
     "slide_type": "slide"
    }
   },
   "source": [
    "## Stream, Baby, Stream\n",
    "\n",
    "Let's just do streaming assembly instead!\n",
    "\n",
    "Most of us are likely familiar with, or have at least heard, someone in the lab (probably Titus) ramble on (probably Titus) about streaming algorithms. Let's get a more precise definition."
   ]
  },
  {
   "cell_type": "markdown",
   "metadata": {
    "slideshow": {
     "slide_type": "subslide"
    }
   },
   "source": [
    "---\n",
    "\n",
    "**Streaming algorithms**:\n"
   ]
  },
  {
   "cell_type": "markdown",
   "metadata": {
    "slideshow": {
     "slide_type": "fragment"
    }
   },
   "source": [
    "- Operate on *sequences* of data too big to fit in memory,"
   ]
  },
  {
   "cell_type": "markdown",
   "metadata": {
    "slideshow": {
     "slide_type": "fragment"
    }
   },
   "source": [
    "- make a *single pass* over that data$^1$,"
   ]
  },
  {
   "cell_type": "markdown",
   "metadata": {
    "slideshow": {
     "slide_type": "fragment"
    }
   },
   "source": [
    "- and generally, produce *approximate* solutions $^{2}$.\n",
    "\n",
    "---"
   ]
  },
  {
   "cell_type": "markdown",
   "metadata": {
    "slideshow": {
     "slide_type": "fragment"
    }
   },
   "source": [
    "<small>\n",
    "1. or sometimes, a small number of passes.\n",
    "2. slides from Piot Indyk at Rice Uni.: https://people.csail.mit.edu/indyk/ita-web.pdf\n",
    "</small>"
   ]
  },
  {
   "cell_type": "markdown",
   "metadata": {
    "slideshow": {
     "slide_type": "subslide"
    }
   },
   "source": [
    "---\n",
    "\n",
    "### Digital Normalization\n",
    "\n",
    "As an example, consider **diginorm**:"
   ]
  },
  {
   "cell_type": "markdown",
   "metadata": {
    "slideshow": {
     "slide_type": "fragment"
    }
   },
   "source": [
    "* Operates on a *sequence* of reads,"
   ]
  },
  {
   "cell_type": "markdown",
   "metadata": {
    "slideshow": {
     "slide_type": "fragment"
    }
   },
   "source": [
    "* makes a *single* pass over those reads,"
   ]
  },
  {
   "cell_type": "markdown",
   "metadata": {
    "slideshow": {
     "slide_type": "fragment"
    }
   },
   "source": [
    "* and produces an approximation of the total information in the reads$^1$.\n",
    "\n",
    "---"
   ]
  },
  {
   "cell_type": "markdown",
   "metadata": {
    "slideshow": {
     "slide_type": "fragment"
    }
   },
   "source": [
    "<small>\n",
    "1. Note: here \"approximate\" refers to the variation resulting from false positives and order of observation, not the read sampling process. An \"exact\" diginorm algorithm would be two-pass and use an exact $k$-mer counting data structure.\n",
    "</small>"
   ]
  },
  {
   "cell_type": "markdown",
   "metadata": {
    "slideshow": {
     "slide_type": "subslide"
    }
   },
   "source": [
    "### Transcriptome Assembly\n",
    "\n",
    "Our goal then is to produce a *streaming* transcriptome assembler. Such an assembler will make a single pass over the reads and generate an approximate set of transcripts."
   ]
  },
  {
   "cell_type": "markdown",
   "metadata": {
    "slideshow": {
     "slide_type": "fragment"
    }
   },
   "source": [
    "Note that now, we will have variation based on false positives (though that portion will be minimal), the order of observation, and the amount of local information available when assembly is triggered."
   ]
  },
  {
   "cell_type": "markdown",
   "metadata": {
    "slideshow": {
     "slide_type": "slide"
    }
   },
   "source": [
    "## How to Assemble Things\n",
    "\n",
    "Let's go over the traditional process for a de Buijn graph assembler."
   ]
  },
  {
   "cell_type": "markdown",
   "metadata": {
    "slideshow": {
     "slide_type": "subslide"
    }
   },
   "source": [
    "\n",
    "---\n",
    "#### The de Bruijn Graph\n",
    "\n",
    "We build the de Bruijn graph by breaking down the input reads into $k$-mers.\n",
    "\n",
    "<center>![](http://genome.cshlp.org/content/20/9/1165/F2.large.jpg)</center>\n",
    "\n",
    "---\n",
    "\n",
    "<small>image source: http://genome.cshlp.org/content/20/9/1165.full</small>"
   ]
  },
  {
   "cell_type": "markdown",
   "metadata": {
    "slideshow": {
     "slide_type": "subslide"
    }
   },
   "source": [
    "A de Druijn graph is built from the *entire* set of reads.\n",
    "\n",
    "*Then* de Bruijn graph is walked to extract transcripts. This process uses a number of heuristics$^1$ to guide which branches to take, and hopefully, construct full length transcripts.\n",
    "\n",
    "---\n",
    "\n",
    "<small> 1. Recently, an information-optimal assembler was introduced which formalizes a theory of transcriptome assembly. We'll touch on this. Source: http://biorxiv.org/content/early/2016/02/09/039230</small>"
   ]
  },
  {
   "cell_type": "markdown",
   "metadata": {
    "slideshow": {
     "slide_type": "subslide"
    }
   },
   "source": [
    "After this initial walk of the completed de Bruijn graph, there are usually some post-processing steps, such as resolving splice variants by mapping paired reads."
   ]
  },
  {
   "cell_type": "markdown",
   "metadata": {
    "slideshow": {
     "slide_type": "fragment"
    }
   },
   "source": [
    "Of course, this process is not streaming!\n",
    "\n",
    "![](http://www.nature.com/nbt/journal/v29/n7/images/nbt.1883-F1.gif)\n",
    "\n",
    "---\n",
    "\n",
    "<small>Image source: http://www.nature.com/nbt/journal/v29/n7/full/nbt.1883.html</small>"
   ]
  },
  {
   "cell_type": "markdown",
   "metadata": {
    "slideshow": {
     "slide_type": "subslide"
    }
   },
   "source": [
    "---\n",
    "\n",
    "### Graph Structures\n",
    "\n",
    "The main challenges of transcriptome assembly, like genome assembly, are errors, heterozygosity, and repetitive sequence."
   ]
  },
  {
   "cell_type": "markdown",
   "metadata": {
    "slideshow": {
     "slide_type": "fragment"
    }
   },
   "source": [
    "All of you have a fair idea of what these things are, so rather than go into them biologically, we're going to explore them via their graph structures.\n",
    "\n",
    "---"
   ]
  },
  {
   "cell_type": "markdown",
   "metadata": {
    "slideshow": {
     "slide_type": "subslide"
    }
   },
   "source": [
    "### <center> The Linear Path </center>\n",
    "\n",
    "---\n",
    "\n",
    "<center>![](images/dbg-linear-path-notitle.svg)</center>\n",
    "\n",
    "---\n",
    "\n",
    "<div align=center><p>The most basic graph component (other than the *node* and *edge*). Each exon and UTR is a linear path, flanked by one, two, or no high degree nodes (HDNs).</p></div>"
   ]
  },
  {
   "cell_type": "markdown",
   "metadata": {
    "slideshow": {
     "slide_type": "subslide"
    }
   },
   "source": [
    "### <center> de Bruijn Graph Tip\n",
    "\n",
    "---\n",
    "\n",
    "<center> ![](images/dbg-tip-notitle.svg) </center>\n",
    "\n",
    "---\n",
    "\n",
    "<div align=center><p> The tip results from a sequence error at the end of a read or, rarely, from a low-coverage SNP within $k$ bases of the beginning or end of a read. In our case, it is sometimes the result of a false positive.</p></div>"
   ]
  },
  {
   "cell_type": "markdown",
   "metadata": {
    "slideshow": {
     "slide_type": "subslide"
    }
   },
   "source": [
    "###  <center> de Bruijn Graph SNP Bubble\n",
    "\n",
    "---\n",
    "\n",
    "<center>![](images/dbg-snp-bubble-notitle.svg)</center>\n",
    "\n",
    "---\n",
    "\n",
    "<div align=center><p>A low coverage bubble is an error in the middle of a read; a high coverage bubble, a SNP. Bubbles should almost *never* form from a false positive, unless the bloom filter is ridiculously small.</p></div>"
   ]
  },
  {
   "cell_type": "markdown",
   "metadata": {
    "slideshow": {
     "slide_type": "subslide"
    }
   },
   "source": [
    "### <center> Now we move on to repeats. Most are from alternative splicing, though some can result from low-complexity sequence.</center>"
   ]
  },
  {
   "cell_type": "markdown",
   "metadata": {
    "slideshow": {
     "slide_type": "subslide"
    }
   },
   "source": [
    "### <center>  Intra-transcript Repeat\n",
    "\n",
    "---\n",
    "\n",
    "<center> ![](images/intra-transcript-double-repeat-notitle.svg) </center>\n",
    "\n",
    "---\n",
    "\n",
    "<div align=center><p> A single repeat within a transcript. Low-complexity sequence, or repetitive exons.</p></div>"
   ]
  },
  {
   "cell_type": "markdown",
   "metadata": {
    "slideshow": {
     "slide_type": "subslide"
    }
   },
   "source": [
    "### <center>  Intra-transcript Triple Repeat\n",
    "\n",
    "---\n",
    "\n",
    "<center> ![](images/intra-transcript-triple-repeat-notitle.svg) </center>\n",
    "\n",
    "---"
   ]
  },
  {
   "cell_type": "markdown",
   "metadata": {
    "slideshow": {
     "slide_type": "subslide"
    }
   },
   "source": [
    "### <center> Intra-transcript Interleaved Repeat\n",
    "\n",
    "---\n",
    "\n",
    "<center> ![](images/intra-transcript-interleaved-repeat-notitle.svg) </center>\n",
    "\n",
    "---"
   ]
  },
  {
   "cell_type": "markdown",
   "metadata": {
    "slideshow": {
     "slide_type": "subslide"
    }
   },
   "source": [
    "### <center> Inter-transcript Left-Sided Z Repeat\n",
    "---\n",
    "\n",
    "<center> ![](images/inter-transcript-left-sided-Z-notitle.svg) </center>\n",
    "\n",
    "---\n",
    "\n",
    "<div align=center><p> *Inter*-transcript repeats generally result from splice variants. The nomenclature for the following three repeat classes comes from Kannan et al.'s paper \"Shannon: An Information-Optimal de Novo RNA-Seq Assembler.</p></div>"
   ]
  },
  {
   "cell_type": "markdown",
   "metadata": {
    "slideshow": {
     "slide_type": "subslide"
    }
   },
   "source": [
    "### <center> Inter-transcript Double-Sided Z Repeat\n",
    "---\n",
    "\n",
    "<center> ![](images/inter-transcript-double-sided-Z-notitle.svg) </center>\n",
    "\n",
    "---"
   ]
  },
  {
   "cell_type": "markdown",
   "metadata": {
    "slideshow": {
     "slide_type": "subslide"
    }
   },
   "source": [
    "### <center> Inter-transcript Circular Repeat\n",
    "---\n",
    "\n",
    "<center> ![](images/inter-transcript-circular-repeat-notitle.svg) </center>\n",
    "\n",
    "---"
   ]
  },
  {
   "cell_type": "markdown",
   "metadata": {
    "slideshow": {
     "slide_type": "slide"
    }
   },
   "source": [
    "## What About *Ours*?\n",
    "\n",
    "Work on our streaming assembler is currently being done here: https://github.com/dib-lab/khmer/pull/1412\n",
    "\n",
    "So far, we have a simple set of transcript assembly algorithms exposed to Python, which are triggered in a streaming script."
   ]
  },
  {
   "cell_type": "code",
   "execution_count": 2,
   "metadata": {
    "collapsed": true,
    "slideshow": {
     "slide_type": "subslide"
    }
   },
   "outputs": [],
   "source": [
    "import khmer\n",
    "from khmer.tests import khmer_tst_utils as test_utils\n",
    "import itertools\n",
    "import random\n",
    "import screed\n",
    "\n",
    "K = 21"
   ]
  },
  {
   "cell_type": "code",
   "execution_count": 3,
   "metadata": {
    "collapsed": true,
    "slideshow": {
     "slide_type": "subslide"
    }
   },
   "outputs": [],
   "source": [
    "def mutate_base(base):\n",
    "    if base in 'AT':\n",
    "        return random.choice('GC')\n",
    "    elif base in 'GC':\n",
    "        return random.choice('AT')\n",
    "    else:\n",
    "        assert False, 'bad base'\n",
    "\n",
    "\n",
    "def mutate_sequence(sequence, N=1):\n",
    "    sequence = list(sequence)\n",
    "    positions = random.sample(range(len(sequence)), N)\n",
    "\n",
    "    for i in positions:\n",
    "        sequence[i] = mutate_base(sequence[i])\n",
    "\n",
    "    return ''.join(sequence)\n",
    "\n",
    "\n",
    "def mutate_position(sequence, pos):\n",
    "    sequence = list(sequence)\n",
    "    sequence[pos] = mutate_base(sequence[pos])\n",
    "    return ''.join(sequence)"
   ]
  },
  {
   "cell_type": "code",
   "execution_count": 4,
   "metadata": {
    "collapsed": true,
    "slideshow": {
     "slide_type": "subslide"
    }
   },
   "outputs": [],
   "source": [
    "def reads(sequence, L=100, N=100):\n",
    "    positions = list(range(len(sequence) - L))\n",
    "    for i in range(N):\n",
    "        start = random.choice(positions)\n",
    "        yield sequence[start:start+L]\n",
    "\n",
    "\n",
    "def kmers(sequence):\n",
    "    for i in range(len(sequence)-K+1):\n",
    "        yield sequence[i:i+K]"
   ]
  },
  {
   "cell_type": "code",
   "execution_count": 5,
   "metadata": {
    "collapsed": false,
    "slideshow": {
     "slide_type": "subslide"
    }
   },
   "outputs": [
    {
     "name": "stdout",
     "output_type": "stream",
     "text": [
      "TGCCGCCCAGCACCGGGTGACTAGGTTGAGCCATGATTAACCTGCAATGAAGGTCATTCACACGCAGCGTCATTTAATGGATTGGTGCACACTTAACTGGGTGCCGCGCTGGTGCTGATCCATGAAGTTCATCTGGACTTGTACGTGCGACAGCTCCTTCCATTTCCGCCTTGCCATACAGACCACCTAAGACCGCAGACCCTCCTCCTTACCACATGCGATGCGTGGGAACCGGTGTCAAAGACGGGTGCCGCTACACAGGAAGGCACCCAGGGAAAGTCGTTTGCCGGAAGAGAGTGGAGCTCCTACGTAAACGGGGAAACCACTTGTTTGGATTCCCCCTTGCCGATTCGGCCCTATCAGGATGTATTTAACTTAGGAGAAACCGAACAACTGCCACCGCTTATTGCCCCGGCAGGCGGTAGTTTCCACGATCTAACAATCGAAGCAATTCGGACAGGCTTAAGCTACAAAGCTCGGATTTTGTAAGTGCTCTATCCTTTGTAGGAAGTGAAAGATGACGTTGCGGCCGTCGCTGTTGGAGGAACCGCAGCACCATGGCGCCTGTGCGAGCTGGAGATCCTCTCATAGCGTCAGAGCACGGGATGCTGTATATTAAGCACACAATAGCCCGGGGACCGGCCCCAACGTGAAATGCCTGGCCTGCCGTTCTTTATAGTGCTCGTGATAGTGTTATAAAGGAACTAACATCAAGTTATGTAAGGACTTTTACAATAGCGTGGTCCGTCAAGTCGTCCACGTGTGTAAATTCATTGGTACCTTTTGCCGAAAAATTTGAAAGCTAAGCACATTCTGCTTACTCACAGGGTAAGTTCCTGAAGTATTAATGTAATGTGGAAAGACAGGCATATGAACACTATTGGGCTTTGTAGACATTCCTCATCCATGCTGTATCAGTAATGTACAATTCGCCCCTTTCGTAAAGGAGAGCCGTGCTAACGTTATATTCGGTCTTACCACGGGCTCGATAGTTTGCCCC\n"
     ]
    }
   ],
   "source": [
    "contig = list(screed.open(test_utils.get_test_data('simple-genome.fa')))[0].sequence\n",
    "print(contig)"
   ]
  },
  {
   "cell_type": "code",
   "execution_count": 6,
   "metadata": {
    "collapsed": false,
    "slideshow": {
     "slide_type": "subslide"
    }
   },
   "outputs": [],
   "source": [
    "K = 21\n",
    "graph = khmer.Countgraph(K, 1e6, 4)\n",
    "labeller = khmer._GraphLabels(graph)\n",
    "\n",
    "graph.consume(contig)\n",
    "#bubble = mutate_position(contig, 100)\n",
    "tip = contig[100:100+K-1] + mutate_base(contig[100+K])\n",
    "\n",
    "test_reads = list(itertools.chain(reads(contig), [tip]))\n",
    "random.shuffle(test_reads)\n",
    "\n",
    "for n, read in enumerate(test_reads):\n",
    "    graph.consume(read)\n",
    "\n",
    "    hdns = graph.find_high_degree_nodes(read)\n",
    "    if hdns:\n",
    "        print([khmer.reverse_hash(h, K) for h in list(hdns)])\n",
    "    labeller.label_across_high_degree_nodes(read, hdns, n)"
   ]
  },
  {
   "cell_type": "code",
   "execution_count": 7,
   "metadata": {
    "collapsed": false,
    "slideshow": {
     "slide_type": "subslide"
    }
   },
   "outputs": [
    {
     "name": "stdout",
     "output_type": "stream",
     "text": [
      "TGCCGCCCAGCACCGGGTGACTAGGTTGAGCCATGATTAACCTGCAATGAAGGTCATTCACACGCAGCGTCATTTAATGGATTGGTGCACACTTAACTGGGTGCCGCGCTGGTGCTGATCCATGAAGTTCATCTGGACTTGTACGTGCGACAGCTCCTTCCATTTCCGCCTTGCCATACAGACCACCTAAGACCGCAGACCCTCCTCCTTACCACATGCGATGCGTGGGAACCGGTGTCAAAGACGGGTGCCGCTACACAGGAAGGCACCCAGGGAAAGTCGTTTGCCGGAAGAGAGTGGAGCTCCTACGTAAACGGGGAAACCACTTGTTTGGATTCCCCCTTGCCGATTCGGCCCTATCAGGATGTATTTAACTTAGGAGAAACCGAACAACTGCCACCGCTTATTGCCCCGGCAGGCGGTAGTTTCCACGATCTAACAATCGAAGCAATTCGGACAGGCTTAAGCTACAAAGCTCGGATTTTGTAAGTGCTCTATCCTTTGTAGGAAGTGAAAGATGACGTTGCGGCCGTCGCTGTTGGAGGAACCGCAGCACCATGGCGCCTGTGCGAGCTGGAGATCCTCTCATAGCGTCAGAGCACGGGATGCTGTATATTAAGCACACAATAGCCCGGGGACCGGCCCCAACGTGAAATGCCTGGCCTGCCGTTCTTTATAGTGCTCGTGATAGTGTTATAAAGGAACTAACATCAAGTTATGTAAGGACTTTTACAATAGCGTGGTCCGTCAAGTCGTCCACGTGTGTAAATTCATTGGTACCTTTTGCCGAAAAATTTGAAAGCTAAGCACATTCTGCTTACTCACAGGGTAAGTTCCTGAAGTATTAATGTAATGTGGAAAGACAGGCATATGAACACTATTGGGCTTTGTAGACATTCCTCATCCATGCTGTATCAGTAATGTACAATTCGCCCCTTTCGTAAAGGAGAGCCGTGCTAACGTTATATTCGGTCTTACCACGGGCTCGATAGTTTGCCCC\n",
      "1000\n",
      "ATTGGTGCACACTTAACTGGG\n"
     ]
    },
    {
     "ename": "NameError",
     "evalue": "name 'bubble' is not defined",
     "output_type": "error",
     "traceback": [
      "\u001b[0;31m---------------------------------------------------------------------------\u001b[0m",
      "\u001b[0;31mNameError\u001b[0m                                 Traceback (most recent call last)",
      "\u001b[0;32m<ipython-input-7-5a68329b5cb6>\u001b[0m in \u001b[0;36m<module>\u001b[0;34m()\u001b[0m\n\u001b[1;32m      3\u001b[0m \u001b[0mprint\u001b[0m\u001b[0;34m(\u001b[0m\u001b[0mlen\u001b[0m\u001b[0;34m(\u001b[0m\u001b[0mpath\u001b[0m\u001b[0;34m)\u001b[0m\u001b[0;34m)\u001b[0m\u001b[0;34m\u001b[0m\u001b[0m\n\u001b[1;32m      4\u001b[0m \u001b[0mprint\u001b[0m\u001b[0;34m(\u001b[0m\u001b[0mcontig\u001b[0m\u001b[0;34m[\u001b[0m\u001b[0;36m101\u001b[0m\u001b[0;34m-\u001b[0m\u001b[0mK\u001b[0m\u001b[0;34m:\u001b[0m\u001b[0;36m101\u001b[0m\u001b[0;34m]\u001b[0m\u001b[0;34m)\u001b[0m\u001b[0;34m\u001b[0m\u001b[0m\n\u001b[0;32m----> 5\u001b[0;31m \u001b[0mprint\u001b[0m\u001b[0;34m(\u001b[0m\u001b[0mbubble\u001b[0m\u001b[0;34m[\u001b[0m\u001b[0;36m101\u001b[0m\u001b[0;34m-\u001b[0m\u001b[0mK\u001b[0m\u001b[0;34m:\u001b[0m\u001b[0;36m101\u001b[0m\u001b[0;34m]\u001b[0m\u001b[0;34m)\u001b[0m\u001b[0;34m\u001b[0m\u001b[0m\n\u001b[0m",
      "\u001b[0;31mNameError\u001b[0m: name 'bubble' is not defined"
     ]
    }
   ],
   "source": [
    "path = graph.assemble_linear_path(contig[:K])\n",
    "print(path)\n",
    "print(len(path))\n",
    "print(contig[101-K:101])\n",
    "print(bubble[101-K:101])"
   ]
  },
  {
   "cell_type": "code",
   "execution_count": null,
   "metadata": {
    "collapsed": false,
    "slideshow": {
     "slide_type": "subslide"
    }
   },
   "outputs": [],
   "source": [
    "paths = labeller.assemble_labeled_path(contig[:K])\n",
    "print(*[str(len(p)) + ' ' + p for p in paths], sep='\\n\\n')"
   ]
  }
 ],
 "metadata": {
  "anaconda-cloud": {},
  "celltoolbar": "Slideshow",
  "kernelspec": {
   "display_name": "Python [default]",
   "language": "python",
   "name": "python3"
  },
  "language_info": {
   "codemirror_mode": {
    "name": "ipython",
    "version": 3
   },
   "file_extension": ".py",
   "mimetype": "text/x-python",
   "name": "python",
   "nbconvert_exporter": "python",
   "pygments_lexer": "ipython3",
   "version": "3.5.2"
  },
  "livereveal": {
   "scroll": true,
   "theme": "serif",
   "transition": "zoom"
  },
  "nbpresent": {
   "slides": {
    "4592cf59-37eb-4613-b57c-553122b726df": {
     "id": "4592cf59-37eb-4613-b57c-553122b726df",
     "prev": "b6b87f6d-a822-4d6c-9af1-a38ee807d508",
     "regions": {
      "c2405bb0-d11d-4a56-af85-78de7483c1cb": {
       "attrs": {
        "height": 0.8,
        "width": 0.8,
        "x": 0.1,
        "y": 0.1
       },
       "content": {
        "cell": "9051939b-2531-4a7a-bc33-998792ca7c0a",
        "part": "whole"
       },
       "id": "c2405bb0-d11d-4a56-af85-78de7483c1cb"
      }
     }
    },
    "80134c66-fdf5-48a2-9dd8-3e17414eac7f": {
     "id": "80134c66-fdf5-48a2-9dd8-3e17414eac7f",
     "prev": null,
     "regions": {
      "50ebc4fd-98ab-4c56-95dd-bb9daf8e9906": {
       "attrs": {
        "height": 0.8,
        "width": 0.8,
        "x": 0.1,
        "y": 0.1
       },
       "content": {
        "cell": "b59aed25-c473-49f4-8bce-c7cea1b54c46",
        "part": "whole"
       },
       "id": "50ebc4fd-98ab-4c56-95dd-bb9daf8e9906"
      }
     }
    },
    "b6b87f6d-a822-4d6c-9af1-a38ee807d508": {
     "id": "b6b87f6d-a822-4d6c-9af1-a38ee807d508",
     "prev": "d9e0dcbc-982f-43a4-b848-c9fb3ecd378b",
     "regions": {
      "3aef3a84-eddf-43f1-a36b-3e76f9b0016e": {
       "attrs": {
        "height": 0.8,
        "width": 0.8,
        "x": 0.1,
        "y": 0.1
       },
       "content": {
        "cell": "8632b237-9464-4b22-b7d9-dfe720b4f314",
        "part": "whole"
       },
       "id": "3aef3a84-eddf-43f1-a36b-3e76f9b0016e"
      }
     }
    },
    "d9e0dcbc-982f-43a4-b848-c9fb3ecd378b": {
     "id": "d9e0dcbc-982f-43a4-b848-c9fb3ecd378b",
     "prev": "80134c66-fdf5-48a2-9dd8-3e17414eac7f",
     "regions": {
      "29f80c44-b3c0-4769-876d-c81561f9ffdb": {
       "attrs": {
        "height": 0.8,
        "width": 0.8,
        "x": 0.1,
        "y": 0.1
       },
       "content": {
        "cell": "173737f6-77f5-4b11-a977-41d8987803c0",
        "part": "whole"
       },
       "id": "29f80c44-b3c0-4769-876d-c81561f9ffdb"
      }
     }
    }
   },
   "themes": {
    "default": "fb761dc8-1265-48d2-9788-10237993747e",
    "theme": {
     "fb761dc8-1265-48d2-9788-10237993747e": {
      "backgrounds": {
       "dc7afa04-bf90-40b1-82a5-726e3cff5267": {
        "background-color": "31af15d2-7e15-44c5-ab5e-e04b16a89eff",
        "id": "dc7afa04-bf90-40b1-82a5-726e3cff5267"
       }
      },
      "id": "fb761dc8-1265-48d2-9788-10237993747e",
      "palette": {
       "19cc588f-0593-49c9-9f4b-e4d7cc113b1c": {
        "id": "19cc588f-0593-49c9-9f4b-e4d7cc113b1c",
        "rgb": [
         252,
         252,
         252
        ]
       },
       "31af15d2-7e15-44c5-ab5e-e04b16a89eff": {
        "id": "31af15d2-7e15-44c5-ab5e-e04b16a89eff",
        "rgb": [
         68,
         68,
         68
        ]
       },
       "50f92c45-a630-455b-aec3-788680ec7410": {
        "id": "50f92c45-a630-455b-aec3-788680ec7410",
        "rgb": [
         197,
         226,
         245
        ]
       },
       "c5cc3653-2ee1-402a-aba2-7caae1da4f6c": {
        "id": "c5cc3653-2ee1-402a-aba2-7caae1da4f6c",
        "rgb": [
         43,
         126,
         184
        ]
       },
       "efa7f048-9acb-414c-8b04-a26811511a21": {
        "id": "efa7f048-9acb-414c-8b04-a26811511a21",
        "rgb": [
         25.118061674008803,
         73.60176211453744,
         107.4819383259912
        ]
       }
      },
      "rules": {
       "a": {
        "color": "19cc588f-0593-49c9-9f4b-e4d7cc113b1c"
       },
       "blockquote": {
        "color": "50f92c45-a630-455b-aec3-788680ec7410",
        "font-size": 3
       },
       "code": {
        "font-family": "Anonymous Pro"
       },
       "h1": {
        "color": "19cc588f-0593-49c9-9f4b-e4d7cc113b1c",
        "font-family": "Merriweather",
        "font-size": 8
       },
       "h2": {
        "color": "19cc588f-0593-49c9-9f4b-e4d7cc113b1c",
        "font-family": "Merriweather",
        "font-size": 6
       },
       "h3": {
        "color": "50f92c45-a630-455b-aec3-788680ec7410",
        "font-family": "Lato",
        "font-size": 5.5
       },
       "h4": {
        "color": "c5cc3653-2ee1-402a-aba2-7caae1da4f6c",
        "font-family": "Lato",
        "font-size": 5
       },
       "h5": {
        "font-family": "Lato"
       },
       "h6": {
        "font-family": "Lato"
       },
       "h7": {
        "font-family": "Lato"
       },
       "li": {
        "color": "50f92c45-a630-455b-aec3-788680ec7410",
        "font-size": 3.25
       },
       "pre": {
        "font-family": "Anonymous Pro",
        "font-size": 4
       }
      },
      "text-base": {
       "color": "19cc588f-0593-49c9-9f4b-e4d7cc113b1c",
       "font-family": "Lato",
       "font-size": 4
      }
     }
    }
   }
  }
 },
 "nbformat": 4,
 "nbformat_minor": 0
}
