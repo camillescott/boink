{
 "cells": [
  {
   "cell_type": "code",
   "execution_count": 1,
   "metadata": {},
   "outputs": [
    {
     "name": "stdout",
     "output_type": "stream",
     "text": [
      "\n",
      "pythonizor: cDBG<goetia::dBG<goetia::storage::SparseppSetStorage,goetia::hashing::RollingHashShifter> > <class goetia.goetia.cdbg.cDBG<goetia::dBG<goetia::storage::SparseppSetStorage,goetia::hashing::RollingHashShifter> > at 0x5648e48e5608>\n",
      "sub: <class goetia.goetia.cdbg.cDBG<goetia::dBG<goetia::storage::SparseppSetStorage,goetia::hashing::RollingHashShifter> >.cDBG<goetia::dBG<goetia::storage::SparseppSetStorage,goetia::hashing::RollingHashShifter> >::Graph at 0x5648df36ee68>\n",
      "['K', '__add__', '__assign__', '__bool__', '__class__', '__delattr__', '__destruct__', '__dict__', '__dir__', '__dispatch__', '__doc__', '__eq__', '__format__', '__ge__', '__getattribute__', '__gt__', '__hash__', '__init__', '__init_subclass__', '__le__', '__lt__', '__module__', '__mul__', '__ne__', '__new__', '__nonzero__', '__python_owns__', '__radd__', '__reduce__', '__reduce_ex__', '__repr__', '__rmul__', '__rsub__', '__rtruediv__', '__setattr__', '__sizeof__', '__smartptr__', '__str__', '__sub__', '__subclasshook__', '__truediv__', '__weakref__', 'build_dnode', 'build_unode', 'clear_listeners', 'clip_unode', 'dbg', 'delete_dnode', 'delete_unode', 'delete_unodes_from_tags', 'dnodes_begin', 'dnodes_end', 'extend_unode', 'find_connected_components', 'find_dnode_neighbors', 'find_rc_cnode', 'find_unode_neighbors', 'has_dnode', 'has_unode_end', 'lock_nodes', 'merge_unodes', 'metrics', 'n_decision_nodes', 'n_dnodes', 'n_tags', 'n_unitig_ends', 'n_unitig_nodes', 'n_unodes', 'n_updates', 'notify', 'notify_history_clip', 'notify_history_extend', 'notify_history_merge', 'notify_history_new', 'notify_history_split', 'notify_history_split_circular', 'query_cnode', 'query_dnode', 'query_dnodes', 'query_unode_end', 'query_unode_id', 'query_unode_tag', 'recompute_node_meta', 'register_listener', 'split_unode', 'stop_listeners', 'switch_unode_ends', 'traverse_breadth_first', 'unodes_begin', 'unodes_end', 'validate', 'write', 'write_fasta', 'write_gfa1', 'write_graphml']\n"
     ]
    }
   ],
   "source": [
    "from goetia import libgoetia\n",
    "from goetia.data import load_ukhs\n",
    "from goetia.prometheus import Instrumentation\n",
    "from goetia.assembly import Assembler\n",
    "from cppyy.gbl import std\n",
    "from cppyy import gbl\n",
    "import cppyy\n",
    "import difflib"
   ]
  },
  {
   "cell_type": "code",
   "execution_count": 3,
   "metadata": {},
   "outputs": [
    {
     "ename": "ImportError",
     "evalue": "cannot import name 'declarations' from 'goetia.pythonizors' (/home/camille/miniconda/envs/libgoetia/lib/python3.7/site-packages/goetia/pythonizors/__init__.py)",
     "output_type": "error",
     "traceback": [
      "\u001b[0;31m---------------------------------------------------------------------------\u001b[0m",
      "\u001b[0;31mImportError\u001b[0m                               Traceback (most recent call last)",
      "\u001b[0;32m<ipython-input-3-b7b4d897ab3a>\u001b[0m in \u001b[0;36m<module>\u001b[0;34m\u001b[0m\n\u001b[0;32m----> 1\u001b[0;31m \u001b[0;32mfrom\u001b[0m \u001b[0mgoetia\u001b[0m\u001b[0;34m.\u001b[0m\u001b[0mpythonizors\u001b[0m \u001b[0;32mimport\u001b[0m \u001b[0mdeclarations\u001b[0m\u001b[0;34m\u001b[0m\u001b[0;34m\u001b[0m\u001b[0m\n\u001b[0m",
      "\u001b[0;31mImportError\u001b[0m: cannot import name 'declarations' from 'goetia.pythonizors' (/home/camille/miniconda/envs/libgoetia/lib/python3.7/site-packages/goetia/pythonizors/__init__.py)"
     ]
    }
   ],
   "source": [
    "from goetia.pythonizors import declarations"
   ]
  },
  {
   "cell_type": "code",
   "execution_count": 2,
   "metadata": {},
   "outputs": [],
   "source": [
    "instrumentation = Instrumentation('', expose=False)"
   ]
  },
  {
   "cell_type": "code",
   "execution_count": 3,
   "metadata": {},
   "outputs": [],
   "source": [
    "G = libgoetia.dBG[libgoetia.storage.SparseppSetStorage, libgoetia.hashing.RollingHashShifter].build(27)"
   ]
  },
  {
   "cell_type": "code",
   "execution_count": 6,
   "metadata": {},
   "outputs": [],
   "source": [
    "cG = libgoetia.cdbg.cDBG[type(G)].Graph(G, instrumentation.Registry)"
   ]
  },
  {
   "cell_type": "code",
   "execution_count": 7,
   "metadata": {},
   "outputs": [
    {
     "data": {
      "text/plain": [
       "0"
      ]
     },
     "execution_count": 7,
     "metadata": {},
     "output_type": "execute_result"
    }
   ],
   "source": [
    "cG.n_dnodes"
   ]
  },
  {
   "cell_type": "code",
   "execution_count": 4,
   "metadata": {},
   "outputs": [
    {
     "name": "stdout",
     "output_type": "stream",
     "text": [
      "\n",
      "pythonizor:  StreamingCompactor<goetia::dBG<goetia::storage::SparseppSetStorage,goetia::hashing::RollingHashShifter> > <class goetia.goetia.cdbg.StreamingCompactor<goetia::dBG<goetia::storage::SparseppSetStorage,goetia::hashing::RollingHashShifter> > at 0x5648e5ca52f8>\n"
     ]
    }
   ],
   "source": [
    "cptor = libgoetia.cdbg.StreamingCompactor[type(G)].Compactor.build(G, instrumentation.Registry)"
   ]
  },
  {
   "cell_type": "code",
   "execution_count": 5,
   "metadata": {},
   "outputs": [
    {
     "data": {
      "text/plain": [
       "0"
      ]
     },
     "execution_count": 5,
     "metadata": {},
     "output_type": "execute_result"
    }
   ],
   "source": [
    "cptor.Graph.n_dnodes"
   ]
  },
  {
   "cell_type": "code",
   "execution_count": 14,
   "metadata": {},
   "outputs": [
    {
     "data": {
      "text/plain": [
       "17"
      ]
     },
     "execution_count": 14,
     "metadata": {},
     "output_type": "execute_result"
    }
   ],
   "source": [
    "G.insert_sequence(s)"
   ]
  },
  {
   "cell_type": "code",
   "execution_count": 15,
   "metadata": {},
   "outputs": [],
   "source": [
    "asm = Assembler(G)"
   ]
  },
  {
   "cell_type": "code",
   "execution_count": 18,
   "metadata": {},
   "outputs": [],
   "source": [
    "seed = std.string(s[:30])"
   ]
  },
  {
   "cell_type": "code",
   "execution_count": 19,
   "metadata": {},
   "outputs": [
    {
     "ename": "TypeError",
     "evalue": "cannot resolve method template call for 'set_cursor'",
     "output_type": "error",
     "traceback": [
      "\u001b[0;31m---------------------------------------------------------------------------\u001b[0m",
      "\u001b[0;31mTypeError\u001b[0m                                 Traceback (most recent call last)",
      "\u001b[0;32m<ipython-input-19-d68052fdb736>\u001b[0m in \u001b[0;36m<module>\u001b[0;34m\u001b[0m\n\u001b[0;32m----> 1\u001b[0;31m \u001b[0masm\u001b[0m\u001b[0;34m.\u001b[0m\u001b[0mtraverser\u001b[0m\u001b[0;34m.\u001b[0m\u001b[0mset_cursor\u001b[0m\u001b[0;34m(\u001b[0m\u001b[0mseed\u001b[0m\u001b[0;34m)\u001b[0m\u001b[0;34m\u001b[0m\u001b[0;34m\u001b[0m\u001b[0m\n\u001b[0m",
      "\u001b[0;31mTypeError\u001b[0m: cannot resolve method template call for 'set_cursor'"
     ]
    }
   ],
   "source": [
    "asm.traverser.set_cursor(seed)"
   ]
  },
  {
   "cell_type": "code",
   "execution_count": 9,
   "metadata": {},
   "outputs": [],
   "source": [
    "seq,  (r_state, r_end_hash) = asm.assemble_right(s[:31])"
   ]
  },
  {
   "cell_type": "code",
   "execution_count": 10,
   "metadata": {},
   "outputs": [
    {
     "data": {
      "text/plain": [
       "'AAAAAAAAAAAAAAAGAAAGTGTAGAAAAAAGGTTGGGGGGGGGTTT'"
      ]
     },
     "execution_count": 10,
     "metadata": {},
     "output_type": "execute_result"
    }
   ],
   "source": [
    "seq"
   ]
  },
  {
   "cell_type": "code",
   "execution_count": 13,
   "metadata": {},
   "outputs": [
    {
     "data": {
      "text/plain": [
       "True"
      ]
     },
     "execution_count": 13,
     "metadata": {},
     "output_type": "execute_result"
    }
   ],
   "source": [
    "state == libgoetia.TraversalState.STOP_FWD"
   ]
  },
  {
   "cell_type": "code",
   "execution_count": 24,
   "metadata": {},
   "outputs": [
    {
     "data": {
      "text/plain": [
       "'TGTCGGGCAAGAGAAGTGCTCGCCATAAACGAGGGTGGACCTTTTCCTCCATGTTGGGGACAACTGCGCCGTCTGGGACCGGTAGAGTAAGGTCCCGCTC'"
      ]
     },
     "execution_count": 24,
     "metadata": {},
     "output_type": "execute_result"
    }
   ],
   "source": [
    "act[100:200]"
   ]
  },
  {
   "cell_type": "code",
   "execution_count": 25,
   "metadata": {},
   "outputs": [
    {
     "data": {
      "text/plain": [
       "'TGTCGGGCAAGAGAAGTGCTCGCCATAAACGAGGGTGGACCTTTTCCTCCGCCGATGTTGGGGACAACTGCTCTGGGACCGGTAGAGTAAGGTCCCGCTC'"
      ]
     },
     "execution_count": 25,
     "metadata": {},
     "output_type": "execute_result"
    }
   ],
   "source": [
    "exp[100:200]"
   ]
  },
  {
   "cell_type": "code",
   "execution_count": 13,
   "metadata": {},
   "outputs": [],
   "source": [
    "act = 'CCTCGGGATTGCATAGGTAAAATAGCATTAGCCAGCAGTTCGGCCTCGGAGCACCCTGTCACCCGCAAGGGCCATCGGTACGACAGGCAGCCGTAGTTATTGTCGGGCAAGAGAAGTGCTCGCCATAAACGAGGGTGGACCTTTTCCTCCATGTTGGGGACAACTGCGCCGTCTGGGACCGGTAGAGTAAGGTCCCGCTCCGGATATCGACGTCTGGGAAACGAGCCGCGTTACGGGTCTCCAATTTCGAACATCACATCACGAGTCGCTACCCTCATGAGCGCAACGGAGATGGTCGGATAGGAACCACAACTCTGCAGAAGTGAATTTATCAGTCGCCTAGACATATGTATTGCAGACTAAATCTGCTAGGTAAACTACCATGTTGCTCATGCACACGAATCATCGAAAAAATGGCGGAACTGTAAACAAGGTCCGCTTGTTTGCAAAATGTACCGGTCTAGCCGGCCCGAAGTCTCCCGATCGAAGTAATTAGAGCT'\n",
    "\n",
    "exp = 'CCTCGGGATTGCATAGGTAAAATAGCATTAGCCAGCAGTTCGGCCTCGGAGCACCCTGTCACCCGCAAGGGCCATCGGTACGACAGGCAGCCGTAGTTATTGTCGGGCAAGAGAAGTGCTCGCCATAAACGAGGGTGGACCTTTTCCTCCGCCGATGTTGGGGACAACTGCTCTGGGACCGGTAGAGTAAGGTCCCGCTCCGGATATCGACGTCTGGGAAACGAGCCGCGTTACGGGTCTCCAATTTCGAACATCACATCACGAGTCGCTACCCTCATGAGCGCAACGGAGATGGTCGGATAGGAACCACAACTCTGCAGAAGTGAATTTATCAGTCGCCTAGACATATGTATTGCAGACTAAATCTGCTAGGTAAACTACCATGTTGCTCATGCACACGAATCATCGAAAAAATGGCGGAACTGTAAACAAGGTCCGCTTGTTTGCAAAATGTACCGGTCTAGCCGGCCCGAAGTCTCCCGATCGAAGTAATTAGAGCT'"
   ]
  },
  {
   "cell_type": "code",
   "execution_count": 5,
   "metadata": {},
   "outputs": [
    {
     "data": {
      "text/plain": [
       "<namespace goetia.goetia.TraversalState at 0x556fd5040268>"
      ]
     },
     "execution_count": 5,
     "metadata": {},
     "output_type": "execute_result"
    }
   ],
   "source": [
    "libgoetia.TraversalState."
   ]
  },
  {
   "cell_type": "code",
   "execution_count": 10,
   "metadata": {},
   "outputs": [
    {
     "ename": "AttributeError",
     "evalue": "type object 'int' has no attribute 'STOP_FWD'",
     "output_type": "error",
     "traceback": [
      "\u001b[0;31m---------------------------------------------------------------------------\u001b[0m",
      "\u001b[0;31mAttributeError\u001b[0m                            Traceback (most recent call last)",
      "\u001b[0;32m<ipython-input-10-79c3e5bc1bd3>\u001b[0m in \u001b[0;36m<module>\u001b[0;34m\u001b[0m\n\u001b[0;32m----> 1\u001b[0;31m \u001b[0mstate\u001b[0m \u001b[0;34m==\u001b[0m \u001b[0mlibgoetia\u001b[0m\u001b[0;34m.\u001b[0m\u001b[0mTraverse\u001b[0m\u001b[0;34m[\u001b[0m\u001b[0mtype\u001b[0m\u001b[0;34m(\u001b[0m\u001b[0mG\u001b[0m\u001b[0;34m)\u001b[0m\u001b[0;34m]\u001b[0m\u001b[0;34m.\u001b[0m\u001b[0mState\u001b[0m\u001b[0;34m.\u001b[0m\u001b[0mSTOP_FWD\u001b[0m\u001b[0;34m\u001b[0m\u001b[0;34m\u001b[0m\u001b[0m\n\u001b[0m",
      "\u001b[0;31mAttributeError\u001b[0m: type object 'int' has no attribute 'STOP_FWD'"
     ]
    }
   ],
   "source": [
    "state == libgoetia.Traverse[type(G)].State.STOP_FWD"
   ]
  },
  {
   "cell_type": "code",
   "execution_count": 21,
   "metadata": {},
   "outputs": [
    {
     "ename": "AttributeError",
     "evalue": "type object 'State' has no attribute 'STOP_FWD'",
     "output_type": "error",
     "traceback": [
      "\u001b[0;31m---------------------------------------------------------------------------\u001b[0m",
      "\u001b[0;31mAttributeError\u001b[0m                            Traceback (most recent call last)",
      "\u001b[0;32m<ipython-input-21-adc4c1d0e829>\u001b[0m in \u001b[0;36m<module>\u001b[0;34m\u001b[0m\n\u001b[0;32m----> 1\u001b[0;31m \u001b[0mlibgoetia\u001b[0m\u001b[0;34m.\u001b[0m\u001b[0mTraverse\u001b[0m\u001b[0;34m[\u001b[0m\u001b[0mtype\u001b[0m\u001b[0;34m(\u001b[0m\u001b[0mG\u001b[0m\u001b[0;34m)\u001b[0m\u001b[0;34m]\u001b[0m\u001b[0;34m.\u001b[0m\u001b[0mState\u001b[0m\u001b[0;34m.\u001b[0m\u001b[0mSTOP_FWD\u001b[0m\u001b[0;34m\u001b[0m\u001b[0;34m\u001b[0m\u001b[0m\n\u001b[0m",
      "\u001b[0;31mAttributeError\u001b[0m: type object 'State' has no attribute 'STOP_FWD'"
     ]
    }
   ],
   "source": [
    "libgoetia.Traverse[type(G)].State.STOP_FWD"
   ]
  },
  {
   "cell_type": "code",
   "execution_count": 8,
   "metadata": {},
   "outputs": [
    {
     "data": {
      "text/plain": [
       "1"
      ]
     },
     "execution_count": 8,
     "metadata": {},
     "output_type": "execute_result"
    }
   ],
   "source": [
    "G.right_degree(s)"
   ]
  },
  {
   "cell_type": "code",
   "execution_count": 8,
   "metadata": {},
   "outputs": [
    {
     "data": {
      "text/plain": [
       "<goetia.goetia.dBG<goetia::storage::SparseppSetStorage,goetia::hashing::RollingHashShifter> object at 0x55ae38767560 held by shared_ptr<goetia::dBG<goetia::storage::SparseppSetStorage,goetia::hashing::RollingHashShifter> > at 0x55ae34f29c00>"
      ]
     },
     "execution_count": 8,
     "metadata": {},
     "output_type": "execute_result"
    }
   ],
   "source": [
    "G.clone()"
   ]
  },
  {
   "cell_type": "code",
   "execution_count": 2,
   "metadata": {},
   "outputs": [],
   "source": [
    "storage_t = libgoetia.storage.BitStorage\n",
    "signature_t = libgoetia.signatures.UnikmerSignature[storage_t]"
   ]
  },
  {
   "cell_type": "code",
   "execution_count": 3,
   "metadata": {},
   "outputs": [],
   "source": [
    "ukhs = load_ukhs(31, 8)"
   ]
  },
  {
   "cell_type": "code",
   "execution_count": 4,
   "metadata": {},
   "outputs": [],
   "source": [
    "sig = signature_t.Signature.build(31, 8, ukhs.__smartptr__(), 10000, 4)"
   ]
  },
  {
   "cell_type": "code",
   "execution_count": 5,
   "metadata": {},
   "outputs": [],
   "source": [
    "proc = std.make_shared[signature_t.Processor](sig.__smartptr__(), 10000, 100000, 100000)"
   ]
  },
  {
   "cell_type": "code",
   "execution_count": 6,
   "metadata": {},
   "outputs": [
    {
     "data": {
      "text/plain": [
       "<goetia.goetia.signatures.UnikmerSignature<goetia::storage::BitStorage>.UnikmerSignature<goetia::storage::BitStorage>::Processor object at 0x55c72107e5e0 held by shared_ptr<goetia::signatures::UnikmerSignature<goetia::storage::BitStorage>::Processor> at 0x55c71d57fd70>"
      ]
     },
     "execution_count": 6,
     "metadata": {},
     "output_type": "execute_result"
    }
   ],
   "source": [
    "proc"
   ]
  },
  {
   "cell_type": "code",
   "execution_count": 16,
   "metadata": {},
   "outputs": [
    {
     "data": {
      "text/plain": [
       "<class goetia.goetia.dBG<goetia::storage::SparseppSetStorage,goetia::hashing::RollingHashShifter> at 0x55ed277bb6c8>"
      ]
     },
     "execution_count": 16,
     "metadata": {},
     "output_type": "execute_result"
    }
   ],
   "source": [
    "type(G)"
   ]
  },
  {
   "cell_type": "code",
   "execution_count": 12,
   "metadata": {},
   "outputs": [
    {
     "data": {
      "text/plain": [
       "<class cppyy.gbl.std.pair<vector<goetia::hashing::kmer_t>,vector<goetia::hashing::kmer_t> > at 0x55ad9f2d2968>"
      ]
     },
     "execution_count": 12,
     "metadata": {},
     "output_type": "execute_result"
    }
   ],
   "source": [
    "std.pair[std.vector[libgoetia.hashing.kmer_t], std.vector[libgoetia.hashing.kmer_t]]"
   ]
  },
  {
   "cell_type": "code",
   "execution_count": 6,
   "metadata": {},
   "outputs": [],
   "source": [
    "parser = cppyy.gbl.ParserFactory[goetia.parsing.FastxReader].build('/work/draff/results/simulated/ecoli.0._100_180_1.fq')"
   ]
  },
  {
   "cell_type": "code",
   "execution_count": 56,
   "metadata": {},
   "outputs": [],
   "source": [
    "path = goetia.Path()"
   ]
  },
  {
   "cell_type": "code",
   "execution_count": 44,
   "metadata": {},
   "outputs": [],
   "source": [
    "shifter = goetia.hashing.RollingHashShifter(7)"
   ]
  },
  {
   "cell_type": "code",
   "execution_count": 58,
   "metadata": {},
   "outputs": [
    {
     "name": "stdout",
     "output_type": "stream",
     "text": [
      "GGATTCG\n",
      "GGATTCG\n",
      "GGATTCG\n",
      "GGATTCG\n",
      "GGATTCG\n"
     ]
    }
   ],
   "source": [
    "for i in range(5):\n",
    "    path.clear()\n",
    "    shifter.get_cursor(path)\n",
    "    print(asm.to_string(path))"
   ]
  },
  {
   "cell_type": "code",
   "execution_count": 45,
   "metadata": {},
   "outputs": [
    {
     "name": "stdout",
     "output_type": "stream",
     "text": [
      "16928099823363697171 16928099823363697171\n",
      "17774349600126154739 17774349600126154739\n",
      "5432234656955854598 5432234656955854598\n",
      "15864785342952959926 15864785342952959926\n",
      "807854437867792248 807854437867792248\n",
      "503930369671869761 503930369671869761\n",
      "14846359574385085156 14846359574385085156\n",
      "6910144570189067695 6910144570189067695\n",
      "8953154543898151736 8953154543898151736\n",
      "15784469927269168548 15784469927269168548\n",
      "12000143714024755448 12000143714024755448\n",
      "10045950146635431439 10045950146635431439\n",
      "3219486363132302806 3219486363132302806\n",
      "11146315393402538954 11146315393402538954\n",
      "17774349600126154739 17774349600126154739\n",
      "5432234656955854598 5432234656955854598\n",
      "15864785342952959926 15864785342952959926\n",
      "807854437867792248 807854437867792248\n",
      "503930369671869761 503930369671869761\n",
      "14846359574385085156 14846359574385085156\n"
     ]
    }
   ],
   "source": [
    "for i in range(len(s) - 9 + 1):\n",
    "    kmer = s[i:i+9]\n",
    "    shifter.set_cursor(kmer) \n",
    "    print(shifter.get(), shifter.hash(kmer))\n",
    "    #print(kmer, int(asm.degree_left()), int(asm.degree_right()))"
   ]
  },
  {
   "cell_type": "code",
   "execution_count": 49,
   "metadata": {},
   "outputs": [],
   "source": [
    "shifter = goetia.hashing.RollingHashShifter('AAAAAAA', 7)"
   ]
  },
  {
   "cell_type": "code",
   "execution_count": 26,
   "metadata": {},
   "outputs": [
    {
     "data": {
      "text/plain": [
       "17896415738016705498"
      ]
     },
     "execution_count": 26,
     "metadata": {},
     "output_type": "execute_result"
    }
   ],
   "source": [
    "shifter.update_right('C')"
   ]
  },
  {
   "cell_type": "code",
   "execution_count": 27,
   "metadata": {},
   "outputs": [
    {
     "data": {
      "text/plain": [
       "17896415738016705498"
      ]
     },
     "execution_count": 27,
     "metadata": {},
     "output_type": "execute_result"
    }
   ],
   "source": [
    "shifter.get()"
   ]
  },
  {
   "cell_type": "code",
   "execution_count": 16,
   "metadata": {},
   "outputs": [],
   "source": [
    "storages = ['BitStorage', 'ByteStorage', 'NibbleStorage', 'QFStorage', 'SparseppSetStorage']\n",
    "\n",
    "def storage_decls(template):\n",
    "\n",
    "    for storage in storages:\n",
    "        print(template.format(storage))\n",
    "    print()\n",
    "    template = 'extern\\n' + template\n",
    "    for storage in storages:\n",
    "        print(template.format(storage))"
   ]
  },
  {
   "cell_type": "code",
   "execution_count": 10,
   "metadata": {},
   "outputs": [
    {
     "name": "stdout",
     "output_type": "stream",
     "text": [
      "template class goetia::dBG<goetia::storage::BitStorage,\n",
      "                          goetia::hashing::RollingHashShifter>;\n",
      "template class goetia::dBG<goetia::storage::ByteStorage,\n",
      "                          goetia::hashing::RollingHashShifter>;\n",
      "template class goetia::dBG<goetia::storage::NibbleStorage,\n",
      "                          goetia::hashing::RollingHashShifter>;\n",
      "template class goetia::dBG<goetia::storage::QFStorage,\n",
      "                          goetia::hashing::RollingHashShifter>;\n",
      "template class goetia::dBG<goetia::storage::SparseppSetStorage,\n",
      "                          goetia::hashing::RollingHashShifter>;\n",
      "\n",
      "extern\n",
      "template class goetia::dBG<goetia::storage::BitStorage,\n",
      "                          goetia::hashing::RollingHashShifter>;\n",
      "extern\n",
      "template class goetia::dBG<goetia::storage::ByteStorage,\n",
      "                          goetia::hashing::RollingHashShifter>;\n",
      "extern\n",
      "template class goetia::dBG<goetia::storage::NibbleStorage,\n",
      "                          goetia::hashing::RollingHashShifter>;\n",
      "extern\n",
      "template class goetia::dBG<goetia::storage::QFStorage,\n",
      "                          goetia::hashing::RollingHashShifter>;\n",
      "extern\n",
      "template class goetia::dBG<goetia::storage::SparseppSetStorage,\n",
      "                          goetia::hashing::RollingHashShifter>;\n"
     ]
    }
   ],
   "source": [
    "storage_decls('template class goetia::dBG<goetia::storage::{},\\n'\n",
    "              '                          goetia::hashing::RollingHashShifter>;')"
   ]
  },
  {
   "cell_type": "code",
   "execution_count": 11,
   "metadata": {},
   "outputs": [
    {
     "name": "stdout",
     "output_type": "stream",
     "text": [
      "template class goetia::cdbg::cDBG<goetia::dBG<goetia::storage::BitStorage,\n",
      "                                            goetia::hashing::RollingHashShifter>>;\n",
      "template class goetia::cdbg::cDBG<goetia::dBG<goetia::storage::ByteStorage,\n",
      "                                            goetia::hashing::RollingHashShifter>>;\n",
      "template class goetia::cdbg::cDBG<goetia::dBG<goetia::storage::NibbleStorage,\n",
      "                                            goetia::hashing::RollingHashShifter>>;\n",
      "template class goetia::cdbg::cDBG<goetia::dBG<goetia::storage::QFStorage,\n",
      "                                            goetia::hashing::RollingHashShifter>>;\n",
      "template class goetia::cdbg::cDBG<goetia::dBG<goetia::storage::SparseppSetStorage,\n",
      "                                            goetia::hashing::RollingHashShifter>>;\n",
      "\n",
      "extern\n",
      "template class goetia::cdbg::cDBG<goetia::dBG<goetia::storage::BitStorage,\n",
      "                                            goetia::hashing::RollingHashShifter>>;\n",
      "extern\n",
      "template class goetia::cdbg::cDBG<goetia::dBG<goetia::storage::ByteStorage,\n",
      "                                            goetia::hashing::RollingHashShifter>>;\n",
      "extern\n",
      "template class goetia::cdbg::cDBG<goetia::dBG<goetia::storage::NibbleStorage,\n",
      "                                            goetia::hashing::RollingHashShifter>>;\n",
      "extern\n",
      "template class goetia::cdbg::cDBG<goetia::dBG<goetia::storage::QFStorage,\n",
      "                                            goetia::hashing::RollingHashShifter>>;\n",
      "extern\n",
      "template class goetia::cdbg::cDBG<goetia::dBG<goetia::storage::SparseppSetStorage,\n",
      "                                            goetia::hashing::RollingHashShifter>>;\n"
     ]
    }
   ],
   "source": [
    "storage_decls('template class goetia::cdbg::cDBG<goetia::dBG<goetia::storage::{},\\n'\n",
    "              '                                            goetia::hashing::RollingHashShifter>>;')"
   ]
  },
  {
   "cell_type": "code",
   "execution_count": 15,
   "metadata": {},
   "outputs": [
    {
     "name": "stdout",
     "output_type": "stream",
     "text": [
      "template class goetia::PdBG<goetia::storage::BitStorage>;\n",
      "template class goetia::PdBG<goetia::storage::ByteStorage>;\n",
      "template class goetia::PdBG<goetia::storage::NibbleStorage>;\n",
      "template class goetia::PdBG<goetia::storage::QFStorage>;\n",
      "template class goetia::PdBG<goetia::storage::SparseppSetStorage>;\n",
      "\n",
      "extern\n",
      "template class goetia::PdBG<goetia::storage::BitStorage>;\n",
      "extern\n",
      "template class goetia::PdBG<goetia::storage::ByteStorage>;\n",
      "extern\n",
      "template class goetia::PdBG<goetia::storage::NibbleStorage>;\n",
      "extern\n",
      "template class goetia::PdBG<goetia::storage::QFStorage>;\n",
      "extern\n",
      "template class goetia::PdBG<goetia::storage::SparseppSetStorage>;\n"
     ]
    }
   ],
   "source": [
    "storage_decls('template class goetia::PdBG<goetia::storage::{}>;')"
   ]
  },
  {
   "cell_type": "code",
   "execution_count": 17,
   "metadata": {},
   "outputs": [
    {
     "name": "stdout",
     "output_type": "stream",
     "text": [
      "template struct goetia::Traverse<goetia::dBG<goetia::storage::BitStorage,\n",
      "                                               goetia::hashing::RollingHashShifter>>;\n",
      "template struct goetia::Traverse<goetia::dBG<goetia::storage::ByteStorage,\n",
      "                                               goetia::hashing::RollingHashShifter>>;\n",
      "template struct goetia::Traverse<goetia::dBG<goetia::storage::NibbleStorage,\n",
      "                                               goetia::hashing::RollingHashShifter>>;\n",
      "template struct goetia::Traverse<goetia::dBG<goetia::storage::QFStorage,\n",
      "                                               goetia::hashing::RollingHashShifter>>;\n",
      "template struct goetia::Traverse<goetia::dBG<goetia::storage::SparseppSetStorage,\n",
      "                                               goetia::hashing::RollingHashShifter>>;\n",
      "\n",
      "extern\n",
      "template struct goetia::Traverse<goetia::dBG<goetia::storage::BitStorage,\n",
      "                                               goetia::hashing::RollingHashShifter>>;\n",
      "extern\n",
      "template struct goetia::Traverse<goetia::dBG<goetia::storage::ByteStorage,\n",
      "                                               goetia::hashing::RollingHashShifter>>;\n",
      "extern\n",
      "template struct goetia::Traverse<goetia::dBG<goetia::storage::NibbleStorage,\n",
      "                                               goetia::hashing::RollingHashShifter>>;\n",
      "extern\n",
      "template struct goetia::Traverse<goetia::dBG<goetia::storage::QFStorage,\n",
      "                                               goetia::hashing::RollingHashShifter>>;\n",
      "extern\n",
      "template struct goetia::Traverse<goetia::dBG<goetia::storage::SparseppSetStorage,\n",
      "                                               goetia::hashing::RollingHashShifter>>;\n"
     ]
    }
   ],
   "source": [
    "storage_decls('template struct goetia::Traverse<goetia::dBG<goetia::storage::{},\\n'\n",
    "          '                                               goetia::hashing::RollingHashShifter>>;')"
   ]
  },
  {
   "cell_type": "code",
   "execution_count": 23,
   "metadata": {},
   "outputs": [
    {
     "name": "stdout",
     "output_type": "stream",
     "text": [
      "template class goetia::FileConsumer<goetia::dBG<goetia::storage::BitStorage,\n",
      "                                              goetia::hashing::RollingHashShifter>>;\n",
      "template class goetia::FileConsumer<goetia::dBG<goetia::storage::ByteStorage,\n",
      "                                              goetia::hashing::RollingHashShifter>>;\n",
      "template class goetia::FileConsumer<goetia::dBG<goetia::storage::NibbleStorage,\n",
      "                                              goetia::hashing::RollingHashShifter>>;\n",
      "template class goetia::FileConsumer<goetia::dBG<goetia::storage::QFStorage,\n",
      "                                              goetia::hashing::RollingHashShifter>>;\n",
      "template class goetia::FileConsumer<goetia::dBG<goetia::storage::SparseppSetStorage,\n",
      "                                              goetia::hashing::RollingHashShifter>>;\n",
      "\n",
      "extern\n",
      "template class goetia::FileConsumer<goetia::dBG<goetia::storage::BitStorage,\n",
      "                                              goetia::hashing::RollingHashShifter>>;\n",
      "extern\n",
      "template class goetia::FileConsumer<goetia::dBG<goetia::storage::ByteStorage,\n",
      "                                              goetia::hashing::RollingHashShifter>>;\n",
      "extern\n",
      "template class goetia::FileConsumer<goetia::dBG<goetia::storage::NibbleStorage,\n",
      "                                              goetia::hashing::RollingHashShifter>>;\n",
      "extern\n",
      "template class goetia::FileConsumer<goetia::dBG<goetia::storage::QFStorage,\n",
      "                                              goetia::hashing::RollingHashShifter>>;\n",
      "extern\n",
      "template class goetia::FileConsumer<goetia::dBG<goetia::storage::SparseppSetStorage,\n",
      "                                              goetia::hashing::RollingHashShifter>>;\n"
     ]
    }
   ],
   "source": [
    "storage_decls('template class goetia::FileConsumer<goetia::dBG<goetia::storage::{},\\n'\n",
    "              '                                              goetia::hashing::RollingHashShifter>>;')"
   ]
  },
  {
   "cell_type": "code",
   "execution_count": 24,
   "metadata": {},
   "outputs": [
    {
     "name": "stdout",
     "output_type": "stream",
     "text": [
      "template class goetia::DecisionNodeProcessor<goetia::dBG<goetia::storage::BitStorage,\n",
      "                                                       goetia::hashing::RollingHashShifter>>;\n",
      "template class goetia::DecisionNodeProcessor<goetia::dBG<goetia::storage::ByteStorage,\n",
      "                                                       goetia::hashing::RollingHashShifter>>;\n",
      "template class goetia::DecisionNodeProcessor<goetia::dBG<goetia::storage::NibbleStorage,\n",
      "                                                       goetia::hashing::RollingHashShifter>>;\n",
      "template class goetia::DecisionNodeProcessor<goetia::dBG<goetia::storage::QFStorage,\n",
      "                                                       goetia::hashing::RollingHashShifter>>;\n",
      "template class goetia::DecisionNodeProcessor<goetia::dBG<goetia::storage::SparseppSetStorage,\n",
      "                                                       goetia::hashing::RollingHashShifter>>;\n",
      "\n",
      "extern\n",
      "template class goetia::DecisionNodeProcessor<goetia::dBG<goetia::storage::BitStorage,\n",
      "                                                       goetia::hashing::RollingHashShifter>>;\n",
      "extern\n",
      "template class goetia::DecisionNodeProcessor<goetia::dBG<goetia::storage::ByteStorage,\n",
      "                                                       goetia::hashing::RollingHashShifter>>;\n",
      "extern\n",
      "template class goetia::DecisionNodeProcessor<goetia::dBG<goetia::storage::NibbleStorage,\n",
      "                                                       goetia::hashing::RollingHashShifter>>;\n",
      "extern\n",
      "template class goetia::DecisionNodeProcessor<goetia::dBG<goetia::storage::QFStorage,\n",
      "                                                       goetia::hashing::RollingHashShifter>>;\n",
      "extern\n",
      "template class goetia::DecisionNodeProcessor<goetia::dBG<goetia::storage::SparseppSetStorage,\n",
      "                                                       goetia::hashing::RollingHashShifter>>;\n"
     ]
    }
   ],
   "source": [
    "storage_decls('template class goetia::DecisionNodeProcessor<goetia::dBG<goetia::storage::{},\\n'\n",
    "              '                                                       goetia::hashing::RollingHashShifter>>;')"
   ]
  },
  {
   "cell_type": "code",
   "execution_count": 26,
   "metadata": {},
   "outputs": [
    {
     "name": "stdout",
     "output_type": "stream",
     "text": [
      "template class goetia::cdbg::StreamingCompactor<goetia::dBG<goetia::storage::BitStorage,\n",
      "                                               goetia::hashing::RollingHashShifter>>;\n",
      "template class goetia::cdbg::StreamingCompactor<goetia::dBG<goetia::storage::ByteStorage,\n",
      "                                               goetia::hashing::RollingHashShifter>>;\n",
      "template class goetia::cdbg::StreamingCompactor<goetia::dBG<goetia::storage::NibbleStorage,\n",
      "                                               goetia::hashing::RollingHashShifter>>;\n",
      "template class goetia::cdbg::StreamingCompactor<goetia::dBG<goetia::storage::QFStorage,\n",
      "                                               goetia::hashing::RollingHashShifter>>;\n",
      "template class goetia::cdbg::StreamingCompactor<goetia::dBG<goetia::storage::SparseppSetStorage,\n",
      "                                               goetia::hashing::RollingHashShifter>>;\n",
      "\n",
      "extern\n",
      "template class goetia::cdbg::StreamingCompactor<goetia::dBG<goetia::storage::BitStorage,\n",
      "                                               goetia::hashing::RollingHashShifter>>;\n",
      "extern\n",
      "template class goetia::cdbg::StreamingCompactor<goetia::dBG<goetia::storage::ByteStorage,\n",
      "                                               goetia::hashing::RollingHashShifter>>;\n",
      "extern\n",
      "template class goetia::cdbg::StreamingCompactor<goetia::dBG<goetia::storage::NibbleStorage,\n",
      "                                               goetia::hashing::RollingHashShifter>>;\n",
      "extern\n",
      "template class goetia::cdbg::StreamingCompactor<goetia::dBG<goetia::storage::QFStorage,\n",
      "                                               goetia::hashing::RollingHashShifter>>;\n",
      "extern\n",
      "template class goetia::cdbg::StreamingCompactor<goetia::dBG<goetia::storage::SparseppSetStorage,\n",
      "                                               goetia::hashing::RollingHashShifter>>;\n"
     ]
    }
   ],
   "source": [
    "storage_decls('template class goetia::cdbg::StreamingCompactor<goetia::dBG<goetia::storage::{},\\n'\n",
    "              '                                               goetia::hashing::RollingHashShifter>>;')"
   ]
  },
  {
   "cell_type": "code",
   "execution_count": 27,
   "metadata": {},
   "outputs": [
    {
     "name": "stdout",
     "output_type": "stream",
     "text": [
      "template class goetia::StreamingCompactorProcessor<goetia::dBG<goetia::storage::BitStorage,\n",
      "                                                             goetia::hashing::RollingHashShifter>>;\n",
      "template class goetia::StreamingCompactorProcessor<goetia::dBG<goetia::storage::ByteStorage,\n",
      "                                                             goetia::hashing::RollingHashShifter>>;\n",
      "template class goetia::StreamingCompactorProcessor<goetia::dBG<goetia::storage::NibbleStorage,\n",
      "                                                             goetia::hashing::RollingHashShifter>>;\n",
      "template class goetia::StreamingCompactorProcessor<goetia::dBG<goetia::storage::QFStorage,\n",
      "                                                             goetia::hashing::RollingHashShifter>>;\n",
      "template class goetia::StreamingCompactorProcessor<goetia::dBG<goetia::storage::SparseppSetStorage,\n",
      "                                                             goetia::hashing::RollingHashShifter>>;\n",
      "\n",
      "extern\n",
      "template class goetia::StreamingCompactorProcessor<goetia::dBG<goetia::storage::BitStorage,\n",
      "                                                             goetia::hashing::RollingHashShifter>>;\n",
      "extern\n",
      "template class goetia::StreamingCompactorProcessor<goetia::dBG<goetia::storage::ByteStorage,\n",
      "                                                             goetia::hashing::RollingHashShifter>>;\n",
      "extern\n",
      "template class goetia::StreamingCompactorProcessor<goetia::dBG<goetia::storage::NibbleStorage,\n",
      "                                                             goetia::hashing::RollingHashShifter>>;\n",
      "extern\n",
      "template class goetia::StreamingCompactorProcessor<goetia::dBG<goetia::storage::QFStorage,\n",
      "                                                             goetia::hashing::RollingHashShifter>>;\n",
      "extern\n",
      "template class goetia::StreamingCompactorProcessor<goetia::dBG<goetia::storage::SparseppSetStorage,\n",
      "                                                             goetia::hashing::RollingHashShifter>>;\n"
     ]
    }
   ],
   "source": [
    "storage_decls('template class goetia::StreamingCompactorProcessor<goetia::dBG<goetia::storage::{},\\n'\n",
    "              '                                                             goetia::hashing::RollingHashShifter>>;')"
   ]
  },
  {
   "cell_type": "code",
   "execution_count": 29,
   "metadata": {},
   "outputs": [
    {
     "name": "stdout",
     "output_type": "stream",
     "text": [
      "template class goetia::signatures::UnikmerSignature<goetia::storage::BitStorage>;\n",
      "template class goetia::signatures::UnikmerSignature<goetia::storage::ByteStorage>;\n",
      "template class goetia::signatures::UnikmerSignature<goetia::storage::NibbleStorage>;\n",
      "template class goetia::signatures::UnikmerSignature<goetia::storage::QFStorage>;\n",
      "template class goetia::signatures::UnikmerSignature<goetia::storage::SparseppSetStorage>;\n",
      "\n",
      "extern\n",
      "template class goetia::signatures::UnikmerSignature<goetia::storage::BitStorage>;\n",
      "extern\n",
      "template class goetia::signatures::UnikmerSignature<goetia::storage::ByteStorage>;\n",
      "extern\n",
      "template class goetia::signatures::UnikmerSignature<goetia::storage::NibbleStorage>;\n",
      "extern\n",
      "template class goetia::signatures::UnikmerSignature<goetia::storage::QFStorage>;\n",
      "extern\n",
      "template class goetia::signatures::UnikmerSignature<goetia::storage::SparseppSetStorage>;\n"
     ]
    }
   ],
   "source": [
    "storage_decls('template class goetia::signatures::UnikmerSignature<goetia::storage::{}>;')"
   ]
  },
  {
   "cell_type": "code",
   "execution_count": 16,
   "metadata": {},
   "outputs": [
    {
     "name": "stdout",
     "output_type": "stream",
     "text": [
      "template class std::enable_shared_from_this<goetia::dBG<goetia::storage::BitStorage,\n",
      "                                                       goetia::hashing::RollingHashShifter>>;\n",
      "template class std::enable_shared_from_this<goetia::dBG<goetia::storage::ByteStorage,\n",
      "                                                       goetia::hashing::RollingHashShifter>>;\n",
      "template class std::enable_shared_from_this<goetia::dBG<goetia::storage::NibbleStorage,\n",
      "                                                       goetia::hashing::RollingHashShifter>>;\n",
      "template class std::enable_shared_from_this<goetia::dBG<goetia::storage::QFStorage,\n",
      "                                                       goetia::hashing::RollingHashShifter>>;\n",
      "template class std::enable_shared_from_this<goetia::dBG<goetia::storage::SparseppSetStorage,\n",
      "                                                       goetia::hashing::RollingHashShifter>>;\n",
      "\n",
      "extern\n",
      "template class std::enable_shared_from_this<goetia::dBG<goetia::storage::BitStorage,\n",
      "                                                       goetia::hashing::RollingHashShifter>>;\n",
      "extern\n",
      "template class std::enable_shared_from_this<goetia::dBG<goetia::storage::ByteStorage,\n",
      "                                                       goetia::hashing::RollingHashShifter>>;\n",
      "extern\n",
      "template class std::enable_shared_from_this<goetia::dBG<goetia::storage::NibbleStorage,\n",
      "                                                       goetia::hashing::RollingHashShifter>>;\n",
      "extern\n",
      "template class std::enable_shared_from_this<goetia::dBG<goetia::storage::QFStorage,\n",
      "                                                       goetia::hashing::RollingHashShifter>>;\n",
      "extern\n",
      "template class std::enable_shared_from_this<goetia::dBG<goetia::storage::SparseppSetStorage,\n",
      "                                                       goetia::hashing::RollingHashShifter>>;\n"
     ]
    }
   ],
   "source": [
    "storage_decls('template class std::enable_shared_from_this<goetia::dBG<goetia::storage::{},\\n'\n",
    "              '                                                       goetia::hashing::RollingHashShifter>>;')"
   ]
  },
  {
   "cell_type": "code",
   "execution_count": 15,
   "metadata": {},
   "outputs": [
    {
     "name": "stdout",
     "output_type": "stream",
     "text": [
      "template class std::enable_shared_from_this<goetia::PdBG<goetia::storage::BitStorage>>;\n",
      "template class std::enable_shared_from_this<goetia::PdBG<goetia::storage::ByteStorage>>;\n",
      "template class std::enable_shared_from_this<goetia::PdBG<goetia::storage::NibbleStorage>>;\n",
      "template class std::enable_shared_from_this<goetia::PdBG<goetia::storage::QFStorage>>;\n",
      "template class std::enable_shared_from_this<goetia::PdBG<goetia::storage::SparseppSetStorage>>;\n",
      "\n",
      "extern\n",
      "template class std::enable_shared_from_this<goetia::PdBG<goetia::storage::BitStorage>>;\n",
      "extern\n",
      "template class std::enable_shared_from_this<goetia::PdBG<goetia::storage::ByteStorage>>;\n",
      "extern\n",
      "template class std::enable_shared_from_this<goetia::PdBG<goetia::storage::NibbleStorage>>;\n",
      "extern\n",
      "template class std::enable_shared_from_this<goetia::PdBG<goetia::storage::QFStorage>>;\n",
      "extern\n",
      "template class std::enable_shared_from_this<goetia::PdBG<goetia::storage::SparseppSetStorage>>;\n"
     ]
    }
   ],
   "source": [
    "storage_decls('template class std::enable_shared_from_this<goetia::PdBG<goetia::storage::{}>>;')\n"
   ]
  },
  {
   "cell_type": "code",
   "execution_count": null,
   "metadata": {},
   "outputs": [],
   "source": []
  }
 ],
 "metadata": {
  "kernelspec": {
   "display_name": "Python 3",
   "language": "python",
   "name": "python3"
  },
  "language_info": {
   "codemirror_mode": {
    "name": "ipython",
    "version": 3
   },
   "file_extension": ".py",
   "mimetype": "text/x-python",
   "name": "python",
   "nbconvert_exporter": "python",
   "pygments_lexer": "ipython3",
   "version": "3.7.3"
  }
 },
 "nbformat": 4,
 "nbformat_minor": 2
}
