{
 "cells": [
  {
   "cell_type": "code",
   "execution_count": 1,
   "metadata": {},
   "outputs": [],
   "source": [
    "from boink.hashing import UKHShifter\n",
    "from boink.hashing import RollingHashShifter\n",
    "from debruijnal_enhance_o_tron.sequence import kmers\n",
    "from debruijnal_enhance_o_tron.sequence import get_random_sequence"
   ]
  },
  {
   "cell_type": "code",
   "execution_count": 5,
   "metadata": {},
   "outputs": [],
   "source": [
    "class dBG:\n",
    "    '''A basic de Bruijn Graph.\n",
    "    '''\n",
    "\n",
    "    def __init__(self, ksize, Sigma='ACGT', *args, **kwargs):\n",
    "        self.store = set()\n",
    "        self.tags = set()\n",
    "        self.ksize = ksize\n",
    "        self.Sigma = Sigma\n",
    "        self.Sigma_set = set(self.Sigma)\n",
    "        self.Sigma_list = list(self.Sigma)\n",
    "        \n",
    "    def kmers(self, sequence):\n",
    "        '''Yields the k-mers in the given sequence.\n",
    "        '''\n",
    "        for i in range(len(sequence) - self.ksize + 1):\n",
    "            yield sequence[i:i+self.ksize]\n",
    "\n",
    "    def reset(self):\n",
    "        '''Reset the dBG to an empty state.\n",
    "        '''\n",
    "        self.store.clear()\n",
    "\n",
    "    def get(self, item):\n",
    "        '''Return true if the item is in the dBG, false otherwise\n",
    "        '''\n",
    "        return item in self.store\n",
    "\n",
    "    def add(self, item):\n",
    "        '''Add the k-mer(s) from the given sequence to the dBG.\n",
    "        '''\n",
    "        if len(item) < self.ksize:\n",
    "            raise ValueError(item)\n",
    "        elif len(item) == self.ksize:\n",
    "            self.store.add(item)\n",
    "        else:\n",
    "            self.store.update(self.kmers(item))\n",
    "    \n",
    "    def tag(self, item, dist=3):\n",
    "        if len(item) < self.ksize:\n",
    "            raise ValueError(item)\n",
    "        count = 0\n",
    "        n_tagged = 0\n",
    "        for kmer in self.kmers(item):\n",
    "            if kmer in self.tags:\n",
    "                count = 0\n",
    "            else:\n",
    "                count += 1\n",
    "                if count > dist:\n",
    "                    self.tags.add(kmer)\n",
    "                    count = 0\n",
    "                    n_tagged += 1\n",
    "        return n_tagged\n",
    "    \n",
    "    def remove(self, item):\n",
    "        '''Remove the k-mer(s) from the given sequence from the dBG.\n",
    "        '''\n",
    "        if len(item) < self.ksize:\n",
    "            raise ValueError(item)\n",
    "        elif len(item) == self.ksize:\n",
    "            self.store.remove(item)\n",
    "        else:\n",
    "            self.store.difference_update(self.kmers(item))\n",
    "    \n",
    "    def suffix(self, sequence):\n",
    "        '''Returns the length k-1 suffix of the sequence.\n",
    "        '''\n",
    "        if len(sequence) < self.ksize:\n",
    "            raise ValueError('Sequence too short')\n",
    "        return sequence[-self.ksize+1:]\n",
    "    \n",
    "    def prefix(self, sequence):\n",
    "        '''Returns the length k-1 prefix of the sequence.\n",
    "        '''\n",
    "        if len(sequence) < self.ksize:\n",
    "            raise ValueError('Sequence too short')\n",
    "        return sequence[:self.ksize-1]\n",
    "    \n",
    "    def left_neighbors(self, item):\n",
    "        '''Yields the four left neighbors of the given k-mer.\n",
    "        '''\n",
    "        prefix = self.prefix(item)\n",
    "        for b in self.Sigma:\n",
    "            yield b + prefix\n",
    "    \n",
    "    def right_neighbors(self, item):\n",
    "        '''Yields the four right neighbors of the given k-mer.\n",
    "        '''\n",
    "        suffix = self.suffix(item)\n",
    "        for b in self.Sigma:\n",
    "            yield suffix + b\n",
    "\n",
    "    def left_degree(self, item):\n",
    "        '''Yields the in-degree (left degree) of the given k-mer.\n",
    "        '''\n",
    "        return sum((self.get(neighbor) for neighbor in self.left_neighbors(item)))\n",
    "\n",
    "    def right_degree(self, item):\n",
    "        '''Yields the out-degree (right degree) of the given k-mer.\n",
    "        '''\n",
    "        return sum((self.get(neighbor) for neighbor in self.right_neighbors(item)))\n",
    "    \n",
    "    def degree(self, item):\n",
    "        return self.left_degree(item), self.right_degree(item)\n",
    "    \n",
    "    def is_decision(self, kmer):\n",
    "        '''Returns True if the given k-mer is a decision k-mer in the dBG:\n",
    "        that is, if its in-degree or out-degree is greater than one.\n",
    "        '''\n",
    "        return self.left_degree(kmer) > 1 or self.right_degree(kmer) > 1\n",
    "\n",
    "    def find_decisions(self, sequence):\n",
    "        '''Yields the position and k-mer sequence of the decision k-mers in the \n",
    "        given sequence.\n",
    "        '''\n",
    "        for n, kmer in enumerate(self.kmers(sequence)):\n",
    "            if self.is_decision(kmer):\n",
    "                yield n, kmer"
   ]
  },
  {
   "cell_type": "code",
   "execution_count": 3,
   "metadata": {},
   "outputs": [],
   "source": [
    "import bbhash"
   ]
  },
  {
   "cell_type": "code",
   "execution_count": 2,
   "metadata": {},
   "outputs": [
    {
     "name": "stderr",
     "output_type": "stream",
     "text": [
      "UKHS: using W=20, K=7\n"
     ]
    }
   ],
   "source": [
    "ukhs = UKHShifter(27, 7)"
   ]
  },
  {
   "cell_type": "code",
   "execution_count": 3,
   "metadata": {},
   "outputs": [],
   "source": [
    "seq = get_random_sequence(100, 27)"
   ]
  },
  {
   "cell_type": "code",
   "execution_count": 4,
   "metadata": {},
   "outputs": [
    {
     "name": "stdout",
     "output_type": "stream",
     "text": [
      "b'ACAGTACAGTCAAGCGATACTCCGAGCTTAACCGGACAACGGTTCTCGCCTATCGCCCTTCACCTCAATTGGG'\n"
     ]
    },
    {
     "data": {
      "text/plain": [
       "[(4287246436847025391, 850),\n",
       " (4287246436847025391, 850),\n",
       " (4287246436847025391, 850),\n",
       " (4287246436847025391, 850),\n",
       " (6756425901368628185, 990),\n",
       " (6756425901368628185, 990),\n",
       " (6756425901368628185, 990),\n",
       " (6756425901368628185, 990),\n",
       " (26644528043774785, 3264),\n",
       " (26644528043774785, 3264),\n",
       " (26644528043774785, 3264),\n",
       " (26644528043774785, 3264),\n",
       " (26644528043774785, 3264),\n",
       " (26644528043774785, 3264),\n",
       " (26644528043774785, 3264),\n",
       " (26644528043774785, 3264),\n",
       " (26644528043774785, 3264),\n",
       " (26644528043774785, 3264),\n",
       " (26644528043774785, 3264),\n",
       " (26644528043774785, 3264),\n",
       " (26644528043774785, 3264),\n",
       " (26644528043774785, 3264),\n",
       " (26644528043774785, 3264),\n",
       " (26644528043774785, 3264),\n",
       " (26644528043774785, 3264),\n",
       " (26644528043774785, 3264),\n",
       " (26644528043774785, 3264),\n",
       " (26644528043774785, 3264),\n",
       " (26644528043774785, 3264),\n",
       " (3374902433127799277, 1075),\n",
       " (3374902433127799277, 1075),\n",
       " (923109349927235793, 1331),\n",
       " (923109349927235793, 1331),\n",
       " (923109349927235793, 1331),\n",
       " (923109349927235793, 1331),\n",
       " (923109349927235793, 1331),\n",
       " (923109349927235793, 1331),\n",
       " (923109349927235793, 1331),\n",
       " (923109349927235793, 1331),\n",
       " (923109349927235793, 1331),\n",
       " (923109349927235793, 1331),\n",
       " (923109349927235793, 1331),\n",
       " (923109349927235793, 1331),\n",
       " (923109349927235793, 1331),\n",
       " (923109349927235793, 1331),\n",
       " (923109349927235793, 1331),\n",
       " (923109349927235793, 1331),\n",
       " (923109349927235793, 1331),\n",
       " (923109349927235793, 1331),\n",
       " (923109349927235793, 1331),\n",
       " (923109349927235793, 1331),\n",
       " (923109349927235793, 1331),\n",
       " (4760973827227662090, 352),\n",
       " (4760973827227662090, 352),\n",
       " (4760973827227662090, 352),\n",
       " (4760973827227662090, 352),\n",
       " (4760973827227662090, 352),\n",
       " (4760973827227662090, 352),\n",
       " (4760973827227662090, 352),\n",
       " (4760973827227662090, 352),\n",
       " (12274243358220278312, 1203),\n",
       " (12274243358220278312, 1203),\n",
       " (742322610132807068, 483),\n",
       " (742322610132807068, 483),\n",
       " (742322610132807068, 483),\n",
       " (742322610132807068, 483),\n",
       " (742322610132807068, 483),\n",
       " (742322610132807068, 483),\n",
       " (742322610132807068, 483),\n",
       " (742322610132807068, 483),\n",
       " (742322610132807068, 483),\n",
       " (742322610132807068, 483),\n",
       " (742322610132807068, 483),\n",
       " (742322610132807068, 483)]"
      ]
     },
     "execution_count": 4,
     "metadata": {},
     "output_type": "execute_result"
    }
   ],
   "source": [
    "ukhs.find_unikmers(seq)"
   ]
  },
  {
   "cell_type": "code",
   "execution_count": 6,
   "metadata": {},
   "outputs": [],
   "source": [
    "ukhs.set_cursor(seq)"
   ]
  },
  {
   "cell_type": "code",
   "execution_count": 7,
   "metadata": {},
   "outputs": [
    {
     "data": {
      "text/plain": [
       "'CGTGCAGTTCTAAATTCGAAGCCTGCAGGCTTGGTCGTGGGTTAAAGAATTTACTGTACACCAGCACATACGGCACCAGCTAATAAAAATACTTAAACAA'"
      ]
     },
     "execution_count": 7,
     "metadata": {},
     "output_type": "execute_result"
    }
   ],
   "source": [
    "seq"
   ]
  },
  {
   "cell_type": "code",
   "execution_count": 15,
   "metadata": {},
   "outputs": [
    {
     "name": "stdout",
     "output_type": "stream",
     "text": [
      "(10973492759661448830, None)\n",
      "(9508044623959221480, None)\n",
      "(5551789466241464427, None)\n",
      "(9981562942641867623, None)\n",
      "(6910235179741095797, None)\n",
      "(16173567458420033444, 773)\n",
      "(9681429984473271322, None)\n",
      "(12286883827231201492, None)\n",
      "(10628437211489627735, None)\n",
      "(16179131663506539345, None)\n",
      "(11855042890701003513, None)\n",
      "(462264805413977041, None)\n",
      "(5361487379720942833, 1435)\n",
      "(15167255132354652849, None)\n",
      "(9767070260505360055, None)\n",
      "(2271294049989203678, None)\n",
      "(3429763133724022285, None)\n",
      "(17028648904892568591, None)\n",
      "(1970231056644343929, None)\n",
      "(5345211148680906421, None)\n",
      "(15199438622384311865, 21)\n",
      "(7361969857450458133, None)\n",
      "(17738795196983906787, None)\n",
      "(9931439664741875613, None)\n",
      "(15411137244630950085, None)\n",
      "(16236571949337440305, None)\n",
      "(17933022849944390058, None)\n",
      "(15190505698020061313, None)\n",
      "(17253953829566599353, None)\n",
      "(4819930053698499718, 957)\n",
      "(13816626555898921157, 155)\n",
      "(13332147360646422133, None)\n",
      "(4425900195240702665, None)\n",
      "(13340665749868037620, None)\n",
      "(12804676011767737231, None)\n",
      "(11898217557306738913, 1758)\n",
      "(17968778197695719894, None)\n",
      "(6092996541620212556, 2619)\n",
      "(9492807686967412797, None)\n",
      "(11623510983791579290, None)\n",
      "(9325400189813064019, None)\n",
      "(11880919204116628038, None)\n",
      "(7161673712181832232, None)\n",
      "(53626167473015726, None)\n",
      "(12328161675974042964, None)\n",
      "(18178709115218868385, None)\n",
      "(13707899354641478160, None)\n",
      "(16176675171767972308, 2428)\n",
      "(7680137566208037281, None)\n",
      "(17751190970372276374, None)\n",
      "(3083145406662860499, None)\n",
      "(9165795826749625091, None)\n",
      "(17218547609949330871, 2071)\n",
      "(11194366683976824892, None)\n",
      "(5998502094475439139, None)\n",
      "(13181929551547245559, None)\n",
      "(14693639319463020302, None)\n",
      "(15615660206686486591, 2379)\n",
      "(14837852380046874168, None)\n",
      "(14154084896572728639, 2000)\n",
      "(17607814655399468088, 1934)\n",
      "(13190811586428727615, None)\n",
      "(15960296688672119402, None)\n",
      "(18181023002981922694, None)\n",
      "(7248706085502253816, None)\n",
      "(17530273200652098617, 2175)\n",
      "(14259060301907516327, None)\n",
      "(17171803341824355093, None)\n",
      "(11109890741443728760, 1558)\n",
      "(2652322357543686464, None)\n",
      "(3827133968722949319, None)\n",
      "(3855447806880653504, None)\n",
      "(12175169244841402854, None)\n",
      "(14837852380046874168, None)\n",
      "(2933338114393199716, None)\n",
      "(1718647070856965019, None)\n",
      "(8073715770687889016, 1127)\n",
      "(6014333372235564261, None)\n",
      "(16167124664390961817, None)\n",
      "(7390162086172464594, None)\n",
      "(10567243520753328874, None)\n",
      "(1147474059546209136, 2357)\n",
      "(6442972878992250291, None)\n",
      "(1783275578754881902, None)\n",
      "(2008197580886072441, 655)\n",
      "(5421294142873857717, None)\n",
      "(4329076677671104354, None)\n",
      "(15153649911872433356, None)\n",
      "(16296954786638011082, None)\n",
      "(9432673442155034310, 2268)\n",
      "(3418037946617496360, None)\n",
      "(2476921093017980951, None)\n",
      "(1947723552378939744, None)\n",
      "(2066882772635040869, None)\n"
     ]
    }
   ],
   "source": [
    "for kmer in kmers(seq, 7):\n",
    "    print('(', hasher.hash(kmer), ', ', ukhs.query(hasher.hash(kmer)), ')', sep='')"
   ]
  },
  {
   "cell_type": "code",
   "execution_count": 8,
   "metadata": {},
   "outputs": [
    {
     "name": "stdout",
     "output_type": "stream",
     "text": [
      "b'GGCTTGGTCGTGGGTTAAAGAATTTACTGTACACCAGCACATACGGCACCAGCTAATAAAAATACTTAAACAA'\n"
     ]
    },
    {
     "data": {
      "text/plain": [
       "[(5361487379720942833, 1435),\n",
       " (5361487379720942833, 1435),\n",
       " (5361487379720942833, 1435),\n",
       " (5361487379720942833, 1435),\n",
       " (5361487379720942833, 1435),\n",
       " (5361487379720942833, 1435),\n",
       " (5361487379720942833, 1435),\n",
       " (5361487379720942833, 1435),\n",
       " (5361487379720942833, 1435),\n",
       " (4819930053698499718, 957),\n",
       " (4819930053698499718, 957),\n",
       " (4819930053698499718, 957),\n",
       " (4819930053698499718, 957),\n",
       " (4819930053698499718, 957),\n",
       " (4819930053698499718, 957),\n",
       " (4819930053698499718, 957),\n",
       " (4819930053698499718, 957),\n",
       " (4819930053698499718, 957),\n",
       " (4819930053698499718, 957),\n",
       " (4819930053698499718, 957),\n",
       " (4819930053698499718, 957),\n",
       " (4819930053698499718, 957),\n",
       " (4819930053698499718, 957),\n",
       " (4819930053698499718, 957),\n",
       " (4819930053698499718, 957),\n",
       " (4819930053698499718, 957),\n",
       " (4819930053698499718, 957),\n",
       " (4819930053698499718, 957),\n",
       " (4819930053698499718, 957),\n",
       " (4819930053698499718, 957),\n",
       " (6092996541620212556, 2619),\n",
       " (6092996541620212556, 2619),\n",
       " (6092996541620212556, 2619),\n",
       " (6092996541620212556, 2619),\n",
       " (6092996541620212556, 2619),\n",
       " (6092996541620212556, 2619),\n",
       " (6092996541620212556, 2619),\n",
       " (6092996541620212556, 2619),\n",
       " (15615660206686486591, 2379),\n",
       " (14154084896572728639, 2000),\n",
       " (14154084896572728639, 2000),\n",
       " (14154084896572728639, 2000),\n",
       " (14154084896572728639, 2000),\n",
       " (14154084896572728639, 2000),\n",
       " (14154084896572728639, 2000),\n",
       " (14154084896572728639, 2000),\n",
       " (14154084896572728639, 2000),\n",
       " (14154084896572728639, 2000),\n",
       " (11109890741443728760, 1558),\n",
       " (11109890741443728760, 1558),\n",
       " (11109890741443728760, 1558),\n",
       " (11109890741443728760, 1558),\n",
       " (11109890741443728760, 1558),\n",
       " (11109890741443728760, 1558),\n",
       " (11109890741443728760, 1558),\n",
       " (11109890741443728760, 1558),\n",
       " (8073715770687889016, 1127),\n",
       " (8073715770687889016, 1127),\n",
       " (8073715770687889016, 1127),\n",
       " (8073715770687889016, 1127),\n",
       " (8073715770687889016, 1127),\n",
       " (1147474059546209136, 2357),\n",
       " (1147474059546209136, 2357),\n",
       " (1147474059546209136, 2357),\n",
       " (1147474059546209136, 2357),\n",
       " (1147474059546209136, 2357),\n",
       " (1147474059546209136, 2357),\n",
       " (1147474059546209136, 2357),\n",
       " (1147474059546209136, 2357),\n",
       " (1147474059546209136, 2357),\n",
       " (1147474059546209136, 2357),\n",
       " (1147474059546209136, 2357),\n",
       " (1147474059546209136, 2357),\n",
       " (1147474059546209136, 2357)]"
      ]
     },
     "execution_count": 8,
     "metadata": {},
     "output_type": "execute_result"
    }
   ],
   "source": [
    "ukhs.find_unikmers(seq)"
   ]
  },
  {
   "cell_type": "code",
   "execution_count": 6,
   "metadata": {},
   "outputs": [],
   "source": [
    "c_ukhs = ukhs.hashes"
   ]
  },
  {
   "cell_type": "code",
   "execution_count": 7,
   "metadata": {},
   "outputs": [],
   "source": [
    "mph = bbhash.PyMPHF(c_ukhs, len(c_ukhs), 1, 2.0)"
   ]
  },
  {
   "cell_type": "code",
   "execution_count": 12,
   "metadata": {},
   "outputs": [
    {
     "name": "stdout",
     "output_type": "stream",
     "text": [
      "3966585810826196083 TCACCTG None False 1195\n",
      "12132712385095546648 CACCTGT None False 2647\n",
      "7690237574936954872 ACCTGTG None False 163\n",
      "9158360649715908088 CCTGTGT None False 2034\n",
      "5571541805904823269 CTGTGTT 1681 True 1681\n",
      "11591423859377237507 TGTGTTG None False 2715\n",
      "9782452822128919545 GTGTTGT 1219 True 1219\n",
      "14731550741190813589 TGTTGTG 1250 True 1250\n",
      "9832345464020448410 GTTGTGC None False 2180\n",
      "6488094177847892111 TTGTGCT 1980 True 1980\n",
      "11435990624582328251 TGTGCTA None False 2830\n",
      "3313502993816634566 GTGCTAC None False 2009\n",
      "1232448785995184182 TGCTACT None False 462\n",
      "16450901114743926674 GCTACTT None False None\n",
      "823832800960675651 CTACTTG None False 410\n",
      "8311279440186057436 TACTTGC None False 2884\n",
      "12235821944465034138 ACTTGCG 1137 True 1137\n",
      "8137706075476292833 CTTGCGG None False 43\n",
      "9536326726933558680 TTGCGGC None False 1179\n",
      "5174287711837398291 TGCGGCG None False None\n",
      "11461645855627522455 GCGGCGC None False None\n"
     ]
    }
   ],
   "source": [
    "for kmer in kmers(seq, 7):\n",
    "    h = hasher.hash(kmer)\n",
    "    print(h, kmer, ukhs.query(h), h in c_ukhs, mph.lookup(h))"
   ]
  },
  {
   "cell_type": "code",
   "execution_count": 13,
   "metadata": {},
   "outputs": [],
   "source": [
    "ukhs.set_cursor(seq)"
   ]
  },
  {
   "cell_type": "code",
   "execution_count": 14,
   "metadata": {},
   "outputs": [
    {
     "data": {
      "text/plain": [
       "5571541805904823269"
      ]
     },
     "execution_count": 14,
     "metadata": {},
     "output_type": "execute_result"
    }
   ],
   "source": [
    "ukhs.unikmer"
   ]
  },
  {
   "cell_type": "code",
   "execution_count": 15,
   "metadata": {},
   "outputs": [
    {
     "data": {
      "text/plain": [
       "1681"
      ]
     },
     "execution_count": 15,
     "metadata": {},
     "output_type": "execute_result"
    }
   ],
   "source": [
    "ukhs.partition"
   ]
  },
  {
   "cell_type": "code",
   "execution_count": 16,
   "metadata": {},
   "outputs": [
    {
     "data": {
      "text/plain": [
       "'TCACCTGTGTTGTGCTACTTGCGGCGC'"
      ]
     },
     "execution_count": 16,
     "metadata": {},
     "output_type": "execute_result"
    }
   ],
   "source": [
    "seq"
   ]
  },
  {
   "cell_type": "code",
   "execution_count": 17,
   "metadata": {},
   "outputs": [
    {
     "data": {
      "text/plain": [
       "13194817695400542713"
      ]
     },
     "execution_count": 17,
     "metadata": {},
     "output_type": "execute_result"
    }
   ],
   "source": [
    "ukhs.hashvalue"
   ]
  },
  {
   "cell_type": "code",
   "execution_count": 45,
   "metadata": {},
   "outputs": [],
   "source": [
    "hpp = ''\n",
    "cpp = ''\n",
    "for W in range(20, 210, 10):\n",
    "    for K in range(7, 10):\n",
    "        cpp += '    const std::vector<std::string> UKHSData::W{0}_K{1} = {{'.format(W, K)\n",
    "        hpp += '    static const std::vector<std::string> W{0}_K{1};\\n'.format(W, K)\n",
    "        with open('../boink/ukhs-data/res_{0}_{1}_4_0.txt'.format(K, W)) as fp:          \n",
    "            for n, line in enumerate(fp):\n",
    "                kmer = line.strip()\n",
    "                if n != 0:\n",
    "                    cpp += ', '\n",
    "                cpp += '\"{0}\"'.format(kmer)\n",
    "        cpp += '};\\n'"
   ]
  },
  {
   "cell_type": "code",
   "execution_count": 40,
   "metadata": {},
   "outputs": [
    {
     "name": "stdout",
     "output_type": "stream",
     "text": [
      "    static const std::vector<std::string> W20_K7;\n",
      "    static const std::vector<std::string> W20_K8;\n",
      "    static const std::vector<std::string> W20_K9;\n",
      "    static const std::vector<std::string> W30_K7;\n",
      "    static const std::vector<std::string> W30_K8;\n",
      "    static const std::vector<std::string> W30_K9;\n",
      "    static const std::vector<std::string> W40_K7;\n",
      "    static const std::vector<std::string> W40_K8;\n",
      "    static const std::vector<std::string> W40_K9;\n",
      "    static const std::vector<std::string> W50_K7;\n",
      "    static const std::vector<std::string> W50_K8;\n",
      "    static const std::vector<std::string> W50_K9;\n",
      "    static const std::vector<std::string> W60_K7;\n",
      "    static const std::vector<std::string> W60_K8;\n",
      "    static const std::vector<std::string> W60_K9;\n",
      "    static const std::vector<std::string> W70_K7;\n",
      "    static const std::vector<std::string> W70_K8;\n",
      "    static const std::vector<std::string> W70_K9;\n",
      "    static const std::vector<std::string> W80_K7;\n",
      "    static const std::vector<std::string> W80_K8;\n",
      "    static const std::vector<std::string> W80_K9;\n",
      "    static const std::vector<std::string> W90_K7;\n",
      "    static const std::vector<std::string> W90_K8;\n",
      "    static const std::vector<std::string> W90_K9;\n",
      "    static const std::vector<std::string> W100_K7;\n",
      "    static const std::vector<std::string> W100_K8;\n",
      "    static const std::vector<std::string> W100_K9;\n",
      "    static const std::vector<std::string> W110_K7;\n",
      "    static const std::vector<std::string> W110_K8;\n",
      "    static const std::vector<std::string> W110_K9;\n",
      "    static const std::vector<std::string> W120_K7;\n",
      "    static const std::vector<std::string> W120_K8;\n",
      "    static const std::vector<std::string> W120_K9;\n",
      "    static const std::vector<std::string> W130_K7;\n",
      "    static const std::vector<std::string> W130_K8;\n",
      "    static const std::vector<std::string> W130_K9;\n",
      "    static const std::vector<std::string> W140_K7;\n",
      "    static const std::vector<std::string> W140_K8;\n",
      "    static const std::vector<std::string> W140_K9;\n",
      "    static const std::vector<std::string> W150_K7;\n",
      "    static const std::vector<std::string> W150_K8;\n",
      "    static const std::vector<std::string> W150_K9;\n",
      "    static const std::vector<std::string> W160_K7;\n",
      "    static const std::vector<std::string> W160_K8;\n",
      "    static const std::vector<std::string> W160_K9;\n",
      "    static const std::vector<std::string> W170_K7;\n",
      "    static const std::vector<std::string> W170_K8;\n",
      "    static const std::vector<std::string> W170_K9;\n",
      "    static const std::vector<std::string> W180_K7;\n",
      "    static const std::vector<std::string> W180_K8;\n",
      "    static const std::vector<std::string> W180_K9;\n",
      "    static const std::vector<std::string> W190_K7;\n",
      "    static const std::vector<std::string> W190_K8;\n",
      "    static const std::vector<std::string> W190_K9;\n",
      "    static const std::vector<std::string> W200_K7;\n",
      "    static const std::vector<std::string> W200_K8;\n",
      "    static const std::vector<std::string> W200_K9;\n",
      "\n"
     ]
    }
   ],
   "source": [
    "print(hpp)"
   ]
  },
  {
   "cell_type": "code",
   "execution_count": 36,
   "metadata": {},
   "outputs": [],
   "source": [
    "func = 'const std::vector<std::string>& get_ukhs(int W, int K) {\\n    if '\n",
    "for W in range(20, 210, 10):\n",
    "    for K in range(7, 10):\n",
    "        func += '(W == {W} && K == {K}) {{\\n        return W{W}_K{K};\\n    }} else if '.format(W=W, K=K)\n",
    "func += '\\n}'"
   ]
  },
  {
   "cell_type": "code",
   "execution_count": 37,
   "metadata": {},
   "outputs": [
    {
     "name": "stdout",
     "output_type": "stream",
     "text": [
      "const std::vector<std::string>& get_ukhs(int W, int K) {\n",
      "    if (W == 20 && K == 7) {\n",
      "        return W20_K7;\n",
      "    } else if (W == 20 && K == 8) {\n",
      "        return W20_K8;\n",
      "    } else if (W == 20 && K == 9) {\n",
      "        return W20_K9;\n",
      "    } else if (W == 30 && K == 7) {\n",
      "        return W30_K7;\n",
      "    } else if (W == 30 && K == 8) {\n",
      "        return W30_K8;\n",
      "    } else if (W == 30 && K == 9) {\n",
      "        return W30_K9;\n",
      "    } else if (W == 40 && K == 7) {\n",
      "        return W40_K7;\n",
      "    } else if (W == 40 && K == 8) {\n",
      "        return W40_K8;\n",
      "    } else if (W == 40 && K == 9) {\n",
      "        return W40_K9;\n",
      "    } else if (W == 50 && K == 7) {\n",
      "        return W50_K7;\n",
      "    } else if (W == 50 && K == 8) {\n",
      "        return W50_K8;\n",
      "    } else if (W == 50 && K == 9) {\n",
      "        return W50_K9;\n",
      "    } else if (W == 60 && K == 7) {\n",
      "        return W60_K7;\n",
      "    } else if (W == 60 && K == 8) {\n",
      "        return W60_K8;\n",
      "    } else if (W == 60 && K == 9) {\n",
      "        return W60_K9;\n",
      "    } else if (W == 70 && K == 7) {\n",
      "        return W70_K7;\n",
      "    } else if (W == 70 && K == 8) {\n",
      "        return W70_K8;\n",
      "    } else if (W == 70 && K == 9) {\n",
      "        return W70_K9;\n",
      "    } else if (W == 80 && K == 7) {\n",
      "        return W80_K7;\n",
      "    } else if (W == 80 && K == 8) {\n",
      "        return W80_K8;\n",
      "    } else if (W == 80 && K == 9) {\n",
      "        return W80_K9;\n",
      "    } else if (W == 90 && K == 7) {\n",
      "        return W90_K7;\n",
      "    } else if (W == 90 && K == 8) {\n",
      "        return W90_K8;\n",
      "    } else if (W == 90 && K == 9) {\n",
      "        return W90_K9;\n",
      "    } else if (W == 100 && K == 7) {\n",
      "        return W100_K7;\n",
      "    } else if (W == 100 && K == 8) {\n",
      "        return W100_K8;\n",
      "    } else if (W == 100 && K == 9) {\n",
      "        return W100_K9;\n",
      "    } else if (W == 110 && K == 7) {\n",
      "        return W110_K7;\n",
      "    } else if (W == 110 && K == 8) {\n",
      "        return W110_K8;\n",
      "    } else if (W == 110 && K == 9) {\n",
      "        return W110_K9;\n",
      "    } else if (W == 120 && K == 7) {\n",
      "        return W120_K7;\n",
      "    } else if (W == 120 && K == 8) {\n",
      "        return W120_K8;\n",
      "    } else if (W == 120 && K == 9) {\n",
      "        return W120_K9;\n",
      "    } else if (W == 130 && K == 7) {\n",
      "        return W130_K7;\n",
      "    } else if (W == 130 && K == 8) {\n",
      "        return W130_K8;\n",
      "    } else if (W == 130 && K == 9) {\n",
      "        return W130_K9;\n",
      "    } else if (W == 140 && K == 7) {\n",
      "        return W140_K7;\n",
      "    } else if (W == 140 && K == 8) {\n",
      "        return W140_K8;\n",
      "    } else if (W == 140 && K == 9) {\n",
      "        return W140_K9;\n",
      "    } else if (W == 150 && K == 7) {\n",
      "        return W150_K7;\n",
      "    } else if (W == 150 && K == 8) {\n",
      "        return W150_K8;\n",
      "    } else if (W == 150 && K == 9) {\n",
      "        return W150_K9;\n",
      "    } else if (W == 160 && K == 7) {\n",
      "        return W160_K7;\n",
      "    } else if (W == 160 && K == 8) {\n",
      "        return W160_K8;\n",
      "    } else if (W == 160 && K == 9) {\n",
      "        return W160_K9;\n",
      "    } else if (W == 170 && K == 7) {\n",
      "        return W170_K7;\n",
      "    } else if (W == 170 && K == 8) {\n",
      "        return W170_K8;\n",
      "    } else if (W == 170 && K == 9) {\n",
      "        return W170_K9;\n",
      "    } else if (W == 180 && K == 7) {\n",
      "        return W180_K7;\n",
      "    } else if (W == 180 && K == 8) {\n",
      "        return W180_K8;\n",
      "    } else if (W == 180 && K == 9) {\n",
      "        return W180_K9;\n",
      "    } else if (W == 190 && K == 7) {\n",
      "        return W190_K7;\n",
      "    } else if (W == 190 && K == 8) {\n",
      "        return W190_K8;\n",
      "    } else if (W == 190 && K == 9) {\n",
      "        return W190_K9;\n",
      "    } else if (W == 200 && K == 7) {\n",
      "        return W200_K7;\n",
      "    } else if (W == 200 && K == 8) {\n",
      "        return W200_K8;\n",
      "    } else if (W == 200 && K == 9) {\n",
      "        return W200_K9;\n",
      "    } else if \n",
      "}\n"
     ]
    }
   ],
   "source": [
    "print(func)"
   ]
  },
  {
   "cell_type": "code",
   "execution_count": 46,
   "metadata": {},
   "outputs": [],
   "source": [
    "with open('defs.cc', 'w') as fp:\n",
    "    print(cpp, file=fp)"
   ]
  },
  {
   "cell_type": "code",
   "execution_count": null,
   "metadata": {},
   "outputs": [],
   "source": []
  }
 ],
 "metadata": {
  "kernelspec": {
   "display_name": "Python 3",
   "language": "python",
   "name": "python3"
  },
  "language_info": {
   "codemirror_mode": {
    "name": "ipython",
    "version": 3
   },
   "file_extension": ".py",
   "mimetype": "text/x-python",
   "name": "python",
   "nbconvert_exporter": "python",
   "pygments_lexer": "ipython3",
   "version": "3.6.8"
  }
 },
 "nbformat": 4,
 "nbformat_minor": 2
}
