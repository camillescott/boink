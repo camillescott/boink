{
 "cells": [
  {
   "cell_type": "code",
   "execution_count": 4,
   "metadata": {},
   "outputs": [],
   "source": [
    "from boink import libboink\n",
    "from cppyy.gbl import std"
   ]
  },
  {
   "cell_type": "markdown",
   "metadata": {},
   "source": [
    "## dBGs and Storage Backends"
   ]
  },
  {
   "cell_type": "code",
   "execution_count": 2,
   "metadata": {},
   "outputs": [],
   "source": [
    "from boink.storage import types"
   ]
  },
  {
   "cell_type": "code",
   "execution_count": 3,
   "metadata": {},
   "outputs": [
    {
     "data": {
      "text/plain": [
       "[(<class boink.boink.storage.SparseppSetStorage at 0x55ecf0416068>, ()),\n",
       " (<class boink.boink.storage.BitStorage at 0x55eceb3ccc18>, (100000, 4)),\n",
       " (<class boink.boink.storage.ByteStorage at 0x55ecf2089648>, (100000, 4)),\n",
       " (<class boink.boink.storage.NibbleStorage at 0x55ecf18ea248>, (100000, 4))]"
      ]
     },
     "execution_count": 3,
     "metadata": {},
     "output_type": "execute_result"
    }
   ],
   "source": [
    "types"
   ]
  },
  {
   "cell_type": "code",
   "execution_count": 23,
   "metadata": {},
   "outputs": [],
   "source": [
    "# dBG requires selecting a storage backend type and a HashShifter\n",
    "# using std.make_shared here; most of the classes have a `build` method that does this for you\n",
    "#\n",
    "# dBG just needs K and the storage backend args which are forwarded; sparsepp takes no parameters\n",
    "G = libboink.dBG[libboink.storage.BitStorage, libboink.hashing.RollingHashShifter](27, 1e9, 4)"
   ]
  },
  {
   "cell_type": "code",
   "execution_count": 26,
   "metadata": {},
   "outputs": [],
   "source": [
    "s = 'ATTGGTGGGGGGTTAAGCATTAGGGCTTCGGGATTGAGAGGCGGCTTGGAGGCTGGATTGGATGGGGGCCC'"
   ]
  },
  {
   "cell_type": "code",
   "execution_count": 27,
   "metadata": {},
   "outputs": [
    {
     "data": {
      "text/plain": [
       "45"
      ]
     },
     "execution_count": 27,
     "metadata": {},
     "output_type": "execute_result"
    }
   ],
   "source": [
    "# most classes have an insert_sequence method\n",
    "G.insert_sequence(s)"
   ]
  },
  {
   "cell_type": "code",
   "execution_count": 28,
   "metadata": {},
   "outputs": [
    {
     "data": {
      "text/plain": [
       "False"
      ]
     },
     "execution_count": 28,
     "metadata": {},
     "output_type": "execute_result"
    }
   ],
   "source": [
    "# and a singular insert which returns true if it was new\n",
    "G.insert(s[:27])"
   ]
  },
  {
   "cell_type": "code",
   "execution_count": 29,
   "metadata": {},
   "outputs": [
    {
     "name": "stdout",
     "output_type": "stream",
     "text": [
      "[1, 1, 1, 1, 1, 1, 1, 1, 1, 1, 1, 1, 1, 1, 1, 1, 1, 1, 1, 1, 1, 1, 1, 1, 1, 1, 1, 1, 1, 1, 1, 1, 1, 1, 1, 1, 1, 1, 1, 1, 1, 1, 1, 1, 1]\n"
     ]
    }
   ],
   "source": [
    "# and a query_sequence\n",
    "print(list(G.query_sequence(s)))"
   ]
  },
  {
   "cell_type": "code",
   "execution_count": 30,
   "metadata": {},
   "outputs": [
    {
     "data": {
      "text/plain": [
       "1"
      ]
     },
     "execution_count": 30,
     "metadata": {},
     "output_type": "execute_result"
    }
   ],
   "source": [
    "# a singular query\n",
    "G.query(s[:27])"
   ]
  },
  {
   "cell_type": "code",
   "execution_count": 31,
   "metadata": {},
   "outputs": [
    {
     "data": {
      "text/plain": [
       "2577189700350246034"
      ]
     },
     "execution_count": 31,
     "metadata": {},
     "output_type": "execute_result"
    }
   ],
   "source": [
    "# hashing is exposed\n",
    "G.hash(s[:27])"
   ]
  },
  {
   "cell_type": "code",
   "execution_count": 32,
   "metadata": {},
   "outputs": [
    {
     "name": "stdout",
     "output_type": "stream",
     "text": [
      "[2577189700350246034, 8157524563900105813, 976852507395428518, 12324987029815495891, 10658277023130058089, 16297434423602060829, 1265197936883675427, 8069163247128254292, 10597096273789901754, 16419956433799369659, 7458031455164588862, 792354833489535666, 13096621447712637229, 15823051604126871492, 520826598524547606, 17159791041573895442, 7197840324594865800, 159941501291514334, 15777739334822124084, 9463968503222651160, 4585634713013562994, 14938781674309054843, 2379613782693056090, 16299268791245789437, 115624102988371253, 14324276620671143588, 5985744407804040385, 11470032406306264513, 10253756668508898844, 11380580455952576546, 11232379462242411532, 8873344350613388555, 13451776833368133380, 14625690706806502052, 2730899161324767446, 11392676551898668212, 8129979699823430779, 6774119026599556187, 8789478427345620088, 5499312610830316637, 6727663059684428916, 9170852099288595494, 2310183312491655620, 15713708818736001749, 3325914688541209846]\n"
     ]
    }
   ],
   "source": [
    "print(list(G.hashes(s)))"
   ]
  },
  {
   "cell_type": "code",
   "execution_count": 33,
   "metadata": {},
   "outputs": [
    {
     "data": {
      "text/plain": [
       "45"
      ]
     },
     "execution_count": 33,
     "metadata": {},
     "output_type": "execute_result"
    }
   ],
   "source": [
    "G.n_unique()"
   ]
  },
  {
   "cell_type": "code",
   "execution_count": null,
   "metadata": {},
   "outputs": [],
   "source": []
  }
 ],
 "metadata": {
  "kernelspec": {
   "display_name": "Python 3",
   "language": "python",
   "name": "python3"
  },
  "language_info": {
   "codemirror_mode": {
    "name": "ipython",
    "version": 3
   },
   "file_extension": ".py",
   "mimetype": "text/x-python",
   "name": "python",
   "nbconvert_exporter": "python",
   "pygments_lexer": "ipython3",
   "version": "3.7.3"
  }
 },
 "nbformat": 4,
 "nbformat_minor": 2
}
