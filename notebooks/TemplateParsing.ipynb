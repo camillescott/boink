{
 "cells": [
  {
   "cell_type": "code",
   "execution_count": 72,
   "metadata": {},
   "outputs": [],
   "source": [
    "from collections import deque\n",
    "from goetia import libgoetia"
   ]
  },
  {
   "cell_type": "code",
   "execution_count": 40,
   "metadata": {},
   "outputs": [],
   "source": [
    "test = 'goetia::hashing::KmerIterator< goetia::hashing::HashShifter <goetia::hashing::Hash< uint64_t, size_t > >, DNA_SIMPLE >'"
   ]
  },
  {
   "cell_type": "code",
   "execution_count": 41,
   "metadata": {},
   "outputs": [],
   "source": [
    "class Node:\n",
    "    def __init__(self, string):\n",
    "        tokens = string.strip().split('::')\n",
    "        self.namespace = tuple(tokens[:-1])\n",
    "        self.name = tokens[-1]\n",
    "        self.children = []\n",
    "        self.parent = None\n",
    "\n",
    "    def __str__(self):\n",
    "        return '::'.join(self.namespace + (self.name,))\n",
    "\n",
    "    def __repr__(self):\n",
    "        return str(self)"
   ]
  },
  {
   "cell_type": "code",
   "execution_count": 55,
   "metadata": {},
   "outputs": [],
   "source": [
    "def parse_template(string):\n",
    "    buffer = []\n",
    "    stack = []\n",
    "    root = None\n",
    "    \n",
    "    for c in string:\n",
    "        if c == '<':\n",
    "            n = Node(''.join(buffer))\n",
    "            if root is not None:\n",
    "                root.children.append(n)\n",
    "                n.parent = root\n",
    "            root = n\n",
    "            print(n)\n",
    "            stack.append(c)\n",
    "            buffer = []\n",
    "        elif c == '>':\n",
    "            stack.pop()\n",
    "            if buffer:\n",
    "                n = Node(''.join(buffer))\n",
    "                n.parent = root\n",
    "                root.children.append(n)\n",
    "                print(n)\n",
    "                buffer = []\n",
    "            if root.parent is not None:\n",
    "                root = root.parent\n",
    "        elif c == ',' and buffer:\n",
    "            n = Node(''.join(buffer))\n",
    "            root.children.append(n)\n",
    "            n.parent = root\n",
    "            buffer = []\n",
    "            print(n)\n",
    "        elif c not in '<> ,;':\n",
    "            buffer.append(c)\n",
    "    assert stack == []\n",
    "    return root"
   ]
  },
  {
   "cell_type": "code",
   "execution_count": 56,
   "metadata": {},
   "outputs": [
    {
     "name": "stdout",
     "output_type": "stream",
     "text": [
      "goetia::hashing::KmerIterator\n",
      "goetia::hashing::HashShifter\n",
      "goetia::hashing::Hash\n",
      "uint64_t\n",
      "size_t\n",
      "DNA_SIMPLE\n"
     ]
    }
   ],
   "source": [
    "root = parse_template(test)"
   ]
  },
  {
   "cell_type": "code",
   "execution_count": 71,
   "metadata": {},
   "outputs": [
    {
     "name": "stdout",
     "output_type": "stream",
     "text": [
      "0 goetia::hashing::KmerIterator\n",
      "1 goetia::hashing::HashShifter\n",
      "1 DNA_SIMPLE\n",
      "2 goetia::hashing::Hash\n",
      "3 uint64_t\n",
      "3 size_t\n"
     ]
    }
   ],
   "source": [
    "cursor = root\n",
    "seen = set()\n",
    "process = deque([(1, n) for n in root.children])\n",
    "print(0, root)\n",
    "while process:\n",
    "    level , node = process.popleft()\n",
    "    process.extend([(level + 1, n) for n in node.children])\n",
    "    print(level, node)\n",
    "    "
   ]
  },
  {
   "cell_type": "code",
   "execution_count": 61,
   "metadata": {},
   "outputs": [],
   "source": [
    "process = deque()"
   ]
  },
  {
   "cell_type": "code",
   "execution_count": 62,
   "metadata": {},
   "outputs": [
    {
     "data": {
      "text/plain": [
       "\u001b[0;31mType:\u001b[0m        deque\n",
       "\u001b[0;31mString form:\u001b[0m deque([])\n",
       "\u001b[0;31mLength:\u001b[0m      0\n",
       "\u001b[0;31mFile:\u001b[0m        ~/miniconda/envs/goetia-sourmash/lib/python3.7/collections/__init__.py\n",
       "\u001b[0;31mDocstring:\u001b[0m  \n",
       "deque([iterable[, maxlen]]) --> deque object\n",
       "\n",
       "A list-like sequence optimized for data accesses near its endpoints.\n"
      ]
     },
     "metadata": {},
     "output_type": "display_data"
    }
   ],
   "source": [
    "?process"
   ]
  },
  {
   "cell_type": "code",
   "execution_count": 77,
   "metadata": {},
   "outputs": [
    {
     "name": "stdout",
     "output_type": "stream",
     "text": [
      "HashShifter\n",
      "goetia::hashing::LemireShifterPolicy\n",
      "goetia::hashing::Hash\n",
      "unsignedlong\n",
      "goetia::DNA_SIMPLE\n"
     ]
    },
    {
     "data": {
      "text/plain": [
       "'LemireShifterPolicy'"
      ]
     },
     "execution_count": 77,
     "metadata": {},
     "output_type": "execute_result"
    }
   ],
   "source": [
    "parse_template(libgoetia.hashing.FwdLemireShifter.__name__).children[0].name"
   ]
  },
  {
   "cell_type": "code",
   "execution_count": 81,
   "metadata": {},
   "outputs": [
    {
     "data": {
      "text/plain": [
       "'goetia::hashing::HashShifter<goetia::hashing::LemireShifterPol'"
      ]
     },
     "execution_count": 81,
     "metadata": {},
     "output_type": "execute_result"
    }
   ],
   "source": [
    "libgoetia.hashing.FwdLemireShifter.NAME"
   ]
  },
  {
   "cell_type": "code",
   "execution_count": null,
   "metadata": {},
   "outputs": [],
   "source": []
  }
 ],
 "metadata": {
  "kernelspec": {
   "display_name": "Python 3",
   "language": "python",
   "name": "python3"
  },
  "language_info": {
   "codemirror_mode": {
    "name": "ipython",
    "version": 3
   },
   "file_extension": ".py",
   "mimetype": "text/x-python",
   "name": "python",
   "nbconvert_exporter": "python",
   "pygments_lexer": "ipython3",
   "version": "3.7.6"
  }
 },
 "nbformat": 4,
 "nbformat_minor": 4
}
