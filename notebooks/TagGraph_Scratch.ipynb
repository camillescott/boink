{
 "cells": [
  {
   "cell_type": "code",
   "execution_count": 4,
   "metadata": {},
   "outputs": [],
   "source": [
    "from boltons.iterutils import pairwise\n",
    "from boltons.iterutils import windowed_iter as windowed\n",
    "\n",
    "from boink import libboink\n",
    "from boink.dbg import dBG\n",
    "from boink.hashing import CanUnikmerShifter\n",
    "from boink.storage import SparseppSetStorage\n",
    "from boink.traversal import STATES\n",
    "\n",
    "make_masked = libboink.make_masked\n",
    "\n",
    "from debruijnal_enhance_o_tron.generators.generator import SequenceGenerator\n",
    "\n",
    "from cppyy.gbl import std"
   ]
  },
  {
   "cell_type": "code",
   "execution_count": 2,
   "metadata": {},
   "outputs": [
    {
     "ename": "SyntaxError",
     "evalue": "unexpected EOF while parsing (<ipython-input-2-e46dd97bc70c>, line 60)",
     "output_type": "error",
     "traceback": [
      "\u001b[0;36m  File \u001b[0;32m\"<ipython-input-2-e46dd97bc70c>\"\u001b[0;36m, line \u001b[0;32m60\u001b[0m\n\u001b[0;31m    \u001b[0m\n\u001b[0m    ^\u001b[0m\n\u001b[0;31mSyntaxError\u001b[0m\u001b[0;31m:\u001b[0m unexpected EOF while parsing\n"
     ]
    }
   ],
   "source": [
    "class Tag:\n",
    "    def __init__(self, link, L, R):\n",
    "        self.link = link\n",
    "        self.L = L\n",
    "        self.R = R\n",
    "    \n",
    "    def __repr__(self):\n",
    "        return f'<Tag link={self.link}, L={self.L}, R={self.R}>'\n",
    "\n",
    "class Tip:\n",
    "    def __init__(self, kmer, partner, neighbor_tag, unitig_dir):\n",
    "        self.kmer = kmer\n",
    "        self.partner = partner\n",
    "        self.neighbor_tag = neighbor_tag\n",
    "        self.unitig_dir = unitig_dir\n",
    "\n",
    "class TagGraph:\n",
    "    def __init__(self, tagger):\n",
    "        self.tagger = tagger\n",
    "        self.dbg = tagger.dbg\n",
    "        self.tag_map = {}\n",
    "        self.tip_map = {}\n",
    "    \n",
    "    def find_new_tags(self, sequence):\n",
    "        segments = self.tagger.build_new_segments(self.tagger.filter_new_extensions(self.tagger.find_new_extensions(sequence)))\n",
    "        links = []\n",
    "        tags = {}\n",
    "        \n",
    "        for segment in segments:\n",
    "            segment_links = []\n",
    "            for u, v in pairwise(segment):\n",
    "                uh, up, unb = u\n",
    "                vh, vp, vnb = v\n",
    "            \n",
    "                if self.tagger.is_tag(uh, vh):\n",
    "                    segment_links.append((uh, vh))\n",
    "            links.append(segment_links)\n",
    "        \n",
    "        make_link = lambda pair: (pair[0].value, pair[1].value) \n",
    "        \n",
    "        for link_chain, segment in zip(links, segments):\n",
    "            \n",
    "            tags[make_link(link_chain[0])] = Tag(make_link(link_chain[0]), None, make_link(link_chain[1]))\n",
    "            for ulink, vlink, wlink in windowed(link_chain, 3):\n",
    "                tags[make_link(vlink)] = Tag(make_link(vlink), make_link(ulink), make_link(wlink))\n",
    "            tags[make_link(link_chain[-1])] = Tag(make_link(link_chain[-1]), make_link(link_chain[-2]), None)\n",
    "        \n",
    "        return tags\n",
    "    \n",
    "    def find_segments(self, sequence):\n",
    "        return self.tagger.build_new_segments(self.tagger.filter_new_extensions(self.tagger.find_new_extensions(sequence)))\n",
    "    \n",
    "    def solve_internal_cdbg(self, sequence, segments):\n",
    "        for segment in segments:\n",
    "            for segment_u, segment_v in pairwise(segments):\n",
    "                \n",
    "    \n",
    "    def find_split_seeds(self, sequence, segments):\n",
    "        new = std.set[self.dbg.hash_type]()\n",
    "        for segment in segments:\n",
    "            for h, upos, (_, _) in segment:\n",
    "                new.insert(h)\n",
    "        \n",
    "        masked = make_masked(self.dbg, new)\n",
    "        \n",
    "        for segment in segments:\n",
    "            front_h, front_pos, (front_lneighbors, _) = segment[0]\n",
    "            \n",
    "            search_from = masked.filter_nodes(front_lneighbors)\n",
    "            masked.set_cursor(sequence[front_pos:front_pos+K])\n",
    "            \n",
    "            "
   ]
  },
  {
   "cell_type": "code",
   "execution_count": 109,
   "metadata": {},
   "outputs": [],
   "source": [
    "K = 31\n",
    "\n",
    "tagger_type = libboink.cdbg.USparseGraph[SparseppSetStorage].Graph\n",
    "store = SparseppSetStorage.build()\n",
    "hasher = CanUnikmerShifter.build(K, 7)\n",
    "\n",
    "graph = dBG[type(store), CanUnikmerShifter].build(store, hasher)\n",
    "tagger = tagger_type.build(graph, hasher.ukhs_map)\n",
    "\n",
    "generator = SequenceGenerator(ksize=K, rseed=42)\n",
    "\n",
    "tg = TagGraph(tagger)\n",
    "seq = generator.random_unitig(100)"
   ]
  },
  {
   "cell_type": "code",
   "execution_count": 111,
   "metadata": {},
   "outputs": [
    {
     "data": {
      "text/plain": [
       "{(7934545079051529215,\n",
       "  2764121419379474404): <Tag link=(7934545079051529215, 2764121419379474404), L=None, R=(818812955200927988, 15129357215172498693)>,\n",
       " (818812955200927988,\n",
       "  15129357215172498693): <Tag link=(818812955200927988, 15129357215172498693), L=(7934545079051529215, 2764121419379474404), R=(830867074220822841, 3680904267476707804)>,\n",
       " (830867074220822841,\n",
       "  3680904267476707804): <Tag link=(830867074220822841, 3680904267476707804), L=(818812955200927988, 15129357215172498693), R=(8408950140949573313, 324211508350410007)>,\n",
       " (8408950140949573313,\n",
       "  324211508350410007): <Tag link=(8408950140949573313, 324211508350410007), L=(830867074220822841, 3680904267476707804), R=(11481326741199404490, 2400874475101700531)>,\n",
       " (11481326741199404490,\n",
       "  2400874475101700531): <Tag link=(11481326741199404490, 2400874475101700531), L=(8408950140949573313, 324211508350410007), R=(1566111346320143109, 2625455515602636957)>,\n",
       " (1566111346320143109,\n",
       "  2625455515602636957): <Tag link=(1566111346320143109, 2625455515602636957), L=(11481326741199404490, 2400874475101700531), R=None>}"
      ]
     },
     "execution_count": 111,
     "metadata": {},
     "output_type": "execute_result"
    }
   ],
   "source": [
    "tg.find_new_tags(seq)"
   ]
  },
  {
   "cell_type": "code",
   "execution_count": 102,
   "metadata": {},
   "outputs": [
    {
     "data": {
      "text/plain": [
       "{(7934545079051529215,\n",
       "  2764121419379474404): <Tag link=(7934545079051529215, 2764121419379474404), L=None, R=(818812955200927988, 15129357215172498693)>,\n",
       " (818812955200927988,\n",
       "  15129357215172498693): <Tag link=(818812955200927988, 15129357215172498693), L=(7934545079051529215, 2764121419379474404), R=(830867074220822841, 3680904267476707804)>,\n",
       " (830867074220822841,\n",
       "  3680904267476707804): <Tag link=(830867074220822841, 3680904267476707804), L=(818812955200927988, 15129357215172498693), R=(8408950140949573313, 324211508350410007)>,\n",
       " (8408950140949573313,\n",
       "  324211508350410007): <Tag link=(8408950140949573313, 324211508350410007), L=(830867074220822841, 3680904267476707804), R=(11481326741199404490, 2400874475101700531)>,\n",
       " (11481326741199404490,\n",
       "  2400874475101700531): <Tag link=(11481326741199404490, 2400874475101700531), L=(8408950140949573313, 324211508350410007), R=(1566111346320143109, 2625455515602636957)>}"
      ]
     },
     "execution_count": 102,
     "metadata": {},
     "output_type": "execute_result"
    }
   ],
   "source": [
    "tg.tag_map"
   ]
  },
  {
   "cell_type": "code",
   "execution_count": null,
   "metadata": {},
   "outputs": [],
   "source": []
  }
 ],
 "metadata": {
  "kernelspec": {
   "display_name": "Python 3",
   "language": "python",
   "name": "python3"
  },
  "language_info": {
   "codemirror_mode": {
    "name": "ipython",
    "version": 3
   },
   "file_extension": ".py",
   "mimetype": "text/x-python",
   "name": "python",
   "nbconvert_exporter": "python",
   "pygments_lexer": "ipython3",
   "version": "3.7.6"
  }
 },
 "nbformat": 4,
 "nbformat_minor": 4
}
